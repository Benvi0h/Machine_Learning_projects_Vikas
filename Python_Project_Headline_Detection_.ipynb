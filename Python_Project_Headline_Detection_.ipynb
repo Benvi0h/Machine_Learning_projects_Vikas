{
  "cells": [
    {
      "cell_type": "markdown",
      "metadata": {
        "id": "view-in-github",
        "colab_type": "text"
      },
      "source": [
        "<a href=\"https://colab.research.google.com/github/Benvi0h/Machine_Learning_projects_Vikas/blob/main/Python_Project_Headline_Detection_.ipynb\" target=\"_parent\"><img src=\"https://colab.research.google.com/assets/colab-badge.svg\" alt=\"Open In Colab\"/></a>"
      ]
    },
    {
      "cell_type": "markdown",
      "id": "d4991c8f",
      "metadata": {
        "id": "d4991c8f"
      },
      "source": [
        "# HEADLINE EXTRACTION FROM ARTICLES"
      ]
    },
    {
      "cell_type": "markdown",
      "source": [
        "TEAM:\n",
        "\n",
        "VIKAS BENHUR CHITLA \n",
        "\n",
        "LAKSHMINARASIMHAN P S"
      ],
      "metadata": {
        "id": "8SgozzKBwIlW"
      },
      "id": "8SgozzKBwIlW"
    },
    {
      "cell_type": "markdown",
      "id": "b7fd1dd7",
      "metadata": {
        "id": "b7fd1dd7"
      },
      "source": [
        "# LIBRARIES"
      ]
    },
    {
      "cell_type": "code",
      "execution_count": null,
      "id": "58d6c794",
      "metadata": {
        "id": "58d6c794"
      },
      "outputs": [],
      "source": [
        "import pytesseract as pp\n",
        "import PIL as Image\n",
        "import pandas as pd \n",
        "import numpy as np\n",
        "import cv2 as cv\n",
        "import matplotlib.pyplot as plt\n",
        "\n",
        "image = cv.imread('newspaper2.jpg')"
      ]
    },
    {
      "cell_type": "markdown",
      "id": "ad8aaece",
      "metadata": {
        "id": "ad8aaece"
      },
      "source": [
        "# GRAYSCALE"
      ]
    },
    {
      "cell_type": "code",
      "execution_count": null,
      "id": "32bf949c",
      "metadata": {
        "id": "32bf949c"
      },
      "outputs": [],
      "source": [
        "def grayscale(img):\n",
        "    return cv.cvtColor(img,cv.COLOR_BGR2GRAY)"
      ]
    },
    {
      "cell_type": "code",
      "execution_count": null,
      "id": "611ee689",
      "metadata": {
        "id": "611ee689"
      },
      "outputs": [],
      "source": [
        "grayscaled_image = grayscale(image)\n",
        "# cv.imshow(\"\",grayscaled_image)\n",
        "# cv.waitKey(0)"
      ]
    },
    {
      "cell_type": "markdown",
      "id": "b615b33b",
      "metadata": {
        "id": "b615b33b"
      },
      "source": [
        "# PRE-PROCESSING"
      ]
    },
    {
      "cell_type": "code",
      "execution_count": null,
      "id": "ed4465a8",
      "metadata": {
        "id": "ed4465a8"
      },
      "outputs": [],
      "source": [
        "treshold , im_bw = cv.threshold(grayscaled_image , 190,245,cv.THRESH_BINARY)\n",
        "kernel = np.ones((3,1),np.uint8)\n",
        "im_bw = cv.erode(im_bw , kernel ,iterations = 1)\n",
        "\n",
        "# cv.imshow(\"\",im_bw)\n",
        "# cv.waitKey(0)"
      ]
    },
    {
      "cell_type": "markdown",
      "id": "73508b1d",
      "metadata": {
        "id": "73508b1d"
      },
      "source": [
        "# NOISE REMOVAL"
      ]
    },
    {
      "cell_type": "code",
      "execution_count": null,
      "id": "9f82ce10",
      "metadata": {
        "id": "9f82ce10"
      },
      "outputs": [],
      "source": [
        "def noise_rem(image_nrm):\n",
        "    import numpy as np\n",
        "    kernel = np.ones((1,1),np.uint8)\n",
        "    image_nrm = cv.GaussianBlur (image_nrm, (1,1), 0)\n",
        "    image_nrm = cv.dilate(image_nrm , kernel,iterations = 1)\n",
        "#     kernel = np.ones((1,1),np.uint8)\n",
        "#     image_nrm = cv.erode(image_nrm , kernel,iterations = 1)\n",
        "#     image_nrm = cv.morphologyEx(image_nrm , cv.MORPH_CLOSE , kernel)\n",
        "#     image_nrm = cv.medianBlur(image_nrm,3)\n",
        "    return (image_nrm)"
      ]
    },
    {
      "cell_type": "code",
      "execution_count": null,
      "id": "86017f6c",
      "metadata": {
        "id": "86017f6c"
      },
      "outputs": [],
      "source": [
        "de_noised_image = noise_rem(im_bw)\n",
        "# cv.imshow(\"\",de_noised_image)\n",
        "# cv.waitKey(0)"
      ]
    },
    {
      "cell_type": "markdown",
      "id": "90eb88da",
      "metadata": {
        "id": "90eb88da"
      },
      "source": [
        "# CONTOURS & BOUNDING BOXES"
      ]
    },
    {
      "cell_type": "code",
      "execution_count": null,
      "id": "9fe71193",
      "metadata": {
        "id": "9fe71193",
        "outputId": "478ab467-3534-482b-bfb6-46740bb76451"
      },
      "outputs": [
        {
          "data": {
            "text/plain": [
              "-1"
            ]
          },
          "execution_count": 28,
          "metadata": {},
          "output_type": "execute_result"
        }
      ],
      "source": [
        "cnts = cv.findContours(de_noised_image, cv.RETR_EXTERNAL, cv.CHAIN_APPROX_SIMPLE)\n",
        "cnts=cnts[0] if len(cnts)==2 else cnts[1]\n",
        "cnts= sorted(cnts, key=lambda x: cv.boundingRect(x)[0])\n",
        "\n",
        "for c in cnts:\n",
        "    x,y,w,h = cv.boundingRect(c)\n",
        "    if h>50 and w>100:\n",
        "        cv.rectangle(image, (x,y),(x+w,y+h), (36,255,12),2)\n",
        "#     cv.imwrite(r'D:\\Phython3.9\\Scripts\\Machine_Learning\\box.png',image) \n",
        "cv.imshow(\"\",image)\n",
        "cv.waitKey(0)"
      ]
    },
    {
      "cell_type": "code",
      "execution_count": null,
      "id": "0f1bd87c",
      "metadata": {
        "id": "0f1bd87c",
        "outputId": "926ba5dd-6067-4bad-f14b-507a7c78f443"
      },
      "outputs": [
        {
          "data": {
            "text/plain": [
              "-1"
            ]
          },
          "execution_count": 29,
          "metadata": {},
          "output_type": "execute_result"
        }
      ],
      "source": [
        "cv.imshow(\"\",image)\n",
        "cv.waitKey(0)"
      ]
    },
    {
      "cell_type": "markdown",
      "id": "f65c37cb",
      "metadata": {
        "id": "f65c37cb"
      },
      "source": [
        "# UPSCALING"
      ]
    },
    {
      "cell_type": "code",
      "execution_count": null,
      "id": "07a473b7",
      "metadata": {
        "id": "07a473b7",
        "outputId": "1f49330b-8f8d-4898-aef4-de8044289f28"
      },
      "outputs": [
        {
          "data": {
            "text/html": [
              "<div>\n",
              "<style scoped>\n",
              "    .dataframe tbody tr th:only-of-type {\n",
              "        vertical-align: middle;\n",
              "    }\n",
              "\n",
              "    .dataframe tbody tr th {\n",
              "        vertical-align: top;\n",
              "    }\n",
              "\n",
              "    .dataframe thead th {\n",
              "        text-align: right;\n",
              "    }\n",
              "</style>\n",
              "<table border=\"1\" class=\"dataframe\">\n",
              "  <thead>\n",
              "    <tr style=\"text-align: right;\">\n",
              "      <th></th>\n",
              "      <th>level</th>\n",
              "      <th>page_num</th>\n",
              "      <th>block_num</th>\n",
              "      <th>par_num</th>\n",
              "      <th>line_num</th>\n",
              "      <th>word_num</th>\n",
              "      <th>left</th>\n",
              "      <th>top</th>\n",
              "      <th>width</th>\n",
              "      <th>height</th>\n",
              "      <th>conf</th>\n",
              "      <th>text</th>\n",
              "    </tr>\n",
              "  </thead>\n",
              "  <tbody>\n",
              "    <tr>\n",
              "      <th>4</th>\n",
              "      <td>5</td>\n",
              "      <td>1</td>\n",
              "      <td>1</td>\n",
              "      <td>1</td>\n",
              "      <td>1</td>\n",
              "      <td>1</td>\n",
              "      <td>99</td>\n",
              "      <td>192</td>\n",
              "      <td>188</td>\n",
              "      <td>122</td>\n",
              "      <td>11.149223</td>\n",
              "      <td>The</td>\n",
              "    </tr>\n",
              "    <tr>\n",
              "      <th>5</th>\n",
              "      <td>5</td>\n",
              "      <td>1</td>\n",
              "      <td>1</td>\n",
              "      <td>1</td>\n",
              "      <td>1</td>\n",
              "      <td>2</td>\n",
              "      <td>255</td>\n",
              "      <td>205</td>\n",
              "      <td>206</td>\n",
              "      <td>114</td>\n",
              "      <td>95.633835</td>\n",
              "      <td>Daily</td>\n",
              "    </tr>\n",
              "    <tr>\n",
              "      <th>6</th>\n",
              "      <td>5</td>\n",
              "      <td>1</td>\n",
              "      <td>1</td>\n",
              "      <td>1</td>\n",
              "      <td>1</td>\n",
              "      <td>3</td>\n",
              "      <td>475</td>\n",
              "      <td>203</td>\n",
              "      <td>236</td>\n",
              "      <td>162</td>\n",
              "      <td>35.886765</td>\n",
              "      <td>Telegr</td>\n",
              "    </tr>\n",
              "    <tr>\n",
              "      <th>7</th>\n",
              "      <td>5</td>\n",
              "      <td>1</td>\n",
              "      <td>1</td>\n",
              "      <td>1</td>\n",
              "      <td>1</td>\n",
              "      <td>4</td>\n",
              "      <td>712</td>\n",
              "      <td>184</td>\n",
              "      <td>202</td>\n",
              "      <td>185</td>\n",
              "      <td>45.014359</td>\n",
              "      <td>ap)</td>\n",
              "    </tr>\n",
              "    <tr>\n",
              "      <th>9</th>\n",
              "      <td>5</td>\n",
              "      <td>1</td>\n",
              "      <td>1</td>\n",
              "      <td>1</td>\n",
              "      <td>2</td>\n",
              "      <td>1</td>\n",
              "      <td>33</td>\n",
              "      <td>343</td>\n",
              "      <td>109</td>\n",
              "      <td>49</td>\n",
              "      <td>95.156784</td>\n",
              "      <td>Sage</td>\n",
              "    </tr>\n",
              "    <tr>\n",
              "      <th>10</th>\n",
              "      <td>5</td>\n",
              "      <td>1</td>\n",
              "      <td>1</td>\n",
              "      <td>1</td>\n",
              "      <td>2</td>\n",
              "      <td>2</td>\n",
              "      <td>153</td>\n",
              "      <td>342</td>\n",
              "      <td>136</td>\n",
              "      <td>50</td>\n",
              "      <td>95.156784</td>\n",
              "      <td>urged</td>\n",
              "    </tr>\n",
              "    <tr>\n",
              "      <th>12</th>\n",
              "      <td>5</td>\n",
              "      <td>1</td>\n",
              "      <td>1</td>\n",
              "      <td>1</td>\n",
              "      <td>3</td>\n",
              "      <td>1</td>\n",
              "      <td>34</td>\n",
              "      <td>400</td>\n",
              "      <td>74</td>\n",
              "      <td>38</td>\n",
              "      <td>96.663826</td>\n",
              "      <td>PM</td>\n",
              "    </tr>\n",
              "    <tr>\n",
              "      <th>13</th>\n",
              "      <td>5</td>\n",
              "      <td>1</td>\n",
              "      <td>1</td>\n",
              "      <td>1</td>\n",
              "      <td>3</td>\n",
              "      <td>2</td>\n",
              "      <td>122</td>\n",
              "      <td>404</td>\n",
              "      <td>45</td>\n",
              "      <td>34</td>\n",
              "      <td>96.663826</td>\n",
              "      <td>to</td>\n",
              "    </tr>\n",
              "    <tr>\n",
              "      <th>14</th>\n",
              "      <td>5</td>\n",
              "      <td>1</td>\n",
              "      <td>1</td>\n",
              "      <td>1</td>\n",
              "      <td>3</td>\n",
              "      <td>3</td>\n",
              "      <td>177</td>\n",
              "      <td>398</td>\n",
              "      <td>133</td>\n",
              "      <td>40</td>\n",
              "      <td>96.566589</td>\n",
              "      <td>order</td>\n",
              "    </tr>\n",
              "    <tr>\n",
              "      <th>16</th>\n",
              "      <td>5</td>\n",
              "      <td>1</td>\n",
              "      <td>1</td>\n",
              "      <td>1</td>\n",
              "      <td>4</td>\n",
              "      <td>1</td>\n",
              "      <td>32</td>\n",
              "      <td>468</td>\n",
              "      <td>24</td>\n",
              "      <td>27</td>\n",
              "      <td>58.627007</td>\n",
              "      <td>a</td>\n",
              "    </tr>\n",
              "    <tr>\n",
              "      <th>17</th>\n",
              "      <td>5</td>\n",
              "      <td>1</td>\n",
              "      <td>1</td>\n",
              "      <td>1</td>\n",
              "      <td>4</td>\n",
              "      <td>2</td>\n",
              "      <td>70</td>\n",
              "      <td>455</td>\n",
              "      <td>184</td>\n",
              "      <td>40</td>\n",
              "      <td>58.627007</td>\n",
              "      <td>harsher</td>\n",
              "    </tr>\n",
              "    <tr>\n",
              "      <th>19</th>\n",
              "      <td>5</td>\n",
              "      <td>1</td>\n",
              "      <td>1</td>\n",
              "      <td>1</td>\n",
              "      <td>5</td>\n",
              "      <td>1</td>\n",
              "      <td>34</td>\n",
              "      <td>512</td>\n",
              "      <td>225</td>\n",
              "      <td>40</td>\n",
              "      <td>96.118118</td>\n",
              "      <td>lockdown</td>\n",
              "    </tr>\n",
              "    <tr>\n",
              "      <th>23</th>\n",
              "      <td>5</td>\n",
              "      <td>1</td>\n",
              "      <td>2</td>\n",
              "      <td>1</td>\n",
              "      <td>1</td>\n",
              "      <td>1</td>\n",
              "      <td>59</td>\n",
              "      <td>1256</td>\n",
              "      <td>91</td>\n",
              "      <td>27</td>\n",
              "      <td>96.787933</td>\n",
              "      <td>When</td>\n",
              "    </tr>\n",
              "    <tr>\n",
              "      <th>24</th>\n",
              "      <td>5</td>\n",
              "      <td>1</td>\n",
              "      <td>2</td>\n",
              "      <td>1</td>\n",
              "      <td>1</td>\n",
              "      <td>2</td>\n",
              "      <td>161</td>\n",
              "      <td>1262</td>\n",
              "      <td>70</td>\n",
              "      <td>28</td>\n",
              "      <td>96.437950</td>\n",
              "      <td>your</td>\n",
              "    </tr>\n",
              "    <tr>\n",
              "      <th>25</th>\n",
              "      <td>5</td>\n",
              "      <td>1</td>\n",
              "      <td>2</td>\n",
              "      <td>1</td>\n",
              "      <td>1</td>\n",
              "      <td>3</td>\n",
              "      <td>241</td>\n",
              "      <td>1256</td>\n",
              "      <td>158</td>\n",
              "      <td>27</td>\n",
              "      <td>96.167374</td>\n",
              "      <td>business</td>\n",
              "    </tr>\n",
              "    <tr>\n",
              "      <th>26</th>\n",
              "      <td>5</td>\n",
              "      <td>1</td>\n",
              "      <td>2</td>\n",
              "      <td>1</td>\n",
              "      <td>1</td>\n",
              "      <td>4</td>\n",
              "      <td>395</td>\n",
              "      <td>1262</td>\n",
              "      <td>24</td>\n",
              "      <td>21</td>\n",
              "      <td>96.167374</td>\n",
              "      <td>is</td>\n",
              "    </tr>\n",
              "    <tr>\n",
              "      <th>28</th>\n",
              "      <td>5</td>\n",
              "      <td>1</td>\n",
              "      <td>2</td>\n",
              "      <td>1</td>\n",
              "      <td>2</td>\n",
              "      <td>1</td>\n",
              "      <td>59</td>\n",
              "      <td>1302</td>\n",
              "      <td>79</td>\n",
              "      <td>27</td>\n",
              "      <td>93.265755</td>\n",
              "      <td>open</td>\n",
              "    </tr>\n",
              "    <tr>\n",
              "      <th>29</th>\n",
              "      <td>5</td>\n",
              "      <td>1</td>\n",
              "      <td>2</td>\n",
              "      <td>1</td>\n",
              "      <td>2</td>\n",
              "      <td>2</td>\n",
              "      <td>148</td>\n",
              "      <td>1297</td>\n",
              "      <td>31</td>\n",
              "      <td>25</td>\n",
              "      <td>94.677841</td>\n",
              "      <td>to</td>\n",
              "    </tr>\n",
              "    <tr>\n",
              "      <th>30</th>\n",
              "      <td>5</td>\n",
              "      <td>1</td>\n",
              "      <td>2</td>\n",
              "      <td>1</td>\n",
              "      <td>2</td>\n",
              "      <td>3</td>\n",
              "      <td>189</td>\n",
              "      <td>1302</td>\n",
              "      <td>98</td>\n",
              "      <td>53</td>\n",
              "      <td>9.978630</td>\n",
              "      <td>PERO</td>\n",
              "    </tr>\n",
              "    <tr>\n",
              "      <th>31</th>\n",
              "      <td>5</td>\n",
              "      <td>1</td>\n",
              "      <td>2</td>\n",
              "      <td>1</td>\n",
              "      <td>2</td>\n",
              "      <td>4</td>\n",
              "      <td>309</td>\n",
              "      <td>1296</td>\n",
              "      <td>58</td>\n",
              "      <td>57</td>\n",
              "      <td>0.000000</td>\n",
              "      <td>ANY</td>\n",
              "    </tr>\n",
              "    <tr>\n",
              "      <th>35</th>\n",
              "      <td>5</td>\n",
              "      <td>1</td>\n",
              "      <td>3</td>\n",
              "      <td>1</td>\n",
              "      <td>1</td>\n",
              "      <td>1</td>\n",
              "      <td>72</td>\n",
              "      <td>1345</td>\n",
              "      <td>128</td>\n",
              "      <td>10</td>\n",
              "      <td>90.976372</td>\n",
              "      <td>opportunities</td>\n",
              "    </tr>\n",
              "    <tr>\n",
              "      <th>36</th>\n",
              "      <td>5</td>\n",
              "      <td>1</td>\n",
              "      <td>3</td>\n",
              "      <td>1</td>\n",
              "      <td>1</td>\n",
              "      <td>2</td>\n",
              "      <td>170</td>\n",
              "      <td>1334</td>\n",
              "      <td>34</td>\n",
              "      <td>28</td>\n",
              "      <td>96.492165</td>\n",
              "      <td>open</td>\n",
              "    </tr>\n",
              "    <tr>\n",
              "      <th>40</th>\n",
              "      <td>5</td>\n",
              "      <td>1</td>\n",
              "      <td>4</td>\n",
              "      <td>1</td>\n",
              "      <td>1</td>\n",
              "      <td>1</td>\n",
              "      <td>0</td>\n",
              "      <td>0</td>\n",
              "      <td>948</td>\n",
              "      <td>1556</td>\n",
              "      <td>95.000000</td>\n",
              "      <td></td>\n",
              "    </tr>\n",
              "  </tbody>\n",
              "</table>\n",
              "</div>"
            ],
            "text/plain": [
              "    level  page_num  block_num  par_num  line_num  word_num  left   top  \\\n",
              "4       5         1          1        1         1         1    99   192   \n",
              "5       5         1          1        1         1         2   255   205   \n",
              "6       5         1          1        1         1         3   475   203   \n",
              "7       5         1          1        1         1         4   712   184   \n",
              "9       5         1          1        1         2         1    33   343   \n",
              "10      5         1          1        1         2         2   153   342   \n",
              "12      5         1          1        1         3         1    34   400   \n",
              "13      5         1          1        1         3         2   122   404   \n",
              "14      5         1          1        1         3         3   177   398   \n",
              "16      5         1          1        1         4         1    32   468   \n",
              "17      5         1          1        1         4         2    70   455   \n",
              "19      5         1          1        1         5         1    34   512   \n",
              "23      5         1          2        1         1         1    59  1256   \n",
              "24      5         1          2        1         1         2   161  1262   \n",
              "25      5         1          2        1         1         3   241  1256   \n",
              "26      5         1          2        1         1         4   395  1262   \n",
              "28      5         1          2        1         2         1    59  1302   \n",
              "29      5         1          2        1         2         2   148  1297   \n",
              "30      5         1          2        1         2         3   189  1302   \n",
              "31      5         1          2        1         2         4   309  1296   \n",
              "35      5         1          3        1         1         1    72  1345   \n",
              "36      5         1          3        1         1         2   170  1334   \n",
              "40      5         1          4        1         1         1     0     0   \n",
              "\n",
              "    width  height       conf           text  \n",
              "4     188     122  11.149223            The  \n",
              "5     206     114  95.633835          Daily  \n",
              "6     236     162  35.886765         Telegr  \n",
              "7     202     185  45.014359            ap)  \n",
              "9     109      49  95.156784           Sage  \n",
              "10    136      50  95.156784          urged  \n",
              "12     74      38  96.663826             PM  \n",
              "13     45      34  96.663826             to  \n",
              "14    133      40  96.566589          order  \n",
              "16     24      27  58.627007              a  \n",
              "17    184      40  58.627007        harsher  \n",
              "19    225      40  96.118118       lockdown  \n",
              "23     91      27  96.787933           When  \n",
              "24     70      28  96.437950           your  \n",
              "25    158      27  96.167374       business  \n",
              "26     24      21  96.167374             is  \n",
              "28     79      27  93.265755           open  \n",
              "29     31      25  94.677841             to  \n",
              "30     98      53   9.978630           PERO  \n",
              "31     58      57   0.000000            ANY  \n",
              "35    128      10  90.976372  opportunities  \n",
              "36     34      28  96.492165           open  \n",
              "40    948    1556  95.000000                 "
            ]
          },
          "execution_count": 30,
          "metadata": {},
          "output_type": "execute_result"
        }
      ],
      "source": [
        "up_image = cv.pyrUp(image)\n",
        "\n",
        "img_text = pp.image_to_data(up_image,output_type = 'data.frame')\n",
        "img_text = img_text.dropna()\n",
        "img_text = img_text[img_text.text!='']\n",
        "img_text"
      ]
    },
    {
      "cell_type": "code",
      "execution_count": null,
      "id": "71b76838",
      "metadata": {
        "id": "71b76838",
        "outputId": "f4e0546f-61dc-4ae7-bbe3-0dce69d0e0e6"
      },
      "outputs": [
        {
          "name": "stdout",
          "output_type": "stream",
          "text": [
            "19\n",
            "['The', 'Daily', 'Telegr', 'ap)', 'Sage', 'urged', 'PM', 'to', 'order', 'a', 'harsher', 'lockdown', 'When', 'your', 'business', 'open', 'PERO', 'ANY', ' ']\n"
          ]
        }
      ],
      "source": [
        "list_of_heights = img_text.height\n",
        "img_dict = dict(zip(img_text.text,img_text.height))\n",
        "img_dict\n",
        "\n",
        "req_dict = []\n",
        "for keys in img_dict:\n",
        "    if(img_dict[keys] >= 25):\n",
        "        req_dict.append(keys)\n",
        "    else:\n",
        "        continue\n",
        "print(len(req_dict))\n",
        "print (req_dict)"
      ]
    },
    {
      "cell_type": "code",
      "execution_count": null,
      "id": "e369f6c4",
      "metadata": {
        "id": "e369f6c4",
        "outputId": "1c31c69a-2436-41a1-b7ca-588039685896"
      },
      "outputs": [
        {
          "name": "stdout",
          "output_type": "stream",
          "text": [
            "RE.\n",
            "\n",
            "The Daily Telearaph\n",
            "Sage urged Ph y\n",
            "PM to order\n",
            "aharsher\n",
            "lockdown\n",
            "\n",
            "a\n",
            "\n",
            "little room for doubt over whe\n",
            "\n",
            "When your business is\n",
            "open to opportunity...\n",
            "\n",
            "\n"
          ]
        }
      ],
      "source": [
        "strr = pp.image_to_string(image)\n",
        "print(strr)"
      ]
    }
  ],
  "metadata": {
    "kernelspec": {
      "display_name": "Python 3 (ipykernel)",
      "language": "python",
      "name": "python3"
    },
    "language_info": {
      "codemirror_mode": {
        "name": "ipython",
        "version": 3
      },
      "file_extension": ".py",
      "mimetype": "text/x-python",
      "name": "python",
      "nbconvert_exporter": "python",
      "pygments_lexer": "ipython3",
      "version": "3.9.5"
    },
    "colab": {
      "provenance": [],
      "include_colab_link": true
    }
  },
  "nbformat": 4,
  "nbformat_minor": 5
}