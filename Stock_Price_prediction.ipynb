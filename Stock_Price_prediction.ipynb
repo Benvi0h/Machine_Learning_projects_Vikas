{
  "nbformat": 4,
  "nbformat_minor": 0,
  "metadata": {
    "colab": {
      "provenance": [],
      "authorship_tag": "ABX9TyPZd5sUYNWtgD4ymzj3J28M",
      "include_colab_link": true
    },
    "kernelspec": {
      "name": "python3",
      "display_name": "Python 3"
    },
    "language_info": {
      "name": "python"
    }
  },
  "cells": [
    {
      "cell_type": "markdown",
      "metadata": {
        "id": "view-in-github",
        "colab_type": "text"
      },
      "source": [
        "<a href=\"https://colab.research.google.com/github/Benvi0h/Machine_Learning_projects_Vikas/blob/main/Stock_Price_prediction.ipynb\" target=\"_parent\"><img src=\"https://colab.research.google.com/assets/colab-badge.svg\" alt=\"Open In Colab\"/></a>"
      ]
    },
    {
      "cell_type": "markdown",
      "source": [
        "# Stock Price Prediction using Linear Regression"
      ],
      "metadata": {
        "id": "1RYq1uzGvnon"
      }
    },
    {
      "cell_type": "code",
      "execution_count": null,
      "metadata": {
        "id": "tA768RDWvFVx"
      },
      "outputs": [],
      "source": [
        "import pandas as pd\n",
        "import quandl\n",
        "import math\n",
        "import numpy as np\n",
        "# from sklearn import preprocessing , cross_validation , svm\n",
        "from sklearn.model_selection import train_test_split\n",
        "from sklearn.linear_model import LinearRegression\n",
        "\n"
      ]
    },
    {
      "cell_type": "code",
      "source": [
        "df = quandl.get('WIKI/GOOGL')\n",
        "df = df[['Adj. Open','Adj. High','Adj. Low','Adj. Close','Adj. Volume']]\n",
        "print(\"df\\n\",df.head(6))\n",
        "\n",
        "df['HL_PCT'] = (df['Adj. High'] - df['Adj. Close']) / df['Adj. Close']*100.0\n",
        "print(\"df HL_PCT\\n\",df.head(6))\n",
        "\n",
        "df['PCT_change'] = (df['Adj. Close'] - df['Adj. Open']) / df['Adj. Open']*100.0\n",
        "print(\"df PCT_change \\n\",df.head(6))\n",
        "\n",
        "df = df[['Adj. Close','HL_PCT','PCT_change','Adj. Volume']]\n",
        "print(\"df new 4 rows\\n\",df.head(6))\n",
        "\n",
        "forecast_col = 'Adj. Close'\n",
        "df.fillna(-99999,inplace = True)\n",
        "\n",
        "\n",
        "print(\"This is the lenght of the dataframe : \",len(df))\n",
        "forecast_out = int(math.ceil(0.01*len(df)))\n",
        "\n",
        "print(\"Forecast_out\\n\",forecast_out)\n",
        "\n",
        "\n"
      ],
      "metadata": {
        "id": "X9uuyrftvQTZ"
      },
      "execution_count": null,
      "outputs": []
    },
    {
      "cell_type": "code",
      "source": [
        "pd.set_option('display.max_rows', 5000)\n",
        "\n"
      ],
      "metadata": {
        "id": "siVnamsyvT35"
      },
      "execution_count": null,
      "outputs": []
    },
    {
      "cell_type": "code",
      "source": [
        "df['label.Before'] = df[forecast_col]\n",
        "print(\"Label Before\\n\",df.head(3))\n",
        "\n",
        "df['label'] = df[forecast_col].shift(-forecast_out)\n",
        "df.dropna(inplace = True)\n",
        "print(\"Label After\\n\",df.head(3))\n",
        "\n",
        "df_compare = df[['label.Before','label']]\n",
        "print(\"Comparision\\n\",df_compare)"
      ],
      "metadata": {
        "id": "AhHoSm9xvVJq"
      },
      "execution_count": null,
      "outputs": []
    },
    {
      "cell_type": "code",
      "source": [
        "X = np.array(df.drop(['label'],1))\n",
        "y = np.array(df['label'])\n",
        "print(\"This is X \\n\",X)\n",
        "print(\"This is Y \\n\",y)\n",
        "X = preprocessing.scale(X)\n",
        "y = np.array(df['label'])\n",
        "print(\"After Scaling\\n\",X)\n",
        "print(\"After Scaling\\n\",y)\n",
        "X_train,X_test,y_train,y_test = train_test_split(X,y,test_size = 0.2)\n"
      ],
      "metadata": {
        "id": "5SleaYazvKPp"
      },
      "execution_count": null,
      "outputs": []
    },
    {
      "cell_type": "code",
      "source": [
        "print(\"X_train\\n\",X_train)\n",
        "print(\"X_test \\n\",X_test)\n",
        "print(\"y_train \\n\",y_train)\n",
        "print(\"y_test \\n\",y_test)\n",
        "clf = LinearRegression()\n",
        "clf.fit(X_train,y_train)\n",
        "accurracy = clf.score(X_test,y_test)\n",
        "\n",
        "print(accurracy)"
      ],
      "metadata": {
        "id": "eJBu6-F2vX0Z"
      },
      "execution_count": null,
      "outputs": []
    }
  ]
}