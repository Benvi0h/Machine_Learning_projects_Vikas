{
 "cells": [
  {
   "cell_type": "code",
   "execution_count": 26,
   "id": "6a703911-d1cf-40e2-9896-913623433c1d",
   "metadata": {
    "canvas": {
     "comments": [],
     "componentType": "CodeCell",
     "copiedOriginId": null,
     "diskcache": false,
     "headerColor": "transparent",
     "id": "c353985d-4daf-4562-b74f-2fe9b9472d1a",
     "isComponent": false,
     "name": "",
     "parents": []
    },
    "tags": []
   },
   "outputs": [],
   "source": [
    "import numpy as np\n",
    "import pandas as pd\n",
    "import matplotlib.pyplot as plt"
   ]
  },
  {
   "cell_type": "code",
   "execution_count": 43,
   "id": "2b886cba-afb2-4b5f-b2eb-a239092b6485",
   "metadata": {
    "canvas": {
     "comments": [],
     "componentType": "CodeCell",
     "copiedOriginId": null,
     "diskcache": false,
     "headerColor": "transparent",
     "id": "d7822eb5-e4a1-41ae-a304-928ce05d1d6f",
     "isComponent": false,
     "name": "",
     "parents": []
    }
   },
   "outputs": [],
   "source": [
    "df = pd.read_csv(\"C:/Users/vikas/Desktop/Food-Truck.csv\")"
   ]
  },
  {
   "cell_type": "code",
   "execution_count": 101,
   "id": "bce1ee14-9344-4b07-894e-21fba539c76f",
   "metadata": {
    "canvas": {
     "comments": [],
     "componentType": "CodeCell",
     "copiedOriginId": null,
     "diskcache": false,
     "headerColor": "transparent",
     "id": "700eb033-dc06-4462-81ab-c1eb493b7b9f",
     "isComponent": false,
     "name": "",
     "parents": []
    }
   },
   "outputs": [],
   "source": [
    "class Mocd:\n",
    "    \n",
    "    def mean_(self, x):\n",
    "        sum = 0\n",
    "        for ele in x:\n",
    "            sum += ele\n",
    "        mean = sum / len(x)\n",
    "        return mean\n",
    "    \n",
    "    def standard_deviation(self, x):\n",
    "        sd = 0\n",
    "        m = self.mean_(x)\n",
    "        for xi in x:\n",
    "            sd += (xi - m)**2\n",
    "        sd = sd/len(x)\n",
    "        return sd\n",
    "    \n",
    "    def slope_(self,x,y):\n",
    "        x_mean = self.mean_(x)\n",
    "        y_mean = self.mean_(y)\n",
    "        \n",
    "        numerator = 0\n",
    "        denominator = 0\n",
    "        \n",
    "        for xi, yi in zip(x,y):\n",
    "            numerator += (xi-x_mean)*(yi-y_mean)\n",
    "            denominator += (xi-x_mean)**2\n",
    "        slope = 0\n",
    "        slope = numerator/denominator\n",
    "        return slope\n",
    "    \n",
    "    def intercept_(self, x,y):\n",
    "        x_mean = self.mean_(x)\n",
    "        y_mean = self.mean_(y)\n",
    "        \n",
    "        slope = self.slope_(x,y)\n",
    "        intercept = y_mean - (slope * x_mean)\n",
    "        return intercept\n",
    "    \n",
    "    def ssr_(self, x, y):\n",
    "        ssr = 0\n",
    "        y_pred = self.primitive_linear_regression(x,y)\n",
    "        for yi, yi_cap in zip(y, y_pred):\n",
    "            ssr += (yi - yi_cap)**2\n",
    "        return ssr\n",
    "    \n",
    "    def sst_(self, x, y):\n",
    "        sst = 0\n",
    "        y_mean = self.mean_(y)\n",
    "        for yi in y:\n",
    "            sst += (yi - y_mean)**2\n",
    "        return sst\n",
    "    \n",
    "    def r2_(self, x, y):\n",
    "        r2 = 0\n",
    "        ssr = self.ssr_(x,y)\n",
    "        sst = self.sst_(x,y)\n",
    "        \n",
    "        r2 = 1 - (ssr / sst)\n",
    "        return r2\n",
    "    \n",
    "    def primitive_linear_regression(self, x,y):\n",
    "        y_pred = []\n",
    "        m = self.slope_(x, y)\n",
    "        c = self.intercept_(x, y)\n",
    "        for xi in x:\n",
    "            y_pred.append((m*xi) + c)\n",
    "        return y_pred\n",
    "    \n",
    "    def summary_(self, x, y):\n",
    "        print(\"-\"*55)\n",
    "        print(\"X Mean :\", self.mean_(x))\n",
    "        print(\"y Mean :\", self.mean_(y))\n",
    "        print(\"\")\n",
    "        print(\"X Standard Deviation :\", self.standard_deviation(x))\n",
    "        print(\"y Standard Deviation :\", self.standard_deviation(y))\n",
    "        print(\"\")\n",
    "        print(\"Slope :\", self.slope_(x,y))\n",
    "        print(\"Intercept :\", self.intercept_(x,y))\n",
    "        print(\"Sum squared error :\", self.ssr_(x,y))\n",
    "        print(\"Sum squared total :\", self.sst_(x,y))\n",
    "        print(\"coefficient of determination - R2 :\", self.r2_(x,y))\n",
    "        print(\"-\"*55)        "
   ]
  },
  {
   "cell_type": "code",
   "execution_count": 45,
   "id": "7288b3af-297b-40a7-8660-7a6dc7635ce7",
   "metadata": {
    "canvas": {
     "comments": [],
     "componentType": "CodeCell",
     "copiedOriginId": null,
     "diskcache": false,
     "headerColor": "transparent",
     "id": "faa1ecbd-fb06-419f-84ba-9de6e2aa94f7",
     "isComponent": false,
     "name": "",
     "parents": []
    }
   },
   "outputs": [
    {
     "data": {
      "text/html": [
       "<div>\n",
       "<style scoped>\n",
       "    .dataframe tbody tr th:only-of-type {\n",
       "        vertical-align: middle;\n",
       "    }\n",
       "\n",
       "    .dataframe tbody tr th {\n",
       "        vertical-align: top;\n",
       "    }\n",
       "\n",
       "    .dataframe thead th {\n",
       "        text-align: right;\n",
       "    }\n",
       "</style>\n",
       "<table border=\"1\" class=\"dataframe\">\n",
       "  <thead>\n",
       "    <tr style=\"text-align: right;\">\n",
       "      <th></th>\n",
       "      <th>Attribute</th>\n",
       "      <th>Label</th>\n",
       "    </tr>\n",
       "  </thead>\n",
       "  <tbody>\n",
       "    <tr>\n",
       "      <th>0</th>\n",
       "      <td>6.1101</td>\n",
       "      <td>17.5920</td>\n",
       "    </tr>\n",
       "    <tr>\n",
       "      <th>1</th>\n",
       "      <td>5.5277</td>\n",
       "      <td>9.1302</td>\n",
       "    </tr>\n",
       "    <tr>\n",
       "      <th>2</th>\n",
       "      <td>8.5186</td>\n",
       "      <td>13.6620</td>\n",
       "    </tr>\n",
       "    <tr>\n",
       "      <th>3</th>\n",
       "      <td>7.0032</td>\n",
       "      <td>11.8540</td>\n",
       "    </tr>\n",
       "    <tr>\n",
       "      <th>4</th>\n",
       "      <td>5.8598</td>\n",
       "      <td>6.8233</td>\n",
       "    </tr>\n",
       "  </tbody>\n",
       "</table>\n",
       "</div>"
      ],
      "text/plain": [
       "   Attribute    Label\n",
       "0     6.1101  17.5920\n",
       "1     5.5277   9.1302\n",
       "2     8.5186  13.6620\n",
       "3     7.0032  11.8540\n",
       "4     5.8598   6.8233"
      ]
     },
     "execution_count": 45,
     "metadata": {},
     "output_type": "execute_result"
    }
   ],
   "source": [
    "df.head()"
   ]
  },
  {
   "cell_type": "code",
   "execution_count": 46,
   "id": "8a4a2f1c-8e0e-4442-877c-bf0d66f71989",
   "metadata": {
    "canvas": {
     "comments": [],
     "componentType": "CodeCell",
     "copiedOriginId": null,
     "diskcache": false,
     "headerColor": "transparent",
     "id": "f7ad7e3a-f967-424f-aa81-e44e0e33b643",
     "isComponent": false,
     "name": "",
     "parents": []
    }
   },
   "outputs": [],
   "source": [
    "X = df['Attribute']\n",
    "y = df['Label']"
   ]
  },
  {
   "cell_type": "code",
   "execution_count": null,
   "id": "de68ea36-bc81-44be-98f7-44df8fd23770",
   "metadata": {
    "canvas": {
     "comments": [],
     "componentType": "CodeCell",
     "copiedOriginId": null,
     "diskcache": false,
     "headerColor": "transparent",
     "id": "1cc7b2d4-d3d3-40bb-b936-173858dcfeb4",
     "isComponent": false,
     "name": "",
     "parents": []
    }
   },
   "outputs": [],
   "source": []
  },
  {
   "cell_type": "code",
   "execution_count": 102,
   "id": "108b9675-9379-4ffb-b96c-c3b176ce6245",
   "metadata": {
    "canvas": {
     "comments": [],
     "componentType": "CodeCell",
     "copiedOriginId": null,
     "diskcache": false,
     "headerColor": "transparent",
     "id": "22255f72-4292-4241-99d0-cc35e080fac0",
     "isComponent": false,
     "name": "",
     "parents": []
    }
   },
   "outputs": [
    {
     "data": {
      "text/plain": [
       "0.7020315537841398"
      ]
     },
     "execution_count": 102,
     "metadata": {},
     "output_type": "execute_result"
    }
   ],
   "source": [
    "obj = Mocd()\n",
    "res = obj.r2_(X,y)\n",
    "res"
   ]
  },
  {
   "cell_type": "code",
   "execution_count": 207,
   "id": "55d327ec-252f-4e60-b820-0a3018bc4c3d",
   "metadata": {
    "canvas": {
     "comments": [],
     "componentType": "CodeCell",
     "copiedOriginId": null,
     "diskcache": false,
     "headerColor": "transparent",
     "id": "f5b01447-74de-4f6a-b96a-0a6929076174",
     "isComponent": false,
     "name": "",
     "parents": []
    }
   },
   "outputs": [
    {
     "name": "stdout",
     "output_type": "stream",
     "text": [
      "-------------------------------------------------------\n",
      "X Mean : 8.159800000000002\n",
      "y Mean : 5.83913505154639\n",
      "\n",
      "X Standard Deviation : 14.821606782061858\n",
      "y Standard Deviation : 30.049969604713656\n",
      "\n",
      "Slope : 1.193033644189594\n",
      "Intercept : -3.8957808783118617\n",
      "Sum squared error : 868.5324469391843\n",
      "Sum squared total : 2914.8470516572247\n",
      "coefficient of determination - R2 : 0.7020315537841398\n",
      "-------------------------------------------------------\n"
     ]
    }
   ],
   "source": [
    "obj.summary_(X,y)"
   ]
  },
  {
   "cell_type": "code",
   "execution_count": 208,
   "id": "38b386a2-e05f-4050-9bec-7f76358e567f",
   "metadata": {
    "canvas": {
     "comments": [],
     "componentType": "CodeCell",
     "copiedOriginId": null,
     "diskcache": false,
     "headerColor": "transparent",
     "id": "497f37b0-c9fb-4600-acc4-19b1587ddbd1",
     "isComponent": false,
     "name": "",
     "parents": []
    }
   },
   "outputs": [
    {
     "data": {
      "image/png": "[encoded data removed]",
      "text/plain": [
       "<Figure size 640x480 with 1 Axes>"
      ]
     },
     "metadata": {},
     "output_type": "display_data"
    }
   ],
   "source": [
    "plt.scatter(X, y)\n",
    "plt.plot(X, obj.primitive_linear_regression(X, y), c = 'red')\n",
    "plt.show()"
   ]
  },
  {
   "cell_type": "code",
   "execution_count": 230,
   "id": "aaba3996-24d3-4511-9265-3a53c9e81c65",
   "metadata": {
    "canvas": {
     "comments": [],
     "componentType": "CodeCell",
     "copiedOriginId": null,
     "diskcache": false,
     "headerColor": "transparent",
     "id": "c174de5d-214a-4c75-8e3f-d733a04527a5",
     "isComponent": false,
     "name": "",
     "parents": []
    }
   },
   "outputs": [],
   "source": [
    "class LinearRegression :\n",
    "    def __init__(self):\n",
    "        self.m = 0\n",
    "        self.c = 0\n",
    "        self.m_values = []\n",
    "        self.c_values = []\n",
    "        self.epochs = 0\n",
    "        self.y_pred = []\n",
    "        self.loss_values = []\n",
    "    \n",
    "    \n",
    "    def cost_function(self, x,y, para):\n",
    "        summ = 0\n",
    "        if para == 1 :\n",
    "            for xi,yi in zip(x,y):\n",
    "                summ = xi - yi\n",
    "        else:\n",
    "            for xi,yi in zip(x,y):\n",
    "                summ = (self.predict_(xi) - yi)*xi\n",
    "        \n",
    "        summ = summ/len(x)\n",
    "        return summ\n",
    "    \n",
    "    # def avgloss_(init_m, m, init_c, c):\n",
    "    #     loss = 0\n",
    "    #     loss = abs(((init_m - m) + (init_c - c))/2)\n",
    "    #     return loss\n",
    "    \n",
    "    def gradient_descent(self, x, y, epochs=100, init_m = 0, init_c = 0, alpha = 0.01):\n",
    "        self.epochs = epochs\n",
    "        m = init_m\n",
    "        c = init_c\n",
    "        self.m_values.append(init_m)\n",
    "        self.c_values.append(init_c)\n",
    "        \n",
    "        for i in range(epochs):\n",
    "            m = m - (alpha * self.cost_function(x,y, 1))\n",
    "            c = c - (alpha * self.cost_function (x,y, 0))\n",
    "            self.m_values.append(m)\n",
    "            self.c_values.append(c)\n",
    "            self.loss_values.append(1 - abs(((init_m - m) + (init_c - c))/2))\n",
    "            if(i % int(epochs/10) == 0):\n",
    "                print(\"Loss :\",abs(((init_m - m) + (init_c - c))/2))\n",
    "        self.m = m\n",
    "        self.c = c\n",
    "        return self.m, self.c\n",
    "    \n",
    "    def compile_(self, x,y, epochs=100, alpha=0.01):\n",
    "        y_pred = []\n",
    "        self.gradient_descent(x, y, epochs, alpha)\n",
    "        m = self.m\n",
    "        c = self.c\n",
    "        for xi in x:\n",
    "            y_pred.append((m*xi) + c)\n",
    "        self.y_pred = y_pred\n",
    "    \n",
    "    def predict_(self, x):\n",
    "        ans = 0\n",
    "        ans = self.m * x + self.c\n",
    "        return ans\n",
    "    \n",
    "    def accuracy_(self, x, y):\n",
    "        y_pred = self.predict_(x)\n",
    "        mse = 0\n",
    "        \n",
    "        for yi, yi_cap in zip(y, y_pred):\n",
    "            mse += (yi - yi_cap)**2\n",
    "        mse = mse/len(y)\n",
    "        \n",
    "        print(\"Accuracy :\", mse)\n",
    "        return mse\n",
    "    \n",
    "    def summary_(self, x, y):\n",
    "        obj = Mocd()\n",
    "        print(\"-\"*55)\n",
    "        print(\"X Mean :\", obj.mean_(x))\n",
    "        print(\"y Mean :\", obj.mean_(y))\n",
    "        print(\"\")\n",
    "        print(\"X Standard Deviation :\", obj.standard_deviation(x))\n",
    "        print(\"y Standard Deviation :\", obj.standard_deviation(y))\n",
    "        print(\"\")\n",
    "        print(\"Slope :\", self.m)\n",
    "        print(\"Intercept :\", self.c)\n",
    "        print(\"Sum squared error :\", obj.ssr_(x,y))\n",
    "        print(\"Sum squared total :\", obj.sst_(x,y))\n",
    "        print(\"coefficient of determination - R2 :\", obj.r2_(x,y))\n",
    "        print(\"\")\n",
    "        print(\"Model Accuracy :\", self.accuracy_(x, y))\n",
    "        print(\"-\"*55)\n",
    "        print(\"\\n\")\n",
    "        print(\"---------------GRAPHICAL REPORT--------------\")\n",
    "        plt.plot( list(range(0,self.epochs+1)),self.m_values, c = 'red')\n",
    "        plt.plot( list(range(0,self.epochs+1)),self.c_values, c = 'blue')\n",
    "        plt.plot( list(range(0,self.epochs)),self.loss_values, c = 'pink')\n",
    "        plt.legend([\"slope_m\", \"intercept_c\",\"Loss\"], loc =\"upper left\")\n",
    "        plt.show()\n",
    "        \n",
    "        plt.scatter(x, y)\n",
    "        plt.plot(x, self.y_pred)\n",
    "        plt.show()"
   ]
  },
  {
   "cell_type": "code",
   "execution_count": 231,
   "id": "4ce02132-9aaf-4c68-a11b-3ad46ca2d8bc",
   "metadata": {
    "canvas": {
     "comments": [],
     "componentType": "CodeCell",
     "copiedOriginId": null,
     "diskcache": false,
     "headerColor": "transparent",
     "id": "3aaf0db2-627b-481f-93c9-213699d0bb33",
     "isComponent": false,
     "name": "",
     "parents": []
    }
   },
   "outputs": [
    {
     "name": "stdout",
     "output_type": "stream",
     "text": [
      "Loss : 7.551602345360822e-05\n",
      "Loss : 0.07559153947706809\n",
      "Loss : 0.15110756293065075\n",
      "Loss : 0.2266235863842817\n",
      "Loss : 0.30213960983796284\n",
      "Loss : 0.37765563329153584\n",
      "Loss : 0.45317165674510584\n",
      "Loss : 0.528687680198676\n",
      "Loss : 0.6042037036522461\n",
      "Loss : 0.6797197271060269\n"
     ]
    }
   ],
   "source": [
    "obj1 = LinearRegression()\n",
    "obj1.compile_(X, y, epochs=10000, alpha = 0.001)"
   ]
  },
  {
   "cell_type": "code",
   "execution_count": 232,
   "id": "020a5ed3-5a49-4e01-a6ae-f71d76a69527",
   "metadata": {
    "canvas": {
     "comments": [],
     "componentType": "CodeCell",
     "copiedOriginId": null,
     "diskcache": false,
     "headerColor": "transparent",
     "id": "8b073c85-d775-4ab2-b5b1-1b98b844a1cf",
     "isComponent": false,
     "name": "",
     "parents": []
    }
   },
   "outputs": [
    {
     "name": "stdout",
     "output_type": "stream",
     "text": [
      "-------------------------------------------------------\n",
      "X Mean : 8.159800000000002\n",
      "y Mean : 5.83913505154639\n",
      "\n",
      "X Standard Deviation : 14.821606782061858\n",
      "y Standard Deviation : 30.049969604713656\n",
      "\n",
      "Slope : -4.967917525773253\n",
      "Intercept : 3.458597056700523\n",
      "Sum squared error : 868.5324469391843\n",
      "Sum squared total : 2914.8470516572247\n",
      "coefficient of determination - R2 : 0.7020315537841398\n",
      "\n",
      "Accuracy : 2413.475791284966\n",
      "Model Accuracy : 2413.475791284966\n",
      "-------------------------------------------------------\n",
      "\n",
      "\n",
      "---------------GRAPHICAL REPORT--------------\n"
     ]
    },
    {
     "data": {
      "image/png": "[encoded data removed]",
      "text/plain": [
       "<Figure size 640x480 with 1 Axes>"
      ]
     },
     "metadata": {},
     "output_type": "display_data"
    },
    {
     "ename": "NameError",
     "evalue": "name 'plt2' is not defined",
     "output_type": "error",
     "traceback": [
      "\u001b[1;31m---------------------------------------------------------------------------\u001b[0m",
      "\u001b[1;31mNameError\u001b[0m                                 Traceback (most recent call last)",
      "Cell \u001b[1;32mIn[232], line 1\u001b[0m\n\u001b[1;32m----> 1\u001b[0m \u001b[43mobj1\u001b[49m\u001b[38;5;241;43m.\u001b[39;49m\u001b[43msummary_\u001b[49m\u001b[43m(\u001b[49m\u001b[43mX\u001b[49m\u001b[43m,\u001b[49m\u001b[43my\u001b[49m\u001b[43m)\u001b[49m\n",
      "Cell \u001b[1;32mIn[230], line 98\u001b[0m, in \u001b[0;36mLinearRegression.summary_\u001b[1;34m(self, x, y)\u001b[0m\n\u001b[0;32m     95\u001b[0m plt\u001b[38;5;241m.\u001b[39mlegend([\u001b[38;5;124m\"\u001b[39m\u001b[38;5;124mslope_m\u001b[39m\u001b[38;5;124m\"\u001b[39m, \u001b[38;5;124m\"\u001b[39m\u001b[38;5;124mintercept_c\u001b[39m\u001b[38;5;124m\"\u001b[39m,\u001b[38;5;124m\"\u001b[39m\u001b[38;5;124mLoss\u001b[39m\u001b[38;5;124m\"\u001b[39m], loc \u001b[38;5;241m=\u001b[39m\u001b[38;5;124m\"\u001b[39m\u001b[38;5;124mupper left\u001b[39m\u001b[38;5;124m\"\u001b[39m)\n\u001b[0;32m     96\u001b[0m plt\u001b[38;5;241m.\u001b[39mshow()\n\u001b[1;32m---> 98\u001b[0m \u001b[43mplt2\u001b[49m\u001b[38;5;241m.\u001b[39mscatter(x, y)\n\u001b[0;32m     99\u001b[0m plt2\u001b[38;5;241m.\u001b[39mplot(x, \u001b[38;5;28mself\u001b[39m\u001b[38;5;241m.\u001b[39my_pred)\n\u001b[0;32m    100\u001b[0m plt2\u001b[38;5;241m.\u001b[39mshow()\n",
      "\u001b[1;31mNameError\u001b[0m: name 'plt2' is not defined"
     ]
    }
   ],
   "source": [
    "obj1.summary_(X,y)"
   ]
  }
 ],
 "metadata": {
  "canvas": {
   "colorPalette": [
    "inherit",
    "inherit",
    "inherit",
    "inherit",
    "inherit",
    "inherit",
    "inherit",
    "inherit",
    "inherit",
    "inherit"
   ],
   "parameters": [],
   "version": "1.0"
  },
  "kernelspec": {
   "display_name": "Python 3 (ipykernel)",
   "language": "python",
   "name": "python3"
  },
  "language_info": {
   "codemirror_mode": {
    "name": "ipython",
    "version": 3
   },
   "file_extension": ".py",
   "mimetype": "text/x-python",
   "name": "python",
   "nbconvert_exporter": "python",
   "pygments_lexer": "ipython3",
   "version": "3.10.0"
  }
 },
 "nbformat": 4,
 "nbformat_minor": 5
}
