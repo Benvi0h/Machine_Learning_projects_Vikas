{
 "cells": [
  {
   "cell_type": "code",
   "execution_count": 3,
   "id": "d39d3351-43fa-4a46-a78c-48af6569ed75",
   "metadata": {
    "canvas": {
     "comments": [],
     "componentType": "CodeCell",
     "copiedOriginId": null,
     "diskcache": false,
     "headerColor": "transparent",
     "id": "228a1552-f0f9-4e55-80ae-3857c65ce8a2",
     "isComponent": false,
     "name": "",
     "parents": []
    },
    "tags": []
   },
   "outputs": [],
   "source": [
    "import tensorflow as tf### models\n",
    "import numpy as np### math computations\n",
    "import matplotlib.pyplot as plt### plotting bar chart\n",
    "import tensorflow_datasets as tfds\n",
    "from tensorflow.keras.models import Model\n",
    "from tensorflow.keras.layers import Conv2D, MaxPool2D, Dense, Flatten, InputLayer, BatchNormalization, Input\n",
    "from tensorflow.keras.losses import BinaryCrossentropy\n",
    "from tensorflow.keras.metrics import Accuracy, binary_accuracy\n",
    "from tensorflow.keras.optimizers import Adam\n",
    "from tensorflow.keras.layers import Layer, RandomRotation, RandomFlip,Resizing, Rescaling\n",
    "import tensorflow_probability as tfp\n",
    "import cv2 as cv2\n",
    "import albumentations as A"
   ]
  },
  {
   "cell_type": "code",
   "execution_count": 46,
   "id": "5fdc04b2-f10a-4087-aa2f-9a3915c1fe5f",
   "metadata": {
    "canvas": {
     "comments": [],
     "componentType": "CodeCell",
     "copiedOriginId": null,
     "diskcache": false,
     "headerColor": "transparent",
     "id": "2ef0dd49-794a-465e-8dc4-8294a298bc6f",
     "isComponent": false,
     "name": "",
     "parents": []
    },
    "scrolled": true
   },
   "outputs": [
    {
     "name": "stdout",
     "output_type": "stream",
     "text": [
      "[(array([[[0, 0, 0],\n",
      "        [0, 0, 0],\n",
      "        [0, 0, 0],\n",
      "        ...,\n",
      "        [0, 0, 0],\n",
      "        [0, 0, 0],\n",
      "        [0, 0, 0]],\n",
      "\n",
      "       [[0, 0, 0],\n",
      "        [0, 0, 0],\n",
      "        [0, 0, 0],\n",
      "        ...,\n",
      "        [0, 0, 0],\n",
      "        [0, 0, 0],\n",
      "        [0, 0, 0]],\n",
      "\n",
      "       [[0, 0, 0],\n",
      "        [0, 0, 0],\n",
      "        [0, 0, 0],\n",
      "        ...,\n",
      "        [0, 0, 0],\n",
      "        [0, 0, 0],\n",
      "        [0, 0, 0]],\n",
      "\n",
      "       ...,\n",
      "\n",
      "       [[0, 0, 0],\n",
      "        [0, 0, 0],\n",
      "        [0, 0, 0],\n",
      "        ...,\n",
      "        [0, 0, 0],\n",
      "        [0, 0, 0],\n",
      "        [0, 0, 0]],\n",
      "\n",
      "       [[0, 0, 0],\n",
      "        [0, 0, 0],\n",
      "        [0, 0, 0],\n",
      "        ...,\n",
      "        [0, 0, 0],\n",
      "        [0, 0, 0],\n",
      "        [0, 0, 0]],\n",
      "\n",
      "       [[0, 0, 0],\n",
      "        [0, 0, 0],\n",
      "        [0, 0, 0],\n",
      "        ...,\n",
      "        [0, 0, 0],\n",
      "        [0, 0, 0],\n",
      "        [0, 0, 0]]], dtype=uint8), 1)] [(array([[[0, 0, 0],\n",
      "        [0, 0, 0],\n",
      "        [0, 0, 0],\n",
      "        ...,\n",
      "        [0, 0, 0],\n",
      "        [0, 0, 0],\n",
      "        [0, 0, 0]],\n",
      "\n",
      "       [[0, 0, 0],\n",
      "        [0, 0, 0],\n",
      "        [0, 0, 0],\n",
      "        ...,\n",
      "        [0, 0, 0],\n",
      "        [0, 0, 0],\n",
      "        [0, 0, 0]],\n",
      "\n",
      "       [[0, 0, 0],\n",
      "        [0, 0, 0],\n",
      "        [0, 0, 0],\n",
      "        ...,\n",
      "        [0, 0, 0],\n",
      "        [0, 0, 0],\n",
      "        [0, 0, 0]],\n",
      "\n",
      "       ...,\n",
      "\n",
      "       [[0, 0, 0],\n",
      "        [0, 0, 0],\n",
      "        [0, 0, 0],\n",
      "        ...,\n",
      "        [0, 0, 0],\n",
      "        [0, 0, 0],\n",
      "        [0, 0, 0]],\n",
      "\n",
      "       [[0, 0, 0],\n",
      "        [0, 0, 0],\n",
      "        [0, 0, 0],\n",
      "        ...,\n",
      "        [0, 0, 0],\n",
      "        [0, 0, 0],\n",
      "        [0, 0, 0]],\n",
      "\n",
      "       [[0, 0, 0],\n",
      "        [0, 0, 0],\n",
      "        [0, 0, 0],\n",
      "        ...,\n",
      "        [0, 0, 0],\n",
      "        [0, 0, 0],\n",
      "        [0, 0, 0]]], dtype=uint8), 0)] [(array([[[0, 0, 0],\n",
      "        [0, 0, 0],\n",
      "        [0, 0, 0],\n",
      "        ...,\n",
      "        [0, 0, 0],\n",
      "        [0, 0, 0],\n",
      "        [0, 0, 0]],\n",
      "\n",
      "       [[0, 0, 0],\n",
      "        [0, 0, 0],\n",
      "        [0, 0, 0],\n",
      "        ...,\n",
      "        [0, 0, 0],\n",
      "        [0, 0, 0],\n",
      "        [0, 0, 0]],\n",
      "\n",
      "       [[0, 0, 0],\n",
      "        [0, 0, 0],\n",
      "        [0, 0, 0],\n",
      "        ...,\n",
      "        [0, 0, 0],\n",
      "        [0, 0, 0],\n",
      "        [0, 0, 0]],\n",
      "\n",
      "       ...,\n",
      "\n",
      "       [[0, 0, 0],\n",
      "        [0, 0, 0],\n",
      "        [0, 0, 0],\n",
      "        ...,\n",
      "        [0, 0, 0],\n",
      "        [0, 0, 0],\n",
      "        [0, 0, 0]],\n",
      "\n",
      "       [[0, 0, 0],\n",
      "        [0, 0, 0],\n",
      "        [0, 0, 0],\n",
      "        ...,\n",
      "        [0, 0, 0],\n",
      "        [0, 0, 0],\n",
      "        [0, 0, 0]],\n",
      "\n",
      "       [[0, 0, 0],\n",
      "        [0, 0, 0],\n",
      "        [0, 0, 0],\n",
      "        ...,\n",
      "        [0, 0, 0],\n",
      "        [0, 0, 0],\n",
      "        [0, 0, 0]]], dtype=uint8), 0)]\n"
     ]
    }
   ],
   "source": [
    "dataset, dataset_info = tfds.load('malaria', with_info = True, as_supervised=True, shuffle_files = True, split = ['train'])\n",
    "\n",
    "def splits(dataset, TRAIN_RATIO , VAL_RATIO , TEST_RATIO, print_results = False):    \n",
    "    \n",
    "    DATASET_SIZE = len(dataset)\n",
    "    train_dataset = dataset.take(int( TRAIN_RATIO * DATASET_SIZE))\n",
    "    \n",
    "    \n",
    "    val_test_dataset = dataset.skip(int( TRAIN_RATIO * DATASET_SIZE))\n",
    "    val_dataset = val_test_dataset.take(int( VAL_RATIO * DATASET_SIZE))\n",
    "    \n",
    "    \n",
    "    test_dataset = val_test_dataset.skip(int( VAL_RATIO * DATASET_SIZE))\n",
    "    \n",
    "\n",
    "    if print_results == True:\n",
    "        print(list(dataset.as_numpy_iterator()))\n",
    "        print(list(train_dataset.as_numpy_iterator()))\n",
    "        print(list(val_dataset.as_numpy_iterator()))\n",
    "        print(list(test_dataset.as_numpy_iterator()))\n",
    "    return train_dataset, val_dataset, test_dataset\n",
    "\n",
    "TRAIN_RATIO = 0.8\n",
    "VAL_RATIO = 0.1\n",
    "TEST_RATIO = 0.1\n",
    "\n",
    "# dataset = tf.data.Dataset.range(10)\n",
    "\n",
    "train_dataset, val_dataset, test_dataset = splits(dataset[0], TRAIN_RATIO , VAL_RATIO , TEST_RATIO) #here\n",
    "print(list(train_dataset.take(1).as_numpy_iterator()), \n",
    "      list(val_dataset.take(1).as_numpy_iterator()), \n",
    "      list(test_dataset.take(1).as_numpy_iterator()))\n",
    "\n",
    "IM_SIZE = 224\n",
    "def resize_rescale(image, label):\n",
    "    return tf.image.resize(image, (IM_SIZE, IM_SIZE))/255.0, label\n",
    "\n",
    "train_dataset = train_dataset.map(resize_rescale)\n",
    "val_dataset = val_dataset.map(resize_rescale)\n",
    "test_dataset = test_dataset.map(resize_rescale)\n",
    "\n",
    "train_dataset = train_dataset.shuffle(buffer_size=8, reshuffle_each_iteration=True).batch(32).prefetch(tf.data.AUTOTUNE)\n",
    "val_dataset = val_dataset.shuffle(buffer_size=8, reshuffle_each_iteration=True).batch(32).prefetch(tf.data.AUTOTUNE)\n",
    "# # test_dataset = test_dataset.map(resize_rescale)"
   ]
  },
  {
   "cell_type": "code",
   "execution_count": 47,
   "id": "91648a17-f52e-4e0c-b881-b5e02e21488a",
   "metadata": {
    "canvas": {
     "comments": [],
     "componentType": "CodeCell",
     "copiedOriginId": null,
     "diskcache": false,
     "headerColor": "transparent",
     "id": "2a439b41-f835-43ef-967a-f23586000e6d",
     "isComponent": false,
     "name": "",
     "parents": []
    }
   },
   "outputs": [
    {
     "name": "stdout",
     "output_type": "stream",
     "text": [
      "Model: \"sequential_1\"\n",
      "_________________________________________________________________\n",
      " Layer (type)                Output Shape              Param #   \n",
      "=================================================================\n",
      " conv2d_2 (Conv2D)           (None, 220, 220, 6)       456       \n",
      "                                                                 \n",
      " batch_normalization_4 (Bat  (None, 220, 220, 6)       24        \n",
      " chNormalization)                                                \n",
      "                                                                 \n",
      " max_pooling2d_2 (MaxPoolin  (None, 110, 110, 6)       0         \n",
      " g2D)                                                            \n",
      "                                                                 \n",
      " conv2d_3 (Conv2D)           (None, 106, 106, 16)      2416      \n",
      "                                                                 \n",
      " batch_normalization_5 (Bat  (None, 106, 106, 16)      64        \n",
      " chNormalization)                                                \n",
      "                                                                 \n",
      " max_pooling2d_3 (MaxPoolin  (None, 53, 53, 16)        0         \n",
      " g2D)                                                            \n",
      "                                                                 \n",
      " flatten_1 (Flatten)         (None, 44944)             0         \n",
      "                                                                 \n",
      " dense_3 (Dense)             (None, 100)               4494500   \n",
      "                                                                 \n",
      " batch_normalization_6 (Bat  (None, 100)               400       \n",
      " chNormalization)                                                \n",
      "                                                                 \n",
      " dense_4 (Dense)             (None, 10)                1010      \n",
      "                                                                 \n",
      " batch_normalization_7 (Bat  (None, 10)                40        \n",
      " chNormalization)                                                \n",
      "                                                                 \n",
      " dense_5 (Dense)             (None, 1)                 11        \n",
      "                                                                 \n",
      "=================================================================\n",
      "Total params: 4498921 (17.16 MB)\n",
      "Trainable params: 4498657 (17.16 MB)\n",
      "Non-trainable params: 264 (1.03 KB)\n",
      "_________________________________________________________________\n"
     ]
    }
   ],
   "source": [
    "model= tf.keras.Sequential([\n",
    "    InputLayer (input_shape= (IM_SIZE, IM_SIZE, 3)),\n",
    "    Conv2D(filters = 6, kernel_size = 5, strides=1, padding='valid', activation = 'relu'),\n",
    "    BatchNormalization(),\n",
    "    MaxPool2D (pool_size = 2, strides= 2),\n",
    "    Conv2D(filters = 16, kernel_size = 5, strides=1, padding='valid', activation = 'relu'),\n",
    "    BatchNormalization(),\n",
    "    MaxPool2D (pool_size = 2, strides= 2),\n",
    "    Flatten (),\n",
    "\n",
    "    Dense (100, activation = \"relu\"),\n",
    "    BatchNormalization(),\n",
    "    Dense (10, activation = \"relu\"),\n",
    "    BatchNormalization(),\n",
    "    Dense (1, activation = \"sigmoid\"),\n",
    "])\n",
    "model.summary()"
   ]
  },
  {
   "cell_type": "markdown",
   "id": "fbae9c73-b9f1-4997-8af7-8c1fad622e44",
   "metadata": {
    "canvas": {
     "comments": [],
     "componentType": "CodeCell",
     "copiedOriginId": null,
     "diskcache": false,
     "headerColor": "transparent",
     "id": "7225ebab-ce3f-418b-9c07-fa6a7650eb98",
     "isComponent": false,
     "name": "",
     "parents": []
    }
   },
   "source": [
    "# Custom Loss"
   ]
  },
  {
   "cell_type": "code",
   "execution_count": 48,
   "id": "0064ad6b-8947-414a-96c2-1f71ef5dcc07",
   "metadata": {
    "canvas": {
     "comments": [],
     "componentType": "CodeCell",
     "copiedOriginId": null,
     "diskcache": false,
     "headerColor": "transparent",
     "id": "d7909647-2dcb-4995-aa79-1a64487ba92d",
     "isComponent": false,
     "name": "",
     "parents": []
    }
   },
   "outputs": [],
   "source": [
    "class CustomBCE(tf.keras.losses.Loss):\n",
    "    def __init__(self, FACTOR):\n",
    "        super(CustomBCE, self).__init__()\n",
    "        self.FACTOR = FACTOR\n",
    "\n",
    "    def call(self,y_true, y_pred):\n",
    "        bce = BinaryCrossentropy()\n",
    "        return bce(y_true, y_pred) * self.FACTOR"
   ]
  },
  {
   "cell_type": "code",
   "execution_count": 49,
   "id": "453e8241-1e53-4c6a-8ef5-b97d87796dad",
   "metadata": {
    "canvas": {
     "comments": [],
     "componentType": "CodeCell",
     "copiedOriginId": null,
     "diskcache": false,
     "headerColor": "transparent",
     "id": "2aad24d6-7047-46da-bf9a-d69e109edcaa",
     "isComponent": false,
     "name": "",
     "parents": []
    }
   },
   "outputs": [],
   "source": [
    "FACTOR = 1\n",
    "def custom_bce(FACTOR):\n",
    "    def loss(self, y_true, y_pred):\n",
    "        bce = BinaryCrossentropy()\n",
    "        return bce(y_true, y_pred) * FACTOR\n",
    "    return loss"
   ]
  },
  {
   "cell_type": "markdown",
   "id": "05c19a90-aa6f-4d52-8bf1-041f468a84e7",
   "metadata": {
    "canvas": {
     "comments": [],
     "componentType": "CodeCell",
     "copiedOriginId": null,
     "diskcache": false,
     "headerColor": "transparent",
     "id": "807c49b7-c656-45e8-aad4-9f45866253b1",
     "isComponent": false,
     "name": "",
     "parents": []
    }
   },
   "source": [
    "# Custom Metrics"
   ]
  },
  {
   "cell_type": "code",
   "execution_count": 50,
   "id": "36468fa9-8a12-4d0c-8585-8f6dd533a3c4",
   "metadata": {
    "canvas": {
     "comments": [],
     "componentType": "CodeCell",
     "copiedOriginId": null,
     "diskcache": false,
     "headerColor": "transparent",
     "id": "5d389546-aa8a-4256-80f5-13fe8333e8fd",
     "isComponent": false,
     "name": "",
     "parents": []
    }
   },
   "outputs": [],
   "source": [
    "FACTOR = 1\n",
    "# def custom_accuracy(y_true, y_pred):\n",
    "#     return binary_accuracy(y_true, y_pred)"
   ]
  },
  {
   "cell_type": "code",
   "execution_count": 51,
   "id": "fce293e6-aa91-4d4e-bb5a-771a915d8c18",
   "metadata": {
    "canvas": {
     "comments": [],
     "componentType": "CodeCell",
     "copiedOriginId": null,
     "diskcache": false,
     "headerColor": "transparent",
     "id": "dd0208b6-66d3-430d-bf7c-f4313e14efd2",
     "isComponent": false,
     "name": "",
     "parents": []
    }
   },
   "outputs": [],
   "source": [
    "def custom_accuracy(FACTOR):\n",
    "    def acc(y_true, y_pred):\n",
    "        return binary_accuracy(tf.cast(y_true, dtype = tf.float32), y_pred) * FACTOR\n",
    "    return acc"
   ]
  },
  {
   "cell_type": "code",
   "execution_count": 64,
   "id": "c5dbc937-3adc-43a1-8136-ff4503ebbda8",
   "metadata": {
    "canvas": {
     "comments": [],
     "componentType": "CodeCell",
     "copiedOriginId": null,
     "diskcache": false,
     "headerColor": "transparent",
     "id": "9b94f2a7-7165-4298-83f7-b602b133798d",
     "isComponent": false,
     "name": "",
     "parents": []
    }
   },
   "outputs": [],
   "source": [
    "class CustomAccuracy(tf.keras.metrics.Metric):\n",
    "    def __init__(self, FACTOR, name = \"Custom_Accuracy\"):\n",
    "        super(CustomAccuracy, self).__init__()\n",
    "        self.FACTOR = FACTOR\n",
    "        self.accuracy = self.add_weight(name= name, initializer='zeros')\n",
    "\n",
    "    def update_state(self,y_true, y_pred, sample_weight = None):\n",
    "        output = binary_accuracy(tf.cast(y_true, dtype = tf.float32), y_pred) * self.FACTOR\n",
    "        self.accuracy.assign(tf.math.count_nonzero(output, dtype = tf.float32)/ tf.cast(len(output), dtype = tf.float32))\n",
    "        \n",
    "    def result(self):\n",
    "        return self.accuracy\n",
    "        \n",
    "    def reset_state(self):\n",
    "        self.accuracy.assign(0.)"
   ]
  },
  {
   "cell_type": "code",
   "execution_count": 65,
   "id": "54fc548f-8573-4fbb-9e8a-1a965bfe91ea",
   "metadata": {
    "canvas": {
     "comments": [],
     "componentType": "CodeCell",
     "copiedOriginId": null,
     "diskcache": false,
     "headerColor": "transparent",
     "id": "0397cf75-1d78-434b-9d0a-aa0bb50debdb",
     "isComponent": false,
     "name": "",
     "parents": []
    }
   },
   "outputs": [],
   "source": [
    "model.compile(optimizer=Adam(learning_rate = 0.01),\n",
    "             loss = CustomBCE(FACTOR),\n",
    "             metrics = CustomAccuracy(FACTOR)\n",
    "             )"
   ]
  },
  {
   "cell_type": "code",
   "execution_count": null,
   "id": "95507083-6334-4bee-b0e9-5381e58b6d80",
   "metadata": {
    "canvas": {
     "comments": [],
     "componentType": "CodeCell",
     "copiedOriginId": null,
     "diskcache": false,
     "headerColor": "transparent",
     "id": "5ca3d376-8803-41a1-807f-100b4f10d5f2",
     "isComponent": false,
     "name": "",
     "parents": []
    }
   },
   "outputs": [
    {
     "name": "stdout",
     "output_type": "stream",
     "text": [
      "Epoch 1/3\n",
      "689/689 [==============================] - 16s 21ms/step - loss: 0.1902 - custom_accuracy_10: 0.9667 - val_loss: 0.1527 - val_custom_accuracy_10: 0.6667\n",
      "Epoch 2/3\n",
      "687/689 [============================>.] - ETA: 0s - loss: 0.1535 - custom_accuracy_10: 0.9375"
     ]
    },
    {
     "name": "stderr",
     "output_type": "stream",
     "text": [
      "2024-03-08 02:30:14.552393: I tensorflow/core/kernels/data/shuffle_dataset_op.cc:422] ShuffleDatasetV3:349: Filling up shuffle buffer (this may take a while): 1 of 8\n",
      "2024-03-08 02:30:14.770797: I tensorflow/core/kernels/data/shuffle_dataset_op.cc:452] Shuffle buffer filled.\n"
     ]
    }
   ],
   "source": [
    "with tf.device('/gpu:0'):\n",
    "    history = model.fit(train_dataset, validation_data = val_dataset, epochs =3, verbose = 1)"
   ]
  },
  {
   "cell_type": "code",
   "execution_count": null,
   "id": "22c34371-88cb-4399-bfaf-5990790971b6",
   "metadata": {
    "canvas": {
     "comments": [],
     "componentType": "CodeCell",
     "copiedOriginId": null,
     "diskcache": false,
     "headerColor": "transparent",
     "id": "bda49f5b-0fd1-4b58-87aa-f599951edba9",
     "isComponent": false,
     "name": "",
     "parents": []
    }
   },
   "outputs": [],
   "source": []
  },
  {
   "cell_type": "code",
   "execution_count": null,
   "id": "eec3a9f7-0bb2-4d96-aad3-052b8fe1ac47",
   "metadata": {
    "canvas": {
     "comments": [],
     "componentType": "CodeCell",
     "copiedOriginId": null,
     "diskcache": false,
     "headerColor": "transparent",
     "id": "5eb6ca33-589d-41e3-9564-d7c2dcbb5203",
     "isComponent": false,
     "name": "",
     "parents": []
    }
   },
   "outputs": [],
   "source": []
  },
  {
   "cell_type": "code",
   "execution_count": null,
   "id": "b77a4a04-b537-4efb-b326-f842411b6c1a",
   "metadata": {
    "canvas": {
     "comments": [],
     "componentType": "CodeCell",
     "copiedOriginId": null,
     "diskcache": false,
     "headerColor": "transparent",
     "id": "4625a636-062b-4a1c-87f7-46b709917474",
     "isComponent": false,
     "name": "",
     "parents": []
    }
   },
   "outputs": [],
   "source": []
  }
 ],
 "metadata": {
  "canvas": {
   "colorPalette": [
    "inherit",
    "inherit",
    "inherit",
    "inherit",
    "inherit",
    "inherit",
    "inherit",
    "inherit",
    "inherit",
    "inherit"
   ],
   "parameters": [],
   "version": "1.0"
  },
  "kernelspec": {
   "display_name": "Python 3 (ipykernel)",
   "language": "python",
   "name": "python3"
  },
  "language_info": {
   "codemirror_mode": {
    "name": "ipython",
    "version": 3
   },
   "file_extension": ".py",
   "mimetype": "text/x-python",
   "name": "python",
   "nbconvert_exporter": "python",
   "pygments_lexer": "ipython3",
   "version": "3.10.13"
  }
 },
 "nbformat": 4,
 "nbformat_minor": 5
}
