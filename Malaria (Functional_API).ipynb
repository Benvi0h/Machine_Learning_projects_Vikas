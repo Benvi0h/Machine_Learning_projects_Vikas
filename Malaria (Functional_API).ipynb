{
 "cells": [
  {
   "cell_type": "markdown",
   "id": "93e811b3-f55d-4279-91f4-ca661acac0f9",
   "metadata": {
    "canvas": {
     "comments": [],
     "componentType": "CodeCell",
     "copiedOriginId": null,
     "diskcache": false,
     "headerColor": "transparent",
     "id": "444fb3c6-a0e1-429f-b897-efd3281d8053",
     "isComponent": false,
     "name": "",
     "parents": []
    },
    "tags": []
   },
   "source": [
    "# Functional API \n",
    "Implementing the functional API for the previously used lenet model\\\\\n",
    "```\n",
    "model= tf.keras.Sequential([\n",
    "    InputLayer (input_shape= (IM_SIZE, IM_SIZE, 3)),\n",
    "    Conv2D(filters = 6, kernel_size = 5, strides=1, padding='valid', activation = 'relu'),\n",
    "    BatchNormalization(),\n",
    "    MaxPool2D (pool_size = 2, strides= 2),\n",
    "    Conv2D(filters = 16, kernel_size = 5, strides=1, padding='valid', activation = 'relu'),\n",
    "    BatchNormalization(),\n",
    "    MaxPool2D (pool_size = 2, strides= 2),\n",
    "    Flatten (),\n",
    "\n",
    "    Dense (100, activation = \"relu\"),\n",
    "    BatchNormalization(),\n",
    "    Dense (10, activation = \"relu\"),\n",
    "    BatchNormalization(),\n",
    "    Dense (1, activation = \"sigmoid\"),\n",
    "])\n",
    "```"
   ]
  },
  {
   "cell_type": "code",
   "execution_count": 2,
   "id": "d769b6f0-d347-4b79-9bf4-3aa2e6dc7f40",
   "metadata": {
    "canvas": {
     "comments": [],
     "componentType": "CodeCell",
     "copiedOriginId": null,
     "diskcache": false,
     "headerColor": "transparent",
     "id": "7079f7c0-a362-46aa-b729-566d73f82e21",
     "isComponent": false,
     "name": "",
     "parents": []
    }
   },
   "outputs": [],
   "source": [
    "import tensorflow as tf### models\n",
    "import numpy as np### math computations\n",
    "import matplotlib.pyplot as plt### plotting bar chart\n",
    "import tensorflow_datasets as tfds\n",
    "from tensorflow.keras.models import Model\n",
    "from tensorflow.keras.layers import Conv2D, MaxPool2D, Dense, Flatten, InputLayer, BatchNormalization, Input\n",
    "from tensorflow.keras.losses import BinaryCrossentropy\n",
    "from tensorflow.keras.metrics import Accuracy, BinaryAccuracy\n",
    "from tensorflow.keras.optimizers import Adam\n",
    "from tensorflow.keras.layers import Layer, RandomRotation, RandomFlip,Resizing, Rescaling\n",
    "import tensorflow_probability as tfp\n",
    "import cv2 as cv2"
   ]
  },
  {
   "cell_type": "code",
   "execution_count": 137,
   "id": "cd44deac-b166-4316-9c2e-9dfe5499307c",
   "metadata": {
    "canvas": {
     "comments": [],
     "componentType": "CodeCell",
     "copiedOriginId": null,
     "diskcache": false,
     "headerColor": "transparent",
     "id": "263be290-c52e-4451-85c5-c2478d73a164",
     "isComponent": false,
     "name": "",
     "parents": []
    },
    "scrolled": true
   },
   "outputs": [
    {
     "name": "stdout",
     "output_type": "stream",
     "text": [
      "[(array([[[0, 0, 0],\n",
      "        [0, 0, 0],\n",
      "        [0, 0, 0],\n",
      "        ...,\n",
      "        [0, 0, 0],\n",
      "        [0, 0, 0],\n",
      "        [0, 0, 0]],\n",
      "\n",
      "       [[0, 0, 0],\n",
      "        [0, 0, 0],\n",
      "        [0, 0, 0],\n",
      "        ...,\n",
      "        [0, 0, 0],\n",
      "        [0, 0, 0],\n",
      "        [0, 0, 0]],\n",
      "\n",
      "       [[0, 0, 0],\n",
      "        [0, 0, 0],\n",
      "        [0, 0, 0],\n",
      "        ...,\n",
      "        [0, 0, 0],\n",
      "        [0, 0, 0],\n",
      "        [0, 0, 0]],\n",
      "\n",
      "       ...,\n",
      "\n",
      "       [[0, 0, 0],\n",
      "        [0, 0, 0],\n",
      "        [0, 0, 0],\n",
      "        ...,\n",
      "        [0, 0, 0],\n",
      "        [0, 0, 0],\n",
      "        [0, 0, 0]],\n",
      "\n",
      "       [[0, 0, 0],\n",
      "        [0, 0, 0],\n",
      "        [0, 0, 0],\n",
      "        ...,\n",
      "        [0, 0, 0],\n",
      "        [0, 0, 0],\n",
      "        [0, 0, 0]],\n",
      "\n",
      "       [[0, 0, 0],\n",
      "        [0, 0, 0],\n",
      "        [0, 0, 0],\n",
      "        ...,\n",
      "        [0, 0, 0],\n",
      "        [0, 0, 0],\n",
      "        [0, 0, 0]]], dtype=uint8), 1)] [(array([[[0, 0, 0],\n",
      "        [0, 0, 0],\n",
      "        [0, 0, 0],\n",
      "        ...,\n",
      "        [0, 0, 0],\n",
      "        [0, 0, 0],\n",
      "        [0, 0, 0]],\n",
      "\n",
      "       [[0, 0, 0],\n",
      "        [0, 0, 0],\n",
      "        [0, 0, 0],\n",
      "        ...,\n",
      "        [0, 0, 0],\n",
      "        [0, 0, 0],\n",
      "        [0, 0, 0]],\n",
      "\n",
      "       [[0, 0, 0],\n",
      "        [0, 0, 0],\n",
      "        [0, 0, 0],\n",
      "        ...,\n",
      "        [0, 0, 0],\n",
      "        [0, 0, 0],\n",
      "        [0, 0, 0]],\n",
      "\n",
      "       ...,\n",
      "\n",
      "       [[0, 0, 0],\n",
      "        [0, 0, 0],\n",
      "        [0, 0, 0],\n",
      "        ...,\n",
      "        [0, 0, 0],\n",
      "        [0, 0, 0],\n",
      "        [0, 0, 0]],\n",
      "\n",
      "       [[0, 0, 0],\n",
      "        [0, 0, 0],\n",
      "        [0, 0, 0],\n",
      "        ...,\n",
      "        [0, 0, 0],\n",
      "        [0, 0, 0],\n",
      "        [0, 0, 0]],\n",
      "\n",
      "       [[0, 0, 0],\n",
      "        [0, 0, 0],\n",
      "        [0, 0, 0],\n",
      "        ...,\n",
      "        [0, 0, 0],\n",
      "        [0, 0, 0],\n",
      "        [0, 0, 0]]], dtype=uint8), 0)] [(array([[[0, 0, 0],\n",
      "        [0, 0, 0],\n",
      "        [0, 0, 0],\n",
      "        ...,\n",
      "        [0, 0, 0],\n",
      "        [0, 0, 0],\n",
      "        [0, 0, 0]],\n",
      "\n",
      "       [[0, 0, 0],\n",
      "        [0, 0, 0],\n",
      "        [0, 0, 0],\n",
      "        ...,\n",
      "        [0, 0, 0],\n",
      "        [0, 0, 0],\n",
      "        [0, 0, 0]],\n",
      "\n",
      "       [[0, 0, 0],\n",
      "        [0, 0, 0],\n",
      "        [0, 0, 0],\n",
      "        ...,\n",
      "        [0, 0, 0],\n",
      "        [0, 0, 0],\n",
      "        [0, 0, 0]],\n",
      "\n",
      "       ...,\n",
      "\n",
      "       [[0, 0, 0],\n",
      "        [0, 0, 0],\n",
      "        [0, 0, 0],\n",
      "        ...,\n",
      "        [0, 0, 0],\n",
      "        [0, 0, 0],\n",
      "        [0, 0, 0]],\n",
      "\n",
      "       [[0, 0, 0],\n",
      "        [0, 0, 0],\n",
      "        [0, 0, 0],\n",
      "        ...,\n",
      "        [0, 0, 0],\n",
      "        [0, 0, 0],\n",
      "        [0, 0, 0]],\n",
      "\n",
      "       [[0, 0, 0],\n",
      "        [0, 0, 0],\n",
      "        [0, 0, 0],\n",
      "        ...,\n",
      "        [0, 0, 0],\n",
      "        [0, 0, 0],\n",
      "        [0, 0, 0]]], dtype=uint8), 0)]\n"
     ]
    }
   ],
   "source": [
    "dataset, dataset_info = tfds.load('malaria', with_info = True, as_supervised=True, shuffle_files = True, split = ['train'])\n",
    "\n",
    "def splits(dataset, TRAIN_RATIO , VAL_RATIO , TEST_RATIO, print_results = False):    \n",
    "    \n",
    "    DATASET_SIZE = len(dataset)\n",
    "    train_dataset = dataset.take(int( TRAIN_RATIO * DATASET_SIZE))\n",
    "    \n",
    "    \n",
    "    val_test_dataset = dataset.skip(int( TRAIN_RATIO * DATASET_SIZE))\n",
    "    val_dataset = val_test_dataset.take(int( VAL_RATIO * DATASET_SIZE))\n",
    "    \n",
    "    \n",
    "    test_dataset = val_test_dataset.skip(int( VAL_RATIO * DATASET_SIZE))\n",
    "    \n",
    "\n",
    "    if print_results == True:\n",
    "        print(list(dataset.as_numpy_iterator()))\n",
    "        print(list(train_dataset.as_numpy_iterator()))\n",
    "        print(list(val_dataset.as_numpy_iterator()))\n",
    "        print(list(test_dataset.as_numpy_iterator()))\n",
    "    return train_dataset, val_dataset, test_dataset\n",
    "\n",
    "TRAIN_RATIO = 0.8\n",
    "VAL_RATIO = 0.1\n",
    "TEST_RATIO = 0.1\n",
    "\n",
    "# dataset = tf.data.Dataset.range(10)\n",
    "\n",
    "train_dataset, val_dataset, test_dataset = splits(dataset[0], TRAIN_RATIO , VAL_RATIO , TEST_RATIO) #here\n",
    "print(list(train_dataset.take(1).as_numpy_iterator()), \n",
    "      list(val_dataset.take(1).as_numpy_iterator()), \n",
    "      list(test_dataset.take(1).as_numpy_iterator()))\n",
    "\n",
    "IM_SIZE = 224\n",
    "def resize_rescale(image, label):\n",
    "    return tf.image.resize(image, (IM_SIZE, IM_SIZE))/255.0, label\n",
    "\n",
    "train_dataset = train_dataset.map(resize_rescale)\n",
    "val_dataset = val_dataset.map(resize_rescale)\n",
    "test_dataset = test_dataset.map(resize_rescale)\n",
    "\n",
    "train_dataset = train_dataset.shuffle(buffer_size=8, reshuffle_each_iteration=True).batch(32).prefetch(tf.data.AUTOTUNE)\n",
    "val_dataset = val_dataset.shuffle(buffer_size=8, reshuffle_each_iteration=True).batch(32).prefetch(tf.data.AUTOTUNE)\n",
    "test_dataset = test_dataset.batch(1)"
   ]
  },
  {
   "cell_type": "code",
   "execution_count": 114,
   "id": "f2076c24-fadf-4845-842d-93fd7bd32448",
   "metadata": {
    "canvas": {
     "comments": [],
     "componentType": "CodeCell",
     "copiedOriginId": null,
     "diskcache": false,
     "headerColor": "transparent",
     "id": "e35d39f1-fa49-47ea-9c0e-3dbe59bfe964",
     "isComponent": false,
     "name": "",
     "parents": []
    }
   },
   "outputs": [],
   "source": [
    "image = train_dataset.take(1).element_spec[0]\n",
    "label = train_dataset.take(1).element_spec[-1]\n",
    "# plt.imshow(image)\n",
    "# plt.title(dataset_info.features['label'].int2str(label))\n",
    "# plt.axis('off')"
   ]
  },
  {
   "cell_type": "code",
   "execution_count": 129,
   "id": "65c82a4a-1bd5-4607-99ce-717015eff401",
   "metadata": {
    "canvas": {
     "comments": [],
     "componentType": "CodeCell",
     "copiedOriginId": null,
     "diskcache": false,
     "headerColor": "transparent",
     "id": "5fe306b8-a297-4c4c-a9f0-3215a6879122",
     "isComponent": false,
     "name": "",
     "parents": []
    }
   },
   "outputs": [
    {
     "name": "stdout",
     "output_type": "stream",
     "text": [
      "tf.Tensor([ 32 224 224   3], shape=(4,), dtype=int32)\n",
      "tf.Tensor([1 1 0 0 0 0 1 1 0 1 0 0 1 1 0 0 1 1 0 1 0 0 1 0 1 0 0 0 1 1 0 1], shape=(32,), dtype=int64)\n"
     ]
    }
   ],
   "source": [
    "for i,(image, label) in enumerate(train_dataset.take(1)):\n",
    "    print(tf.shape(image))\n",
    "    print(label)"
   ]
  },
  {
   "cell_type": "code",
   "execution_count": 45,
   "id": "e914524f-a9d0-4bfe-9d26-79a7c6054c27",
   "metadata": {
    "canvas": {
     "comments": [],
     "componentType": "CodeCell",
     "copiedOriginId": null,
     "diskcache": false,
     "headerColor": "transparent",
     "id": "b5d29db1-c045-4749-8dee-dd5c5091a642",
     "isComponent": false,
     "name": "",
     "parents": []
    }
   },
   "outputs": [
    {
     "name": "stdout",
     "output_type": "stream",
     "text": [
      "Model: \"Lenet_Model\"\n",
      "_________________________________________________________________\n",
      " Layer (type)                Output Shape              Param #   \n",
      "=================================================================\n",
      " Input Image (InputLayer)    [(None, 224, 224, 3)]     0         \n",
      "                                                                 \n",
      " conv2d_16 (Conv2D)          (None, 220, 220, 6)       456       \n",
      "                                                                 \n",
      " batch_normalization_30 (Ba  (None, 220, 220, 6)       24        \n",
      " tchNormalization)                                               \n",
      "                                                                 \n",
      " max_pooling2d_16 (MaxPooli  (None, 110, 110, 6)       0         \n",
      " ng2D)                                                           \n",
      "                                                                 \n",
      " conv2d_17 (Conv2D)          (None, 106, 106, 16)      2416      \n",
      "                                                                 \n",
      " batch_normalization_31 (Ba  (None, 106, 106, 16)      64        \n",
      " tchNormalization)                                               \n",
      "                                                                 \n",
      " max_pooling2d_17 (MaxPooli  (None, 53, 53, 16)        0         \n",
      " ng2D)                                                           \n",
      "                                                                 \n",
      " flatten_4 (Flatten)         (None, 44944)             0         \n",
      "                                                                 \n",
      " dense_21 (Dense)            (None, 100)               4494500   \n",
      "                                                                 \n",
      " batch_normalization_32 (Ba  (None, 100)               400       \n",
      " tchNormalization)                                               \n",
      "                                                                 \n",
      " dense_22 (Dense)            (None, 10)                1010      \n",
      "                                                                 \n",
      " batch_normalization_33 (Ba  (None, 10)                40        \n",
      " tchNormalization)                                               \n",
      "                                                                 \n",
      " dense_23 (Dense)            (None, 1)                 11        \n",
      "                                                                 \n",
      "=================================================================\n",
      "Total params: 4498921 (17.16 MB)\n",
      "Trainable params: 4498657 (17.16 MB)\n",
      "Non-trainable params: 264 (1.03 KB)\n",
      "_________________________________________________________________\n"
     ]
    }
   ],
   "source": [
    "IM_SIZE = 224\n",
    "func_input = Input(shape = (IM_SIZE, IM_SIZE, 3), name = \"Input Image\")\n",
    "\n",
    "x =  Conv2D(filters = 6, kernel_size = 5, strides=1, padding='valid', activation = 'relu')(func_input)\n",
    "x =  BatchNormalization()(x)\n",
    "x =  MaxPool2D (pool_size = 2, strides= 2)(x)\n",
    "x =  Conv2D(filters = 16, kernel_size = 5, strides=1, padding='valid', activation = 'relu')(x)\n",
    "x =  BatchNormalization()(x)\n",
    "x =  MaxPool2D (pool_size = 2, strides= 2)(x)\n",
    "x =  Flatten ()(x)\n",
    "\n",
    "x =  Dense (100, activation = \"relu\")(x)\n",
    "x =  BatchNormalization()(x)\n",
    "x =  Dense (10, activation = \"relu\")(x)\n",
    "x =  BatchNormalization()(x)\n",
    "func_output =  Dense (1, activation = \"sigmoid\")(x)\n",
    "\n",
    "lenet_model = Model(func_input, func_output, name = \"Lenet_Model\")\n",
    "lenet_model.summary()"
   ]
  },
  {
   "cell_type": "markdown",
   "id": "aa738a3c-cef3-4239-b3d5-d6813aeea6ac",
   "metadata": {
    "canvas": {
     "comments": [],
     "componentType": "CodeCell",
     "copiedOriginId": null,
     "diskcache": false,
     "headerColor": "transparent",
     "id": "273e365d-0a33-40e3-8aa3-75033b4eee7a",
     "isComponent": false,
     "name": "",
     "parents": []
    }
   },
   "source": [
    "# Functional API with mixing ways of creating functions, here combo is with sequential model"
   ]
  },
  {
   "cell_type": "code",
   "execution_count": 46,
   "id": "c9cbdd72-3f61-4bce-8bde-e67222138fbe",
   "metadata": {
    "canvas": {
     "comments": [],
     "componentType": "CodeCell",
     "copiedOriginId": null,
     "diskcache": false,
     "headerColor": "transparent",
     "id": "334ff7a6-112d-4781-b42e-e54e84205398",
     "isComponent": false,
     "name": "",
     "parents": []
    }
   },
   "outputs": [],
   "source": [
    "feature_extractor= tf.keras.Sequential([\n",
    "    InputLayer (input_shape= (IM_SIZE, IM_SIZE, 3)),\n",
    "    \n",
    "    Conv2D(filters = 6, kernel_size = 5, strides=1, padding='valid', activation = 'relu'),\n",
    "    BatchNormalization(),\n",
    "    MaxPool2D (pool_size = 2, strides= 2),\n",
    "    \n",
    "    Conv2D(filters = 16, kernel_size = 5, strides=1, padding='valid', activation = 'relu'),\n",
    "    BatchNormalization(),\n",
    "    MaxPool2D (pool_size = 2, strides= 2),\n",
    "])"
   ]
  },
  {
   "cell_type": "code",
   "execution_count": 47,
   "id": "7c946e83-f469-4a76-8a52-129effdb8509",
   "metadata": {
    "canvas": {
     "comments": [],
     "componentType": "CodeCell",
     "copiedOriginId": null,
     "diskcache": false,
     "headerColor": "transparent",
     "id": "4e5e1285-89db-4478-8572-0d483eacbeb5",
     "isComponent": false,
     "name": "",
     "parents": []
    }
   },
   "outputs": [
    {
     "name": "stdout",
     "output_type": "stream",
     "text": [
      "Model: \"Lenet_Model\"\n",
      "_________________________________________________________________\n",
      " Layer (type)                Output Shape              Param #   \n",
      "=================================================================\n",
      " Input Image (InputLayer)    [(None, 224, 224, 3)]     0         \n",
      "                                                                 \n",
      " sequential_1 (Sequential)   (None, 53, 53, 16)        2960      \n",
      "                                                                 \n",
      " flatten_5 (Flatten)         (None, 44944)             0         \n",
      "                                                                 \n",
      " dense_24 (Dense)            (None, 100)               4494500   \n",
      "                                                                 \n",
      " batch_normalization_36 (Ba  (None, 100)               400       \n",
      " tchNormalization)                                               \n",
      "                                                                 \n",
      " dense_25 (Dense)            (None, 10)                1010      \n",
      "                                                                 \n",
      " batch_normalization_37 (Ba  (None, 10)                40        \n",
      " tchNormalization)                                               \n",
      "                                                                 \n",
      " dense_26 (Dense)            (None, 1)                 11        \n",
      "                                                                 \n",
      "=================================================================\n",
      "Total params: 4498921 (17.16 MB)\n",
      "Trainable params: 4498657 (17.16 MB)\n",
      "Non-trainable params: 264 (1.03 KB)\n",
      "_________________________________________________________________\n"
     ]
    }
   ],
   "source": [
    "IM_SIZE = 224\n",
    "func_input = Input(shape = (IM_SIZE, IM_SIZE, 3), name = \"Input Image\")\n",
    "\n",
    "x =  feature_extractor(func_input)\n",
    "x =  Flatten ()(x)\n",
    "\n",
    "x =  Dense (100, activation = \"relu\")(x)\n",
    "x =  BatchNormalization()(x)\n",
    "x =  Dense (10, activation = \"relu\")(x)\n",
    "x =  BatchNormalization()(x)\n",
    "func_output =  Dense (1, activation = \"sigmoid\")(x)\n",
    "\n",
    "lenet_model = Model(func_input, func_output, name = \"Lenet_Model\")\n",
    "lenet_model.summary()"
   ]
  },
  {
   "cell_type": "markdown",
   "id": "07929ddd-ec0f-486e-a258-c39e59be7d59",
   "metadata": {
    "canvas": {
     "comments": [],
     "componentType": "CodeCell",
     "copiedOriginId": null,
     "diskcache": false,
     "headerColor": "transparent",
     "id": "621e88e0-35e9-42ad-b176-d2fa56f217b0",
     "isComponent": false,
     "name": "",
     "parents": []
    }
   },
   "source": [
    "# Model Subclassing"
   ]
  },
  {
   "cell_type": "code",
   "execution_count": 48,
   "id": "d3166cee-67ae-46a3-87a7-cae339724f62",
   "metadata": {
    "canvas": {
     "comments": [],
     "componentType": "CodeCell",
     "copiedOriginId": null,
     "diskcache": false,
     "headerColor": "transparent",
     "id": "3a0e8fbf-8b26-4e15-b131-814deeeee87c",
     "isComponent": false,
     "name": "",
     "parents": []
    }
   },
   "outputs": [],
   "source": [
    "class Feature_Extractor(Layer):\n",
    "    def __init__(self, filters, kernel_size, strides, padding, activation, pool_size,):\n",
    "        super(Feature_Extractor, self).__init__()\n",
    "        \n",
    "        self.conv_1 = Conv2D(filters = filters, kernel_size = kernel_size, strides = strides, padding=padding, activation = activation)\n",
    "        self.batch_1 = BatchNormalization ()\n",
    "        self.pool_1 = MaxPool2D (pool_size = pool_size, strides= 2*strides)\n",
    "        \n",
    "        self.conv_2 = Conv2D(filters = filters*2, kernel_size = kernel_size, strides = strides, padding=padding, activation = activation)\n",
    "        self.batch_2 = BatchNormalization ()\n",
    "        self.pool_2 = MaxPool2D (pool_size = pool_size , strides= 2*strides)\n",
    "        \n",
    "    def call(self, x, training):\n",
    "        x = self.conv_1(x)\n",
    "        x = self.batch_1(x)\n",
    "        x = self.pool_1(x)\n",
    "    \n",
    "        x = self.conv_2(x)\n",
    "        x = self.batch_2(x)\n",
    "        x = self.pool_2(x)\n",
    "        return x"
   ]
  },
  {
   "cell_type": "code",
   "execution_count": 49,
   "id": "bd56ba6f-c3f7-40a8-9573-f3cab904faea",
   "metadata": {
    "canvas": {
     "comments": [],
     "componentType": "CodeCell",
     "copiedOriginId": null,
     "diskcache": false,
     "headerColor": "transparent",
     "id": "0cc5fb78-c8dd-4bf1-aaa7-c483f88c06ce",
     "isComponent": false,
     "name": "",
     "parents": []
    }
   },
   "outputs": [],
   "source": [
    "feature_sub_classed = Feature_Extractor(8,3,1,\"valid\", \"relu\", 2)"
   ]
  },
  {
   "cell_type": "code",
   "execution_count": 50,
   "id": "9bdc3dd7-3075-46a7-ac1b-ff2327096108",
   "metadata": {
    "canvas": {
     "comments": [],
     "componentType": "CodeCell",
     "copiedOriginId": null,
     "diskcache": false,
     "headerColor": "transparent",
     "id": "b98163f8-0810-4f45-83ee-0c824a036215",
     "isComponent": false,
     "name": "",
     "parents": []
    }
   },
   "outputs": [
    {
     "name": "stdout",
     "output_type": "stream",
     "text": [
      "Model: \"Lenet_Model\"\n",
      "_________________________________________________________________\n",
      " Layer (type)                Output Shape              Param #   \n",
      "=================================================================\n",
      " Input Image (InputLayer)    [(None, 224, 224, 3)]     0         \n",
      "                                                                 \n",
      " feature__extractor_4 (Feat  (None, 54, 54, 16)        1488      \n",
      " ure_Extractor)                                                  \n",
      "                                                                 \n",
      " flatten_6 (Flatten)         (None, 46656)             0         \n",
      "                                                                 \n",
      " dense_27 (Dense)            (None, 100)               4665700   \n",
      "                                                                 \n",
      " batch_normalization_40 (Ba  (None, 100)               400       \n",
      " tchNormalization)                                               \n",
      "                                                                 \n",
      " dense_28 (Dense)            (None, 10)                1010      \n",
      "                                                                 \n",
      " batch_normalization_41 (Ba  (None, 10)                40        \n",
      " tchNormalization)                                               \n",
      "                                                                 \n",
      " dense_29 (Dense)            (None, 1)                 11        \n",
      "                                                                 \n",
      "=================================================================\n",
      "Total params: 4668649 (17.81 MB)\n",
      "Trainable params: 4668381 (17.81 MB)\n",
      "Non-trainable params: 268 (1.05 KB)\n",
      "_________________________________________________________________\n"
     ]
    }
   ],
   "source": [
    "IM_SIZE = 224\n",
    "func_input = Input(shape = (IM_SIZE, IM_SIZE, 3), name = \"Input Image\")\n",
    "\n",
    "x =  feature_sub_classed(func_input)\n",
    "x =  Flatten ()(x)\n",
    "\n",
    "x =  Dense (100, activation = \"relu\")(x)\n",
    "x =  BatchNormalization()(x)\n",
    "x =  Dense (10, activation = \"relu\")(x)\n",
    "x =  BatchNormalization()(x)\n",
    "func_output =  Dense (1, activation = \"sigmoid\")(x)\n",
    "\n",
    "lenet_model = Model(func_input, func_output, name = \"Lenet_Model\")\n",
    "lenet_model.summary()"
   ]
  },
  {
   "cell_type": "code",
   "execution_count": 63,
   "id": "06d12a6b-794c-47ff-967f-c933c2c55ead",
   "metadata": {
    "canvas": {
     "comments": [],
     "componentType": "CodeCell",
     "copiedOriginId": null,
     "diskcache": false,
     "headerColor": "transparent",
     "id": "afdc70aa-8e9b-4b7b-a20e-0ff6831dd16e",
     "isComponent": false,
     "name": "",
     "parents": []
    }
   },
   "outputs": [],
   "source": [
    "class LenetModel(Model):\n",
    "    def __init__(self):\n",
    "        super(LenetModel, self).__init__()\n",
    "        \n",
    "        self.feature_extractor = Feature_Extractor(8,3,1,\"valid\", \"relu\", 2)\n",
    "        self.flatten = Flatten()\n",
    "        self.dense_1 = Dense (100, activation = \"relu\")\n",
    "        self.batch_norm_1 = BatchNormalization()\n",
    "        \n",
    "        self.dense_2 = Dense (10, activation = \"relu\")\n",
    "        self.batch_norm_2 = BatchNormalization()\n",
    "\n",
    "        self.dense_3 = Dense (1, activation = \"sigmoid\")\n",
    "        \n",
    "    def call(self, x, training):\n",
    "        x = self.feature_extractor(x)\n",
    "        x = self.flatten(x)\n",
    "        x = self.dense_1(x)\n",
    "        x = self.batch_norm_1(x)\n",
    "    \n",
    "        x = self.dense_2(x)\n",
    "        x = self.batch_norm_2(x)\n",
    "        x = self.dense_3(x)\n",
    "        return x"
   ]
  },
  {
   "cell_type": "code",
   "execution_count": 64,
   "id": "863e9d79-91e9-461a-95a2-cdf4dcd22793",
   "metadata": {
    "canvas": {
     "comments": [],
     "componentType": "CodeCell",
     "copiedOriginId": null,
     "diskcache": false,
     "headerColor": "transparent",
     "id": "63a5edfd-ac16-4a55-aeea-544109f236ff",
     "isComponent": false,
     "name": "",
     "parents": []
    },
    "scrolled": true
   },
   "outputs": [
    {
     "name": "stdout",
     "output_type": "stream",
     "text": [
      "Model: \"lenet_model_5\"\n",
      "_________________________________________________________________\n",
      " Layer (type)                Output Shape              Param #   \n",
      "=================================================================\n",
      " feature__extractor_7 (Feat  multiple                  1488      \n",
      " ure_Extractor)                                                  \n",
      "                                                                 \n",
      " flatten_7 (Flatten)         multiple                  0         \n",
      "                                                                 \n",
      " dense_36 (Dense)            multiple                  4665700   \n",
      "                                                                 \n",
      " batch_normalization_52 (Ba  multiple                  400       \n",
      " tchNormalization)                                               \n",
      "                                                                 \n",
      " dense_37 (Dense)            multiple                  1010      \n",
      "                                                                 \n",
      " batch_normalization_53 (Ba  multiple                  40        \n",
      " tchNormalization)                                               \n",
      "                                                                 \n",
      " dense_38 (Dense)            multiple                  11        \n",
      "                                                                 \n",
      "=================================================================\n",
      "Total params: 4668649 (17.81 MB)\n",
      "Trainable params: 4668381 (17.81 MB)\n",
      "Non-trainable params: 268 (1.05 KB)\n",
      "_________________________________________________________________\n"
     ]
    }
   ],
   "source": [
    "lenet_model = LenetModel()\n",
    "lenet_model(tf.zeros([1,224,224,3]))\n",
    "lenet_model.summary()"
   ]
  },
  {
   "cell_type": "code",
   "execution_count": 65,
   "id": "a15cc188-9d39-4cd0-a2b8-58fc6af72516",
   "metadata": {
    "canvas": {
     "comments": [],
     "componentType": "CodeCell",
     "copiedOriginId": null,
     "diskcache": false,
     "headerColor": "transparent",
     "id": "e09f7272-66ac-4cb5-a82e-9281ca66fdac",
     "isComponent": false,
     "name": "",
     "parents": []
    }
   },
   "outputs": [],
   "source": [
    "lenet_model.compile (optimizer = Adam (learning_rate = 0.01),\n",
    "                            loss = BinaryCrossentropy (),\n",
    "                            metrics ='accuracy')"
   ]
  },
  {
   "cell_type": "code",
   "execution_count": 66,
   "id": "7dcad1b7-1719-41ed-a29b-8fa05326bc58",
   "metadata": {
    "canvas": {
     "comments": [],
     "componentType": "CodeCell",
     "copiedOriginId": null,
     "diskcache": false,
     "headerColor": "transparent",
     "id": "6bdb6adb-5215-4617-b30b-0c852dd8c289",
     "isComponent": false,
     "name": "",
     "parents": []
    }
   },
   "outputs": [
    {
     "name": "stdout",
     "output_type": "stream",
     "text": [
      "Epoch 1/10\n"
     ]
    },
    {
     "name": "stderr",
     "output_type": "stream",
     "text": [
      "2024-03-06 14:42:18.702077: I external/local_xla/xla/service/service.cc:168] XLA service 0x7f192c4e1790 initialized for platform CUDA (this does not guarantee that XLA will be used). Devices:\n",
      "2024-03-06 14:42:18.702103: I external/local_xla/xla/service/service.cc:176]   StreamExecutor device (0): NVIDIA GeForce RTX 4070 Laptop GPU, Compute Capability 8.9\n",
      "2024-03-06 14:42:18.712233: I tensorflow/compiler/mlir/tensorflow/utils/dump_mlir_util.cc:269] disabling MLIR crash reproducer, set env var `MLIR_CRASH_REPRODUCER_DIRECTORY` to enable.\n",
      "WARNING: All log messages before absl::InitializeLog() is called are written to STDERR\n",
      "I0000 00:00:1709716338.777273     709 device_compiler.h:186] Compiled cluster using XLA!  This line is logged at most once for the lifetime of the process.\n"
     ]
    },
    {
     "name": "stdout",
     "output_type": "stream",
     "text": [
      "689/689 [==============================] - 18s 21ms/step - loss: 0.3918 - accuracy: 0.8254 - val_loss: 0.2104 - val_accuracy: 0.9332\n",
      "Epoch 2/10\n",
      "689/689 [==============================] - 14s 21ms/step - loss: 0.2213 - accuracy: 0.9228 - val_loss: 0.2213 - val_accuracy: 0.9292\n",
      "Epoch 3/10\n",
      "689/689 [==============================] - 15s 21ms/step - loss: 0.1893 - accuracy: 0.9350 - val_loss: 0.1627 - val_accuracy: 0.9445\n",
      "Epoch 4/10\n",
      "689/689 [==============================] - 15s 21ms/step - loss: 0.1855 - accuracy: 0.9361 - val_loss: 0.6765 - val_accuracy: 0.8334\n",
      "Epoch 5/10\n",
      "689/689 [==============================] - 14s 20ms/step - loss: 0.1781 - accuracy: 0.9383 - val_loss: 0.1636 - val_accuracy: 0.9470\n",
      "Epoch 6/10\n",
      "689/689 [==============================] - 15s 21ms/step - loss: 0.1735 - accuracy: 0.9391 - val_loss: 1.2660 - val_accuracy: 0.9365\n",
      "Epoch 7/10\n",
      "689/689 [==============================] - 14s 20ms/step - loss: 0.1632 - accuracy: 0.9444 - val_loss: 0.3076 - val_accuracy: 0.9198\n",
      "Epoch 8/10\n",
      "689/689 [==============================] - 14s 20ms/step - loss: 0.1656 - accuracy: 0.9433 - val_loss: 0.3731 - val_accuracy: 0.8069\n",
      "Epoch 9/10\n",
      "689/689 [==============================] - 14s 20ms/step - loss: 0.1641 - accuracy: 0.9428 - val_loss: 0.4257 - val_accuracy: 0.7085\n",
      "Epoch 10/10\n",
      "689/689 [==============================] - 14s 20ms/step - loss: 0.1533 - accuracy: 0.9478 - val_loss: 0.6212 - val_accuracy: 0.6276\n"
     ]
    }
   ],
   "source": [
    "history = lenet_model.fit(train_dataset, validation_data=val_dataset, epochs = 10, verbose = 1)"
   ]
  },
  {
   "cell_type": "markdown",
   "id": "714dd8e6-7f53-42a8-9897-0f291658c613",
   "metadata": {
    "canvas": {
     "comments": [],
     "componentType": "CodeCell",
     "copiedOriginId": null,
     "diskcache": false,
     "headerColor": "transparent",
     "id": "19d25183-5303-42de-bb65-d6f38598db8b",
     "isComponent": false,
     "name": "",
     "parents": []
    }
   },
   "source": [
    "# Custom Layers"
   ]
  },
  {
   "cell_type": "code",
   "execution_count": 39,
   "id": "62b76b11-0a6d-4c9d-8422-2ea0b3d21bd6",
   "metadata": {
    "canvas": {
     "comments": [],
     "componentType": "CodeCell",
     "copiedOriginId": null,
     "diskcache": false,
     "headerColor": "transparent",
     "id": "f02cb108-ccca-4ed7-9d56-0fba0110ac81",
     "isComponent": false,
     "name": "",
     "parents": []
    }
   },
   "outputs": [],
   "source": [
    "class NeuralearnDense (Layer): \n",
    "    def __init__(self, output_units, activation):\n",
    "        super (NeuralearnDense, self).__init__()\n",
    "        self.output_units = output_units \n",
    "        self.activation = activation\n",
    "    \n",
    "    def build(self, input_features_shape):\n",
    "        self.w = self.add_weight(shape = (input_features_shape[-1], self.output_units), initializer = \"random_normal\", trainable = 1)\n",
    "        self.b = self.add_weight(shape = (self.output_units,), initializer = \"random_normal\", trainable = True)\n",
    "        \n",
    "    def call(self, input_features):\n",
    "        pre_output = tf.matmul(input_features, self.w) + self.b\n",
    "        \n",
    "        if(self.activation == \"relu\"):\n",
    "            return tf.nn.relu(pre_output)\n",
    "        elif(self.activation == \"sigmoid\"):\n",
    "            return tf.math.sigmoid(pre_output)\n",
    "        else:\n",
    "            return pre_output"
   ]
  },
  {
   "cell_type": "code",
   "execution_count": 81,
   "id": "92bddd8e-1977-4e81-9373-d877f311b414",
   "metadata": {
    "canvas": {
     "comments": [],
     "componentType": "CodeCell",
     "copiedOriginId": null,
     "diskcache": false,
     "headerColor": "transparent",
     "id": "ac9d9c78-9140-4e4e-b925-4902abc8951e",
     "isComponent": false,
     "name": "",
     "parents": []
    },
    "scrolled": true
   },
   "outputs": [
    {
     "name": "stdout",
     "output_type": "stream",
     "text": [
      "Model: \"sequential_3\"\n",
      "_________________________________________________________________\n",
      " Layer (type)                Output Shape              Param #   \n",
      "=================================================================\n",
      " conv2d_38 (Conv2D)          (None, 220, 220, 6)       456       \n",
      "                                                                 \n",
      " batch_normalization_66 (Ba  (None, 220, 220, 6)       24        \n",
      " tchNormalization)                                               \n",
      "                                                                 \n",
      " max_pooling2d_38 (MaxPooli  (None, 110, 110, 6)       0         \n",
      " ng2D)                                                           \n",
      "                                                                 \n",
      " conv2d_39 (Conv2D)          (None, 106, 106, 16)      2416      \n",
      "                                                                 \n",
      " batch_normalization_67 (Ba  (None, 106, 106, 16)      64        \n",
      " tchNormalization)                                               \n",
      "                                                                 \n",
      " max_pooling2d_39 (MaxPooli  (None, 53, 53, 16)        0         \n",
      " ng2D)                                                           \n",
      "                                                                 \n",
      " flatten_13 (Flatten)        (None, 44944)             0         \n",
      "                                                                 \n",
      " neuralearn_dense_3 (Neural  (None, 100)               4494500   \n",
      " earnDense)                                                      \n",
      "                                                                 \n",
      " batch_normalization_68 (Ba  (None, 100)               400       \n",
      " tchNormalization)                                               \n",
      "                                                                 \n",
      " neuralearn_dense_4 (Neural  (None, 10)                1010      \n",
      " earnDense)                                                      \n",
      "                                                                 \n",
      " batch_normalization_69 (Ba  (None, 10)                40        \n",
      " tchNormalization)                                               \n",
      "                                                                 \n",
      " neuralearn_dense_5 (Neural  (None, 1)                 11        \n",
      " earnDense)                                                      \n",
      "                                                                 \n",
      "=================================================================\n",
      "Total params: 4498921 (17.16 MB)\n",
      "Trainable params: 4498657 (17.16 MB)\n",
      "Non-trainable params: 264 (1.03 KB)\n",
      "_________________________________________________________________\n"
     ]
    }
   ],
   "source": [
    "model= tf.keras.Sequential([\n",
    "    InputLayer (input_shape= (IM_SIZE, IM_SIZE, 3)),\n",
    "    Conv2D(filters = 6, kernel_size = 5, strides=1, padding='valid', activation = 'relu'),\n",
    "    BatchNormalization(),\n",
    "    MaxPool2D (pool_size = 2, strides= 2),\n",
    "    Conv2D(filters = 16, kernel_size = 5, strides=1, padding='valid', activation = 'relu'),\n",
    "    BatchNormalization(),\n",
    "    MaxPool2D (pool_size = 2, strides= 2),\n",
    "    Flatten (),\n",
    "\n",
    "    NeuralearnDense (100, activation = \"relu\"),\n",
    "    BatchNormalization(),\n",
    "    NeuralearnDense (10, activation = \"relu\"),\n",
    "    BatchNormalization(),\n",
    "    NeuralearnDense (1, activation = \"sigmoid\"),\n",
    "])\n",
    "model.summary()"
   ]
  },
  {
   "cell_type": "markdown",
   "id": "7630e6aa-2a08-4fcd-991f-ec269219c953",
   "metadata": {
    "canvas": {
     "comments": [],
     "componentType": "CodeCell",
     "copiedOriginId": null,
     "diskcache": false,
     "headerColor": "transparent",
     "id": "8bbd66f5-4e84-459b-8b50-ef2220242cf6",
     "isComponent": false,
     "name": "",
     "parents": []
    }
   },
   "source": [
    "# Data Augmentation\n",
    "\n",
    "Tensorflow Documentation : https://www.tensorflow.org/tutorials/images/data_augmentation"
   ]
  },
  {
   "cell_type": "code",
   "execution_count": 110,
   "id": "691dca10-4f73-4965-b042-f80db739ca6b",
   "metadata": {
    "canvas": {
     "comments": [],
     "componentType": "CodeCell",
     "copiedOriginId": null,
     "diskcache": false,
     "headerColor": "transparent",
     "id": "1c4e719a-50b0-4a4a-b0e0-b1ede4bc5cc7",
     "isComponent": false,
     "name": "",
     "parents": []
    },
    "scrolled": true
   },
   "outputs": [
    {
     "name": "stdout",
     "output_type": "stream",
     "text": [
      "[(array([[[0, 0, 0],\n",
      "        [0, 0, 0],\n",
      "        [0, 0, 0],\n",
      "        ...,\n",
      "        [0, 0, 0],\n",
      "        [0, 0, 0],\n",
      "        [0, 0, 0]],\n",
      "\n",
      "       [[0, 0, 0],\n",
      "        [0, 0, 0],\n",
      "        [0, 0, 0],\n",
      "        ...,\n",
      "        [0, 0, 0],\n",
      "        [0, 0, 0],\n",
      "        [0, 0, 0]],\n",
      "\n",
      "       [[0, 0, 0],\n",
      "        [0, 0, 0],\n",
      "        [0, 0, 0],\n",
      "        ...,\n",
      "        [0, 0, 0],\n",
      "        [0, 0, 0],\n",
      "        [0, 0, 0]],\n",
      "\n",
      "       ...,\n",
      "\n",
      "       [[0, 0, 0],\n",
      "        [0, 0, 0],\n",
      "        [0, 0, 0],\n",
      "        ...,\n",
      "        [0, 0, 0],\n",
      "        [0, 0, 0],\n",
      "        [0, 0, 0]],\n",
      "\n",
      "       [[0, 0, 0],\n",
      "        [0, 0, 0],\n",
      "        [0, 0, 0],\n",
      "        ...,\n",
      "        [0, 0, 0],\n",
      "        [0, 0, 0],\n",
      "        [0, 0, 0]],\n",
      "\n",
      "       [[0, 0, 0],\n",
      "        [0, 0, 0],\n",
      "        [0, 0, 0],\n",
      "        ...,\n",
      "        [0, 0, 0],\n",
      "        [0, 0, 0],\n",
      "        [0, 0, 0]]], dtype=uint8), 0)] [(array([[[0, 0, 0],\n",
      "        [0, 0, 0],\n",
      "        [0, 0, 0],\n",
      "        ...,\n",
      "        [0, 0, 0],\n",
      "        [0, 0, 0],\n",
      "        [0, 0, 0]],\n",
      "\n",
      "       [[0, 0, 0],\n",
      "        [0, 0, 0],\n",
      "        [0, 0, 0],\n",
      "        ...,\n",
      "        [0, 0, 0],\n",
      "        [0, 0, 0],\n",
      "        [0, 0, 0]],\n",
      "\n",
      "       [[0, 0, 0],\n",
      "        [0, 0, 0],\n",
      "        [0, 0, 0],\n",
      "        ...,\n",
      "        [0, 0, 0],\n",
      "        [0, 0, 0],\n",
      "        [0, 0, 0]],\n",
      "\n",
      "       ...,\n",
      "\n",
      "       [[0, 0, 0],\n",
      "        [0, 0, 0],\n",
      "        [0, 0, 0],\n",
      "        ...,\n",
      "        [0, 0, 0],\n",
      "        [0, 0, 0],\n",
      "        [0, 0, 0]],\n",
      "\n",
      "       [[0, 0, 0],\n",
      "        [0, 0, 0],\n",
      "        [0, 0, 0],\n",
      "        ...,\n",
      "        [0, 0, 0],\n",
      "        [0, 0, 0],\n",
      "        [0, 0, 0]],\n",
      "\n",
      "       [[0, 0, 0],\n",
      "        [0, 0, 0],\n",
      "        [0, 0, 0],\n",
      "        ...,\n",
      "        [0, 0, 0],\n",
      "        [0, 0, 0],\n",
      "        [0, 0, 0]]], dtype=uint8), 0)] [(array([[[0, 0, 0],\n",
      "        [0, 0, 0],\n",
      "        [0, 0, 0],\n",
      "        ...,\n",
      "        [0, 0, 0],\n",
      "        [0, 0, 0],\n",
      "        [0, 0, 0]],\n",
      "\n",
      "       [[0, 0, 0],\n",
      "        [0, 0, 0],\n",
      "        [0, 0, 0],\n",
      "        ...,\n",
      "        [0, 0, 0],\n",
      "        [0, 0, 0],\n",
      "        [0, 0, 0]],\n",
      "\n",
      "       [[0, 0, 0],\n",
      "        [0, 0, 0],\n",
      "        [0, 0, 0],\n",
      "        ...,\n",
      "        [0, 0, 0],\n",
      "        [0, 0, 0],\n",
      "        [0, 0, 0]],\n",
      "\n",
      "       ...,\n",
      "\n",
      "       [[0, 0, 0],\n",
      "        [0, 0, 0],\n",
      "        [0, 0, 0],\n",
      "        ...,\n",
      "        [0, 0, 0],\n",
      "        [0, 0, 0],\n",
      "        [0, 0, 0]],\n",
      "\n",
      "       [[0, 0, 0],\n",
      "        [0, 0, 0],\n",
      "        [0, 0, 0],\n",
      "        ...,\n",
      "        [0, 0, 0],\n",
      "        [0, 0, 0],\n",
      "        [0, 0, 0]],\n",
      "\n",
      "       [[0, 0, 0],\n",
      "        [0, 0, 0],\n",
      "        [0, 0, 0],\n",
      "        ...,\n",
      "        [0, 0, 0],\n",
      "        [0, 0, 0],\n",
      "        [0, 0, 0]]], dtype=uint8), 0)]\n"
     ]
    }
   ],
   "source": [
    "dataset, dataset_info = tfds.load('malaria', with_info = True, as_supervised=True, shuffle_files = True, split = ['train'])\n",
    "\n",
    "def splits(dataset, TRAIN_RATIO , VAL_RATIO , TEST_RATIO, print_results = False):    \n",
    "    \n",
    "    DATASET_SIZE = len(dataset)\n",
    "    train_dataset = dataset.take(int( TRAIN_RATIO * DATASET_SIZE))\n",
    "    \n",
    "    \n",
    "    val_test_dataset = dataset.skip(int( TRAIN_RATIO * DATASET_SIZE))\n",
    "    val_dataset = val_test_dataset.take(int( VAL_RATIO * DATASET_SIZE))\n",
    "    \n",
    "    \n",
    "    test_dataset = val_test_dataset.skip(int( VAL_RATIO * DATASET_SIZE))\n",
    "    \n",
    "\n",
    "    if print_results == True:\n",
    "        print(list(dataset.as_numpy_iterator()))\n",
    "        print(list(train_dataset.as_numpy_iterator()))\n",
    "        print(list(val_dataset.as_numpy_iterator()))\n",
    "        print(list(test_dataset.as_numpy_iterator()))\n",
    "    return train_dataset, val_dataset, test_dataset\n",
    "\n",
    "TRAIN_RATIO = 0.8\n",
    "VAL_RATIO = 0.1\n",
    "TEST_RATIO = 0.1\n",
    "\n",
    "# dataset = tf.data.Dataset.range(10)\n",
    "\n",
    "train_dataset, val_dataset, test_dataset = splits(dataset[0], TRAIN_RATIO , VAL_RATIO , TEST_RATIO) #here\n",
    "print(list(train_dataset.take(1).as_numpy_iterator()), \n",
    "      list(val_dataset.take(1).as_numpy_iterator()), \n",
    "      list(test_dataset.take(1).as_numpy_iterator()))\n",
    "\n",
    "IM_SIZE = 224\n",
    "def resize_rescale(image, label):\n",
    "    return tf.image.resize(image, (IM_SIZE, IM_SIZE))/255.0, label\n",
    "\n",
    "# test_dataset = test_dataset.map(resize_rescale)"
   ]
  },
  {
   "cell_type": "code",
   "execution_count": 66,
   "id": "c899162b-f3f0-4256-81b3-c791023a7de1",
   "metadata": {
    "canvas": {
     "comments": [],
     "componentType": "CodeCell",
     "copiedOriginId": null,
     "diskcache": false,
     "headerColor": "transparent",
     "id": "0f379e9d-bb57-4951-97ac-4438187fd2ed",
     "isComponent": false,
     "name": "",
     "parents": []
    }
   },
   "outputs": [],
   "source": [
    "def visualize(original, augmented):\n",
    "    plt.subplot(1,2,1)\n",
    "    plt.imshow(original)\n",
    "\n",
    "    plt.subplot(1,2,2)\n",
    "    plt.imshow(augmented)"
   ]
  },
  {
   "cell_type": "code",
   "execution_count": 67,
   "id": "ec73ec20-4154-4839-85b7-720dded31e11",
   "metadata": {
    "canvas": {
     "comments": [],
     "componentType": "CodeCell",
     "copiedOriginId": null,
     "diskcache": false,
     "headerColor": "transparent",
     "id": "bf7dbb3b-013b-43ae-843b-b8fba1b3f559",
     "isComponent": false,
     "name": "",
     "parents": []
    }
   },
   "outputs": [
    {
     "data": {
      "text/plain": [
       "<tf.Tensor: shape=(3,), dtype=int32, numpy=array([103, 103,   3], dtype=int32)>"
      ]
     },
     "execution_count": 67,
     "metadata": {},
     "output_type": "execute_result"
    }
   ],
   "source": [
    "original_image, label = next(iter(train_dataset))\n",
    "tf.shape(original_image)"
   ]
  },
  {
   "cell_type": "code",
   "execution_count": 68,
   "id": "5ccfbc56-2df3-4d05-941f-f61adabfde2a",
   "metadata": {
    "canvas": {
     "comments": [],
     "componentType": "CodeCell",
     "copiedOriginId": null,
     "diskcache": false,
     "headerColor": "transparent",
     "id": "c7ce16d5-c260-442d-b1f4-2e98fc4dc587",
     "isComponent": false,
     "name": "",
     "parents": []
    }
   },
   "outputs": [
    {
     "data": {
      "text/plain": [
       "<tf.Tensor: shape=(3,), dtype=int32, numpy=array([103, 103,   3], dtype=int32)>"
      ]
     },
     "execution_count": 68,
     "metadata": {},
     "output_type": "execute_result"
    }
   ],
   "source": [
    "augmented_image = tf.image.flip_left_right(original_image)\n",
    "tf.shape(augmented_image)"
   ]
  },
  {
   "cell_type": "code",
   "execution_count": 69,
   "id": "ca571999-07e0-4dc7-98b1-5649de9c6e81",
   "metadata": {
    "canvas": {
     "comments": [],
     "componentType": "CodeCell",
     "copiedOriginId": null,
     "diskcache": false,
     "headerColor": "transparent",
     "id": "a8562fa8-cdff-4b5a-8117-7f24aed2a29a",
     "isComponent": false,
     "name": "",
     "parents": []
    }
   },
   "outputs": [
    {
     "data": {
      "image/png": "[encoded data removed]",
      "text/plain": [
       "<Figure size 640x480 with 2 Axes>"
      ]
     },
     "metadata": {},
     "output_type": "display_data"
    }
   ],
   "source": [
    "visualize(original_image, augmented_image)"
   ]
  },
  {
   "cell_type": "code",
   "execution_count": 70,
   "id": "6717615c-c521-4d65-b6dc-dfb1750e7104",
   "metadata": {
    "canvas": {
     "comments": [],
     "componentType": "CodeCell",
     "copiedOriginId": null,
     "diskcache": false,
     "headerColor": "transparent",
     "id": "79fdeaa1-3192-4823-893e-833bd08ade5b",
     "isComponent": false,
     "name": "",
     "parents": []
    }
   },
   "outputs": [],
   "source": [
    "# IM_SIZE = 224\n",
    "# def resize_rescale_layers(image, label):\n",
    "#     return tf.image.resize(image, (IM_SIZE, IM_SIZE))/225.0, label"
   ]
  },
  {
   "cell_type": "code",
   "execution_count": 119,
   "id": "61c8467e-2172-41b2-92eb-fbc2f6cb07c5",
   "metadata": {
    "canvas": {
     "comments": [],
     "componentType": "CodeCell",
     "copiedOriginId": null,
     "diskcache": false,
     "headerColor": "transparent",
     "id": "ce4d6673-88c7-429c-8865-9cac4e56a976",
     "isComponent": false,
     "name": "",
     "parents": []
    }
   },
   "outputs": [],
   "source": [
    "resize_rescale_layers = tf.keras.Sequential([\n",
    "    Resizing(IM_SIZE, IM_SIZE),\n",
    "    Rescaling(1.0/225),\n",
    "])"
   ]
  },
  {
   "cell_type": "code",
   "execution_count": 120,
   "id": "42da204f-a5e7-4c00-98a3-7ba425a69fe3",
   "metadata": {
    "canvas": {
     "comments": [],
     "componentType": "CodeCell",
     "copiedOriginId": null,
     "diskcache": false,
     "headerColor": "transparent",
     "id": "88ba0c4f-34f6-4db7-bf3a-4ef26485d906",
     "isComponent": false,
     "name": "",
     "parents": []
    }
   },
   "outputs": [],
   "source": [
    "def augment(image, label):\n",
    "    image,label = resize_rescale(image, label)\n",
    "    \n",
    "    image = tf.image.rot90(image)\n",
    "    # image = tf.image.adjust_saturation(image, saturation_factor = 0.3)\n",
    "    #Satuation with this type of images if not a good idea, because the infected part of the cells will become indistinguishable\n",
    "    image = tf.image.flip_left_right(image)\n",
    "    \n",
    "    return image,label"
   ]
  },
  {
   "cell_type": "code",
   "execution_count": 35,
   "id": "b815bedb-daef-4a1f-a398-92f3dce95bc6",
   "metadata": {
    "canvas": {
     "comments": [],
     "componentType": "CodeCell",
     "copiedOriginId": null,
     "diskcache": false,
     "headerColor": "transparent",
     "id": "0ad4aef7-c899-4eff-b650-f5ae1b20dace",
     "isComponent": false,
     "name": "",
     "parents": []
    },
    "scrolled": true
   },
   "outputs": [],
   "source": [
    "train_dataset = (train_dataset\n",
    "                .shuffle(buffer_size=8, reshuffle_each_iteration=True)\n",
    "                # .map(augment)\n",
    "                .batch(1)\n",
    "                .prefetch(tf.data.AUTOTUNE))\n",
    "\n",
    "val_dataset = (val_dataset\n",
    "                .shuffle(buffer_size=8, reshuffle_each_iteration=True)\n",
    "                # .map(resize_rescale)\n",
    "                .batch(1)\n",
    "                .prefetch(tf.data.AUTOTUNE))"
   ]
  },
  {
   "cell_type": "code",
   "execution_count": 36,
   "id": "77163545-23a7-4138-98ed-6118f68d762c",
   "metadata": {
    "canvas": {
     "comments": [],
     "componentType": "CodeCell",
     "copiedOriginId": null,
     "diskcache": false,
     "headerColor": "transparent",
     "id": "35d2eae8-039c-49e7-b7e4-49d642388581",
     "isComponent": false,
     "name": "",
     "parents": []
    }
   },
   "outputs": [],
   "source": [
    "augment_layers = tf.keras.Sequential([\n",
    "    RandomRotation(factor = (0.25, 0.2501)),\n",
    "    RandomFlip(mode = 'horizontal',),\n",
    "])\n",
    "\n",
    "def augment_layer(image, label):\n",
    "    return augment_layers(resize_rescale_layers(image), training = True), label"
   ]
  },
  {
   "cell_type": "code",
   "execution_count": 37,
   "id": "b96b7fc5-0b7c-4572-890d-2341f5761541",
   "metadata": {
    "canvas": {
     "comments": [],
     "componentType": "CodeCell",
     "copiedOriginId": null,
     "diskcache": false,
     "headerColor": "transparent",
     "id": "e6c30fa8-269b-4c5a-98f3-5ef25d52d1be",
     "isComponent": false,
     "name": "",
     "parents": []
    },
    "scrolled": true
   },
   "outputs": [],
   "source": [
    "# test_dataset = test_dataset.map(augment_layers)"
   ]
  },
  {
   "cell_type": "code",
   "execution_count": 40,
   "id": "73b3fe70-2594-49cc-9d53-31de18ce77fe",
   "metadata": {
    "canvas": {
     "comments": [],
     "componentType": "CodeCell",
     "copiedOriginId": null,
     "diskcache": false,
     "headerColor": "transparent",
     "id": "b9929a77-ffb0-45de-8068-ff302e3fa79c",
     "isComponent": false,
     "name": "",
     "parents": []
    },
    "scrolled": true
   },
   "outputs": [
    {
     "name": "stdout",
     "output_type": "stream",
     "text": [
      "Model: \"sequential_2\"\n",
      "_________________________________________________________________\n",
      " Layer (type)                Output Shape              Param #   \n",
      "=================================================================\n",
      " sequential (Sequential)     (None, 224, 224, 3)       0         \n",
      "                                                                 \n",
      " sequential_1 (Sequential)   (None, 224, 224, 3)       0         \n",
      "                                                                 \n",
      " conv2d_2 (Conv2D)           (None, 220, 220, 6)       456       \n",
      "                                                                 \n",
      " batch_normalization_2 (Bat  (None, 220, 220, 6)       24        \n",
      " chNormalization)                                                \n",
      "                                                                 \n",
      " max_pooling2d_2 (MaxPoolin  (None, 110, 110, 6)       0         \n",
      " g2D)                                                            \n",
      "                                                                 \n",
      " conv2d_3 (Conv2D)           (None, 106, 106, 16)      2416      \n",
      "                                                                 \n",
      " batch_normalization_3 (Bat  (None, 106, 106, 16)      64        \n",
      " chNormalization)                                                \n",
      "                                                                 \n",
      " max_pooling2d_3 (MaxPoolin  (None, 53, 53, 16)        0         \n",
      " g2D)                                                            \n",
      "                                                                 \n",
      " flatten_1 (Flatten)         (None, 44944)             0         \n",
      "                                                                 \n",
      " neuralearn_dense (Neuralea  (None, 100)               4494500   \n",
      " rnDense)                                                        \n",
      "                                                                 \n",
      " batch_normalization_4 (Bat  (None, 100)               400       \n",
      " chNormalization)                                                \n",
      "                                                                 \n",
      " neuralearn_dense_1 (Neural  (None, 10)                1010      \n",
      " earnDense)                                                      \n",
      "                                                                 \n",
      " batch_normalization_5 (Bat  (None, 10)                40        \n",
      " chNormalization)                                                \n",
      "                                                                 \n",
      " neuralearn_dense_2 (Neural  (None, 1)                 11        \n",
      " earnDense)                                                      \n",
      "                                                                 \n",
      "=================================================================\n",
      "Total params: 4498921 (17.16 MB)\n",
      "Trainable params: 4498657 (17.16 MB)\n",
      "Non-trainable params: 264 (1.03 KB)\n",
      "_________________________________________________________________\n"
     ]
    }
   ],
   "source": [
    "model= tf.keras.Sequential([\n",
    "    InputLayer (input_shape= (None, None, 3)),\n",
    "\n",
    "    resize_rescale_layers,\n",
    "    augment_layers,\n",
    "    \n",
    "    Conv2D(filters = 6, kernel_size = 5, strides=1, padding='valid', activation = 'relu'),\n",
    "    BatchNormalization(),\n",
    "    MaxPool2D (pool_size = 2, strides= 2),\n",
    "    Conv2D(filters = 16, kernel_size = 5, strides=1, padding='valid', activation = 'relu'),\n",
    "    BatchNormalization(),\n",
    "    MaxPool2D (pool_size = 2, strides= 2),\n",
    "    \n",
    "    Flatten (),\n",
    "\n",
    "    NeuralearnDense (100, activation = \"relu\"),\n",
    "    BatchNormalization(),\n",
    "    NeuralearnDense (10, activation = \"relu\"),\n",
    "    BatchNormalization(),\n",
    "    NeuralearnDense (1, activation = \"sigmoid\"),\n",
    "])\n",
    "model.summary()"
   ]
  },
  {
   "cell_type": "code",
   "execution_count": 41,
   "id": "56333fa1-18e9-4e65-adac-f8524176d739",
   "metadata": {
    "canvas": {
     "comments": [],
     "componentType": "CodeCell",
     "copiedOriginId": null,
     "diskcache": false,
     "headerColor": "transparent",
     "id": "9e26f625-93e7-49ba-9930-47148e719084",
     "isComponent": false,
     "name": "",
     "parents": []
    }
   },
   "outputs": [],
   "source": [
    "model.compile(optimizer=Adam(learning_rate = 0.01),\n",
    "             loss = BinaryCrossentropy(),\n",
    "             metrics = 'accuracy'\n",
    "             )"
   ]
  },
  {
   "cell_type": "code",
   "execution_count": 43,
   "id": "f5cdc0b6-987a-48e6-a75a-6feca8d9e600",
   "metadata": {
    "canvas": {
     "comments": [],
     "componentType": "CodeCell",
     "copiedOriginId": null,
     "diskcache": false,
     "headerColor": "transparent",
     "id": "ac4eda3e-f9ae-430e-b18a-5aca413c6048",
     "isComponent": false,
     "name": "",
     "parents": []
    },
    "scrolled": true
   },
   "outputs": [
    {
     "name": "stdout",
     "output_type": "stream",
     "text": [
      "Epoch 1/10\n",
      "22046/22046 [==============================] - 135s 6ms/step - loss: 0.6952 - accuracy: 0.4997 - val_loss: 4.4407 - val_accuracy: 0.4995\n",
      "Epoch 2/10\n",
      "22046/22046 [==============================] - 154s 7ms/step - loss: 0.6952 - accuracy: 0.5014 - val_loss: 11.3646 - val_accuracy: 0.5474\n",
      "Epoch 3/10\n",
      "22046/22046 [==============================] - 146s 7ms/step - loss: 0.6952 - accuracy: 0.4978 - val_loss: 0.7035 - val_accuracy: 0.4918\n",
      "Epoch 4/10\n",
      "22046/22046 [==============================] - 153s 7ms/step - loss: 0.6950 - accuracy: 0.4975 - val_loss: 31.0387 - val_accuracy: 0.5136\n",
      "Epoch 5/10\n",
      "22046/22046 [==============================] - 156s 7ms/step - loss: 0.6954 - accuracy: 0.4963 - val_loss: 9.5026 - val_accuracy: 0.4998\n",
      "Epoch 6/10\n",
      "18703/22046 [========================>.....] - ETA: 20s - loss: 0.6951 - accuracy: 0.4992"
     ]
    },
    {
     "ename": "KeyboardInterrupt",
     "evalue": "",
     "output_type": "error",
     "traceback": [
      "\u001b[0;31m---------------------------------------------------------------------------\u001b[0m",
      "\u001b[0;31mKeyboardInterrupt\u001b[0m                         Traceback (most recent call last)",
      "Cell \u001b[0;32mIn[43], line 2\u001b[0m\n\u001b[1;32m      1\u001b[0m \u001b[38;5;28;01mwith\u001b[39;00m tf\u001b[38;5;241m.\u001b[39mdevice(\u001b[38;5;124m'\u001b[39m\u001b[38;5;124m/gpu:0\u001b[39m\u001b[38;5;124m'\u001b[39m):\n\u001b[0;32m----> 2\u001b[0m     history \u001b[38;5;241m=\u001b[39m \u001b[43mmodel\u001b[49m\u001b[38;5;241;43m.\u001b[39;49m\u001b[43mfit\u001b[49m\u001b[43m(\u001b[49m\u001b[43mtrain_dataset\u001b[49m\u001b[43m,\u001b[49m\u001b[43m \u001b[49m\u001b[43mvalidation_data\u001b[49m\u001b[43m \u001b[49m\u001b[38;5;241;43m=\u001b[39;49m\u001b[43m \u001b[49m\u001b[43mval_dataset\u001b[49m\u001b[43m,\u001b[49m\u001b[43m \u001b[49m\u001b[43mepochs\u001b[49m\u001b[43m \u001b[49m\u001b[38;5;241;43m=\u001b[39;49m\u001b[38;5;241;43m10\u001b[39;49m\u001b[43m,\u001b[49m\u001b[43m \u001b[49m\u001b[43mverbose\u001b[49m\u001b[43m \u001b[49m\u001b[38;5;241;43m=\u001b[39;49m\u001b[43m \u001b[49m\u001b[38;5;241;43m1\u001b[39;49m\u001b[43m)\u001b[49m\n",
      "File \u001b[0;32m~/anaconda3/envs/tf/lib/python3.10/site-packages/keras/src/utils/traceback_utils.py:65\u001b[0m, in \u001b[0;36mfilter_traceback.<locals>.error_handler\u001b[0;34m(*args, **kwargs)\u001b[0m\n\u001b[1;32m     63\u001b[0m filtered_tb \u001b[38;5;241m=\u001b[39m \u001b[38;5;28;01mNone\u001b[39;00m\n\u001b[1;32m     64\u001b[0m \u001b[38;5;28;01mtry\u001b[39;00m:\n\u001b[0;32m---> 65\u001b[0m     \u001b[38;5;28;01mreturn\u001b[39;00m \u001b[43mfn\u001b[49m\u001b[43m(\u001b[49m\u001b[38;5;241;43m*\u001b[39;49m\u001b[43margs\u001b[49m\u001b[43m,\u001b[49m\u001b[43m \u001b[49m\u001b[38;5;241;43m*\u001b[39;49m\u001b[38;5;241;43m*\u001b[39;49m\u001b[43mkwargs\u001b[49m\u001b[43m)\u001b[49m\n\u001b[1;32m     66\u001b[0m \u001b[38;5;28;01mexcept\u001b[39;00m \u001b[38;5;167;01mException\u001b[39;00m \u001b[38;5;28;01mas\u001b[39;00m e:\n\u001b[1;32m     67\u001b[0m     filtered_tb \u001b[38;5;241m=\u001b[39m _process_traceback_frames(e\u001b[38;5;241m.\u001b[39m__traceback__)\n",
      "File \u001b[0;32m~/anaconda3/envs/tf/lib/python3.10/site-packages/keras/src/engine/training.py:1807\u001b[0m, in \u001b[0;36mModel.fit\u001b[0;34m(self, x, y, batch_size, epochs, verbose, callbacks, validation_split, validation_data, shuffle, class_weight, sample_weight, initial_epoch, steps_per_epoch, validation_steps, validation_batch_size, validation_freq, max_queue_size, workers, use_multiprocessing)\u001b[0m\n\u001b[1;32m   1799\u001b[0m \u001b[38;5;28;01mwith\u001b[39;00m tf\u001b[38;5;241m.\u001b[39mprofiler\u001b[38;5;241m.\u001b[39mexperimental\u001b[38;5;241m.\u001b[39mTrace(\n\u001b[1;32m   1800\u001b[0m     \u001b[38;5;124m\"\u001b[39m\u001b[38;5;124mtrain\u001b[39m\u001b[38;5;124m\"\u001b[39m,\n\u001b[1;32m   1801\u001b[0m     epoch_num\u001b[38;5;241m=\u001b[39mepoch,\n\u001b[0;32m   (...)\u001b[0m\n\u001b[1;32m   1804\u001b[0m     _r\u001b[38;5;241m=\u001b[39m\u001b[38;5;241m1\u001b[39m,\n\u001b[1;32m   1805\u001b[0m ):\n\u001b[1;32m   1806\u001b[0m     callbacks\u001b[38;5;241m.\u001b[39mon_train_batch_begin(step)\n\u001b[0;32m-> 1807\u001b[0m     tmp_logs \u001b[38;5;241m=\u001b[39m \u001b[38;5;28;43mself\u001b[39;49m\u001b[38;5;241;43m.\u001b[39;49m\u001b[43mtrain_function\u001b[49m\u001b[43m(\u001b[49m\u001b[43miterator\u001b[49m\u001b[43m)\u001b[49m\n\u001b[1;32m   1808\u001b[0m     \u001b[38;5;28;01mif\u001b[39;00m data_handler\u001b[38;5;241m.\u001b[39mshould_sync:\n\u001b[1;32m   1809\u001b[0m         context\u001b[38;5;241m.\u001b[39masync_wait()\n",
      "File \u001b[0;32m~/anaconda3/envs/tf/lib/python3.10/site-packages/tensorflow/python/util/traceback_utils.py:150\u001b[0m, in \u001b[0;36mfilter_traceback.<locals>.error_handler\u001b[0;34m(*args, **kwargs)\u001b[0m\n\u001b[1;32m    148\u001b[0m filtered_tb \u001b[38;5;241m=\u001b[39m \u001b[38;5;28;01mNone\u001b[39;00m\n\u001b[1;32m    149\u001b[0m \u001b[38;5;28;01mtry\u001b[39;00m:\n\u001b[0;32m--> 150\u001b[0m   \u001b[38;5;28;01mreturn\u001b[39;00m \u001b[43mfn\u001b[49m\u001b[43m(\u001b[49m\u001b[38;5;241;43m*\u001b[39;49m\u001b[43margs\u001b[49m\u001b[43m,\u001b[49m\u001b[43m \u001b[49m\u001b[38;5;241;43m*\u001b[39;49m\u001b[38;5;241;43m*\u001b[39;49m\u001b[43mkwargs\u001b[49m\u001b[43m)\u001b[49m\n\u001b[1;32m    151\u001b[0m \u001b[38;5;28;01mexcept\u001b[39;00m \u001b[38;5;167;01mException\u001b[39;00m \u001b[38;5;28;01mas\u001b[39;00m e:\n\u001b[1;32m    152\u001b[0m   filtered_tb \u001b[38;5;241m=\u001b[39m _process_traceback_frames(e\u001b[38;5;241m.\u001b[39m__traceback__)\n",
      "File \u001b[0;32m~/anaconda3/envs/tf/lib/python3.10/site-packages/tensorflow/python/eager/polymorphic_function/polymorphic_function.py:832\u001b[0m, in \u001b[0;36mFunction.__call__\u001b[0;34m(self, *args, **kwds)\u001b[0m\n\u001b[1;32m    829\u001b[0m compiler \u001b[38;5;241m=\u001b[39m \u001b[38;5;124m\"\u001b[39m\u001b[38;5;124mxla\u001b[39m\u001b[38;5;124m\"\u001b[39m \u001b[38;5;28;01mif\u001b[39;00m \u001b[38;5;28mself\u001b[39m\u001b[38;5;241m.\u001b[39m_jit_compile \u001b[38;5;28;01melse\u001b[39;00m \u001b[38;5;124m\"\u001b[39m\u001b[38;5;124mnonXla\u001b[39m\u001b[38;5;124m\"\u001b[39m\n\u001b[1;32m    831\u001b[0m \u001b[38;5;28;01mwith\u001b[39;00m OptionalXlaContext(\u001b[38;5;28mself\u001b[39m\u001b[38;5;241m.\u001b[39m_jit_compile):\n\u001b[0;32m--> 832\u001b[0m   result \u001b[38;5;241m=\u001b[39m \u001b[38;5;28;43mself\u001b[39;49m\u001b[38;5;241;43m.\u001b[39;49m\u001b[43m_call\u001b[49m\u001b[43m(\u001b[49m\u001b[38;5;241;43m*\u001b[39;49m\u001b[43margs\u001b[49m\u001b[43m,\u001b[49m\u001b[43m \u001b[49m\u001b[38;5;241;43m*\u001b[39;49m\u001b[38;5;241;43m*\u001b[39;49m\u001b[43mkwds\u001b[49m\u001b[43m)\u001b[49m\n\u001b[1;32m    834\u001b[0m new_tracing_count \u001b[38;5;241m=\u001b[39m \u001b[38;5;28mself\u001b[39m\u001b[38;5;241m.\u001b[39mexperimental_get_tracing_count()\n\u001b[1;32m    835\u001b[0m without_tracing \u001b[38;5;241m=\u001b[39m (tracing_count \u001b[38;5;241m==\u001b[39m new_tracing_count)\n",
      "File \u001b[0;32m~/anaconda3/envs/tf/lib/python3.10/site-packages/tensorflow/python/eager/polymorphic_function/polymorphic_function.py:868\u001b[0m, in \u001b[0;36mFunction._call\u001b[0;34m(self, *args, **kwds)\u001b[0m\n\u001b[1;32m    865\u001b[0m   \u001b[38;5;28mself\u001b[39m\u001b[38;5;241m.\u001b[39m_lock\u001b[38;5;241m.\u001b[39mrelease()\n\u001b[1;32m    866\u001b[0m   \u001b[38;5;66;03m# In this case we have created variables on the first call, so we run the\u001b[39;00m\n\u001b[1;32m    867\u001b[0m   \u001b[38;5;66;03m# defunned version which is guaranteed to never create variables.\u001b[39;00m\n\u001b[0;32m--> 868\u001b[0m   \u001b[38;5;28;01mreturn\u001b[39;00m \u001b[43mtracing_compilation\u001b[49m\u001b[38;5;241;43m.\u001b[39;49m\u001b[43mcall_function\u001b[49m\u001b[43m(\u001b[49m\n\u001b[1;32m    869\u001b[0m \u001b[43m      \u001b[49m\u001b[43margs\u001b[49m\u001b[43m,\u001b[49m\u001b[43m \u001b[49m\u001b[43mkwds\u001b[49m\u001b[43m,\u001b[49m\u001b[43m \u001b[49m\u001b[38;5;28;43mself\u001b[39;49m\u001b[38;5;241;43m.\u001b[39;49m\u001b[43m_no_variable_creation_config\u001b[49m\n\u001b[1;32m    870\u001b[0m \u001b[43m  \u001b[49m\u001b[43m)\u001b[49m\n\u001b[1;32m    871\u001b[0m \u001b[38;5;28;01melif\u001b[39;00m \u001b[38;5;28mself\u001b[39m\u001b[38;5;241m.\u001b[39m_variable_creation_config \u001b[38;5;129;01mis\u001b[39;00m \u001b[38;5;129;01mnot\u001b[39;00m \u001b[38;5;28;01mNone\u001b[39;00m:\n\u001b[1;32m    872\u001b[0m   \u001b[38;5;66;03m# Release the lock early so that multiple threads can perform the call\u001b[39;00m\n\u001b[1;32m    873\u001b[0m   \u001b[38;5;66;03m# in parallel.\u001b[39;00m\n\u001b[1;32m    874\u001b[0m   \u001b[38;5;28mself\u001b[39m\u001b[38;5;241m.\u001b[39m_lock\u001b[38;5;241m.\u001b[39mrelease()\n",
      "File \u001b[0;32m~/anaconda3/envs/tf/lib/python3.10/site-packages/tensorflow/python/eager/polymorphic_function/tracing_compilation.py:139\u001b[0m, in \u001b[0;36mcall_function\u001b[0;34m(args, kwargs, tracing_options)\u001b[0m\n\u001b[1;32m    137\u001b[0m bound_args \u001b[38;5;241m=\u001b[39m function\u001b[38;5;241m.\u001b[39mfunction_type\u001b[38;5;241m.\u001b[39mbind(\u001b[38;5;241m*\u001b[39margs, \u001b[38;5;241m*\u001b[39m\u001b[38;5;241m*\u001b[39mkwargs)\n\u001b[1;32m    138\u001b[0m flat_inputs \u001b[38;5;241m=\u001b[39m function\u001b[38;5;241m.\u001b[39mfunction_type\u001b[38;5;241m.\u001b[39munpack_inputs(bound_args)\n\u001b[0;32m--> 139\u001b[0m \u001b[38;5;28;01mreturn\u001b[39;00m \u001b[43mfunction\u001b[49m\u001b[38;5;241;43m.\u001b[39;49m\u001b[43m_call_flat\u001b[49m\u001b[43m(\u001b[49m\u001b[43m  \u001b[49m\u001b[38;5;66;43;03m# pylint: disable=protected-access\u001b[39;49;00m\n\u001b[1;32m    140\u001b[0m \u001b[43m    \u001b[49m\u001b[43mflat_inputs\u001b[49m\u001b[43m,\u001b[49m\u001b[43m \u001b[49m\u001b[43mcaptured_inputs\u001b[49m\u001b[38;5;241;43m=\u001b[39;49m\u001b[43mfunction\u001b[49m\u001b[38;5;241;43m.\u001b[39;49m\u001b[43mcaptured_inputs\u001b[49m\n\u001b[1;32m    141\u001b[0m \u001b[43m\u001b[49m\u001b[43m)\u001b[49m\n",
      "File \u001b[0;32m~/anaconda3/envs/tf/lib/python3.10/site-packages/tensorflow/python/eager/polymorphic_function/concrete_function.py:1323\u001b[0m, in \u001b[0;36mConcreteFunction._call_flat\u001b[0;34m(self, tensor_inputs, captured_inputs)\u001b[0m\n\u001b[1;32m   1319\u001b[0m possible_gradient_type \u001b[38;5;241m=\u001b[39m gradients_util\u001b[38;5;241m.\u001b[39mPossibleTapeGradientTypes(args)\n\u001b[1;32m   1320\u001b[0m \u001b[38;5;28;01mif\u001b[39;00m (possible_gradient_type \u001b[38;5;241m==\u001b[39m gradients_util\u001b[38;5;241m.\u001b[39mPOSSIBLE_GRADIENT_TYPES_NONE\n\u001b[1;32m   1321\u001b[0m     \u001b[38;5;129;01mand\u001b[39;00m executing_eagerly):\n\u001b[1;32m   1322\u001b[0m   \u001b[38;5;66;03m# No tape is watching; skip to running the function.\u001b[39;00m\n\u001b[0;32m-> 1323\u001b[0m   \u001b[38;5;28;01mreturn\u001b[39;00m \u001b[38;5;28;43mself\u001b[39;49m\u001b[38;5;241;43m.\u001b[39;49m\u001b[43m_inference_function\u001b[49m\u001b[38;5;241;43m.\u001b[39;49m\u001b[43mcall_preflattened\u001b[49m\u001b[43m(\u001b[49m\u001b[43margs\u001b[49m\u001b[43m)\u001b[49m\n\u001b[1;32m   1324\u001b[0m forward_backward \u001b[38;5;241m=\u001b[39m \u001b[38;5;28mself\u001b[39m\u001b[38;5;241m.\u001b[39m_select_forward_and_backward_functions(\n\u001b[1;32m   1325\u001b[0m     args,\n\u001b[1;32m   1326\u001b[0m     possible_gradient_type,\n\u001b[1;32m   1327\u001b[0m     executing_eagerly)\n\u001b[1;32m   1328\u001b[0m forward_function, args_with_tangents \u001b[38;5;241m=\u001b[39m forward_backward\u001b[38;5;241m.\u001b[39mforward()\n",
      "File \u001b[0;32m~/anaconda3/envs/tf/lib/python3.10/site-packages/tensorflow/python/eager/polymorphic_function/atomic_function.py:216\u001b[0m, in \u001b[0;36mAtomicFunction.call_preflattened\u001b[0;34m(self, args)\u001b[0m\n\u001b[1;32m    214\u001b[0m \u001b[38;5;28;01mdef\u001b[39;00m \u001b[38;5;21mcall_preflattened\u001b[39m(\u001b[38;5;28mself\u001b[39m, args: Sequence[core\u001b[38;5;241m.\u001b[39mTensor]) \u001b[38;5;241m-\u001b[39m\u001b[38;5;241m>\u001b[39m Any:\n\u001b[1;32m    215\u001b[0m \u001b[38;5;250m  \u001b[39m\u001b[38;5;124;03m\"\"\"Calls with flattened tensor inputs and returns the structured output.\"\"\"\u001b[39;00m\n\u001b[0;32m--> 216\u001b[0m   flat_outputs \u001b[38;5;241m=\u001b[39m \u001b[38;5;28;43mself\u001b[39;49m\u001b[38;5;241;43m.\u001b[39;49m\u001b[43mcall_flat\u001b[49m\u001b[43m(\u001b[49m\u001b[38;5;241;43m*\u001b[39;49m\u001b[43margs\u001b[49m\u001b[43m)\u001b[49m\n\u001b[1;32m    217\u001b[0m   \u001b[38;5;28;01mreturn\u001b[39;00m \u001b[38;5;28mself\u001b[39m\u001b[38;5;241m.\u001b[39mfunction_type\u001b[38;5;241m.\u001b[39mpack_output(flat_outputs)\n",
      "File \u001b[0;32m~/anaconda3/envs/tf/lib/python3.10/site-packages/tensorflow/python/eager/polymorphic_function/atomic_function.py:251\u001b[0m, in \u001b[0;36mAtomicFunction.call_flat\u001b[0;34m(self, *args)\u001b[0m\n\u001b[1;32m    249\u001b[0m \u001b[38;5;28;01mwith\u001b[39;00m record\u001b[38;5;241m.\u001b[39mstop_recording():\n\u001b[1;32m    250\u001b[0m   \u001b[38;5;28;01mif\u001b[39;00m \u001b[38;5;28mself\u001b[39m\u001b[38;5;241m.\u001b[39m_bound_context\u001b[38;5;241m.\u001b[39mexecuting_eagerly():\n\u001b[0;32m--> 251\u001b[0m     outputs \u001b[38;5;241m=\u001b[39m \u001b[38;5;28;43mself\u001b[39;49m\u001b[38;5;241;43m.\u001b[39;49m\u001b[43m_bound_context\u001b[49m\u001b[38;5;241;43m.\u001b[39;49m\u001b[43mcall_function\u001b[49m\u001b[43m(\u001b[49m\n\u001b[1;32m    252\u001b[0m \u001b[43m        \u001b[49m\u001b[38;5;28;43mself\u001b[39;49m\u001b[38;5;241;43m.\u001b[39;49m\u001b[43mname\u001b[49m\u001b[43m,\u001b[49m\n\u001b[1;32m    253\u001b[0m \u001b[43m        \u001b[49m\u001b[38;5;28;43mlist\u001b[39;49m\u001b[43m(\u001b[49m\u001b[43margs\u001b[49m\u001b[43m)\u001b[49m\u001b[43m,\u001b[49m\n\u001b[1;32m    254\u001b[0m \u001b[43m        \u001b[49m\u001b[38;5;28;43mlen\u001b[39;49m\u001b[43m(\u001b[49m\u001b[38;5;28;43mself\u001b[39;49m\u001b[38;5;241;43m.\u001b[39;49m\u001b[43mfunction_type\u001b[49m\u001b[38;5;241;43m.\u001b[39;49m\u001b[43mflat_outputs\u001b[49m\u001b[43m)\u001b[49m\u001b[43m,\u001b[49m\n\u001b[1;32m    255\u001b[0m \u001b[43m    \u001b[49m\u001b[43m)\u001b[49m\n\u001b[1;32m    256\u001b[0m   \u001b[38;5;28;01melse\u001b[39;00m:\n\u001b[1;32m    257\u001b[0m     outputs \u001b[38;5;241m=\u001b[39m make_call_op_in_graph(\n\u001b[1;32m    258\u001b[0m         \u001b[38;5;28mself\u001b[39m,\n\u001b[1;32m    259\u001b[0m         \u001b[38;5;28mlist\u001b[39m(args),\n\u001b[1;32m    260\u001b[0m         \u001b[38;5;28mself\u001b[39m\u001b[38;5;241m.\u001b[39m_bound_context\u001b[38;5;241m.\u001b[39mfunction_call_options\u001b[38;5;241m.\u001b[39mas_attrs(),\n\u001b[1;32m    261\u001b[0m     )\n",
      "File \u001b[0;32m~/anaconda3/envs/tf/lib/python3.10/site-packages/tensorflow/python/eager/context.py:1486\u001b[0m, in \u001b[0;36mContext.call_function\u001b[0;34m(self, name, tensor_inputs, num_outputs)\u001b[0m\n\u001b[1;32m   1484\u001b[0m cancellation_context \u001b[38;5;241m=\u001b[39m cancellation\u001b[38;5;241m.\u001b[39mcontext()\n\u001b[1;32m   1485\u001b[0m \u001b[38;5;28;01mif\u001b[39;00m cancellation_context \u001b[38;5;129;01mis\u001b[39;00m \u001b[38;5;28;01mNone\u001b[39;00m:\n\u001b[0;32m-> 1486\u001b[0m   outputs \u001b[38;5;241m=\u001b[39m \u001b[43mexecute\u001b[49m\u001b[38;5;241;43m.\u001b[39;49m\u001b[43mexecute\u001b[49m\u001b[43m(\u001b[49m\n\u001b[1;32m   1487\u001b[0m \u001b[43m      \u001b[49m\u001b[43mname\u001b[49m\u001b[38;5;241;43m.\u001b[39;49m\u001b[43mdecode\u001b[49m\u001b[43m(\u001b[49m\u001b[38;5;124;43m\"\u001b[39;49m\u001b[38;5;124;43mutf-8\u001b[39;49m\u001b[38;5;124;43m\"\u001b[39;49m\u001b[43m)\u001b[49m\u001b[43m,\u001b[49m\n\u001b[1;32m   1488\u001b[0m \u001b[43m      \u001b[49m\u001b[43mnum_outputs\u001b[49m\u001b[38;5;241;43m=\u001b[39;49m\u001b[43mnum_outputs\u001b[49m\u001b[43m,\u001b[49m\n\u001b[1;32m   1489\u001b[0m \u001b[43m      \u001b[49m\u001b[43minputs\u001b[49m\u001b[38;5;241;43m=\u001b[39;49m\u001b[43mtensor_inputs\u001b[49m\u001b[43m,\u001b[49m\n\u001b[1;32m   1490\u001b[0m \u001b[43m      \u001b[49m\u001b[43mattrs\u001b[49m\u001b[38;5;241;43m=\u001b[39;49m\u001b[43mattrs\u001b[49m\u001b[43m,\u001b[49m\n\u001b[1;32m   1491\u001b[0m \u001b[43m      \u001b[49m\u001b[43mctx\u001b[49m\u001b[38;5;241;43m=\u001b[39;49m\u001b[38;5;28;43mself\u001b[39;49m\u001b[43m,\u001b[49m\n\u001b[1;32m   1492\u001b[0m \u001b[43m  \u001b[49m\u001b[43m)\u001b[49m\n\u001b[1;32m   1493\u001b[0m \u001b[38;5;28;01melse\u001b[39;00m:\n\u001b[1;32m   1494\u001b[0m   outputs \u001b[38;5;241m=\u001b[39m execute\u001b[38;5;241m.\u001b[39mexecute_with_cancellation(\n\u001b[1;32m   1495\u001b[0m       name\u001b[38;5;241m.\u001b[39mdecode(\u001b[38;5;124m\"\u001b[39m\u001b[38;5;124mutf-8\u001b[39m\u001b[38;5;124m\"\u001b[39m),\n\u001b[1;32m   1496\u001b[0m       num_outputs\u001b[38;5;241m=\u001b[39mnum_outputs,\n\u001b[0;32m   (...)\u001b[0m\n\u001b[1;32m   1500\u001b[0m       cancellation_manager\u001b[38;5;241m=\u001b[39mcancellation_context,\n\u001b[1;32m   1501\u001b[0m   )\n",
      "File \u001b[0;32m~/anaconda3/envs/tf/lib/python3.10/site-packages/tensorflow/python/eager/execute.py:53\u001b[0m, in \u001b[0;36mquick_execute\u001b[0;34m(op_name, num_outputs, inputs, attrs, ctx, name)\u001b[0m\n\u001b[1;32m     51\u001b[0m \u001b[38;5;28;01mtry\u001b[39;00m:\n\u001b[1;32m     52\u001b[0m   ctx\u001b[38;5;241m.\u001b[39mensure_initialized()\n\u001b[0;32m---> 53\u001b[0m   tensors \u001b[38;5;241m=\u001b[39m \u001b[43mpywrap_tfe\u001b[49m\u001b[38;5;241;43m.\u001b[39;49m\u001b[43mTFE_Py_Execute\u001b[49m\u001b[43m(\u001b[49m\u001b[43mctx\u001b[49m\u001b[38;5;241;43m.\u001b[39;49m\u001b[43m_handle\u001b[49m\u001b[43m,\u001b[49m\u001b[43m \u001b[49m\u001b[43mdevice_name\u001b[49m\u001b[43m,\u001b[49m\u001b[43m \u001b[49m\u001b[43mop_name\u001b[49m\u001b[43m,\u001b[49m\n\u001b[1;32m     54\u001b[0m \u001b[43m                                      \u001b[49m\u001b[43minputs\u001b[49m\u001b[43m,\u001b[49m\u001b[43m \u001b[49m\u001b[43mattrs\u001b[49m\u001b[43m,\u001b[49m\u001b[43m \u001b[49m\u001b[43mnum_outputs\u001b[49m\u001b[43m)\u001b[49m\n\u001b[1;32m     55\u001b[0m \u001b[38;5;28;01mexcept\u001b[39;00m core\u001b[38;5;241m.\u001b[39m_NotOkStatusException \u001b[38;5;28;01mas\u001b[39;00m e:\n\u001b[1;32m     56\u001b[0m   \u001b[38;5;28;01mif\u001b[39;00m name \u001b[38;5;129;01mis\u001b[39;00m \u001b[38;5;129;01mnot\u001b[39;00m \u001b[38;5;28;01mNone\u001b[39;00m:\n",
      "\u001b[0;31mKeyboardInterrupt\u001b[0m: "
     ]
    }
   ],
   "source": [
    "with tf.device('/gpu:0'):\n",
    "    history = model.fit(train_dataset, validation_data = val_dataset, epochs =10, verbose = 1)"
   ]
  },
  {
   "cell_type": "code",
   "execution_count": 25,
   "id": "4edc4cfc-8d5c-4d31-9e07-c070971dba3d",
   "metadata": {
    "canvas": {
     "comments": [],
     "componentType": "CodeCell",
     "copiedOriginId": null,
     "diskcache": false,
     "headerColor": "transparent",
     "id": "e132ad32-30b8-4d2e-9bf8-428262a039b4",
     "isComponent": false,
     "name": "",
     "parents": []
    }
   },
   "outputs": [],
   "source": [
    "# import tensorflow as tf\n",
    "# tf.config.list_physical_devices('GPU')"
   ]
  },
  {
   "cell_type": "code",
   "execution_count": 6,
   "id": "618184ef-01e4-4b81-8e30-3b06c70f73be",
   "metadata": {
    "canvas": {
     "comments": [],
     "componentType": "CodeCell",
     "copiedOriginId": null,
     "diskcache": false,
     "headerColor": "transparent",
     "id": "ce59c997-9811-40ac-9d7b-ce31b3d89b7b",
     "isComponent": false,
     "name": "",
     "parents": []
    }
   },
   "outputs": [],
   "source": [
    "# from tensorflow.python.client import device_lib\n",
    "# print(device_lib.list_local_devices())"
   ]
  },
  {
   "cell_type": "markdown",
   "id": "73752839-577b-4cf6-8d33-69669949e995",
   "metadata": {
    "canvas": {
     "comments": [],
     "componentType": "CodeCell",
     "copiedOriginId": null,
     "diskcache": false,
     "headerColor": "transparent",
     "id": "84e8b59f-efd1-455f-949f-a37077e887ce",
     "isComponent": false,
     "name": "",
     "parents": []
    }
   },
   "source": [
    "# Mixup Data augmentation"
   ]
  },
  {
   "cell_type": "code",
   "execution_count": 73,
   "id": "613b3aab-0f2c-4629-9ea7-31d9dd370876",
   "metadata": {
    "canvas": {
     "comments": [],
     "componentType": "CodeCell",
     "copiedOriginId": null,
     "diskcache": false,
     "headerColor": "transparent",
     "id": "1b2941d6-acff-4358-a2ea-b7cde736c5f0",
     "isComponent": false,
     "name": "",
     "parents": []
    }
   },
   "outputs": [
    {
     "name": "stdout",
     "output_type": "stream",
     "text": [
      "tf.Tensor(0.024371069, shape=(), dtype=float32)\n"
     ]
    }
   ],
   "source": [
    "lamba = tfp.distributions.Beta(0.2, 0.2)\n",
    "print(lamba.sample(1)[0])"
   ]
  },
  {
   "cell_type": "code",
   "execution_count": 74,
   "id": "f2499f4e-cf09-4cee-af31-5fd69b1373c6",
   "metadata": {
    "canvas": {
     "comments": [],
     "componentType": "CodeCell",
     "copiedOriginId": null,
     "diskcache": false,
     "headerColor": "transparent",
     "id": "4abde510-d49c-4444-9fb2-baf2fb7f5330",
     "isComponent": false,
     "name": "",
     "parents": []
    }
   },
   "outputs": [],
   "source": [
    "train_dataset_1 = train_dataset.shuffle (buffer_size = 8, reshuffle_each_iteration = True).map(resize_rescale)\n",
    "train_dataset_2 = train_dataset.shuffle (buffer_size = 8, reshuffle_each_iteration = True).map(resize_rescale)\n",
    "mixed_dataset = tf.data. Dataset.zip((train_dataset_1, train_dataset_2))"
   ]
  },
  {
   "cell_type": "code",
   "execution_count": 75,
   "id": "b56b085d-bb5d-4404-9f25-7f791f250661",
   "metadata": {
    "canvas": {
     "comments": [],
     "componentType": "CodeCell",
     "copiedOriginId": null,
     "diskcache": false,
     "headerColor": "transparent",
     "id": "5cbcc6c1-45ff-4b05-b93d-80d742395eda",
     "isComponent": false,
     "name": "",
     "parents": []
    }
   },
   "outputs": [],
   "source": [
    "def mixup(train_dataset_1, train_dataset_2):\n",
    "    \n",
    "    (image_1, label_1), (image_2, label_2) = train_dataset_1, train_dataset_2\n",
    "    \n",
    "    lamda = tfp.distributions.Beta (0.2, 0.2)\n",
    "    lamda = lamda.sample (1) [0]\n",
    "    image = lamda*image_1 + (1-lamda) *image_2\n",
    "    label = lamda*tf.cast (label_1, dtype = tf.float32) + (1-lamda) *tf.cast (label_2, dtype = tf.float32)\n",
    "    \n",
    "    return image, label"
   ]
  },
  {
   "cell_type": "code",
   "execution_count": 76,
   "id": "3e4a7d93-7067-48f9-97aa-a2ecb4c6e3a1",
   "metadata": {
    "canvas": {
     "comments": [],
     "componentType": "CodeCell",
     "copiedOriginId": null,
     "diskcache": false,
     "headerColor": "transparent",
     "id": "3f72fcd1-2f59-4e82-9ec7-d1bc2bbf6245",
     "isComponent": false,
     "name": "",
     "parents": []
    },
    "scrolled": true
   },
   "outputs": [],
   "source": [
    "train_dataset = (mixed_dataset\n",
    "                .shuffle(buffer_size=8, reshuffle_each_iteration=True)\n",
    "                .map(mixup)\n",
    "                .batch(32)\n",
    "                .prefetch(tf.data.AUTOTUNE))\n",
    "\n",
    "\n",
    "val_dataset = (val_dataset\n",
    "                .shuffle(buffer_size=8, reshuffle_each_iteration=True)\n",
    "                .map(resize_rescale)\n",
    "                .batch(1)\n",
    "                .prefetch(tf.data.AUTOTUNE))"
   ]
  },
  {
   "cell_type": "markdown",
   "id": "4ddb92c7-c6b2-4718-b371-027e7513acea",
   "metadata": {
    "canvas": {
     "comments": [],
     "componentType": "CodeCell",
     "copiedOriginId": null,
     "diskcache": false,
     "headerColor": "transparent",
     "id": "b7ca08d0-92a7-4a62-ac08-d591b3d59542",
     "isComponent": false,
     "name": "",
     "parents": []
    }
   },
   "source": [
    "# Cut Mix Data augmentation"
   ]
  },
  {
   "cell_type": "code",
   "execution_count": 91,
   "id": "82293650-13b7-4c6f-a7b1-ec74532ebb5a",
   "metadata": {
    "canvas": {
     "comments": [],
     "componentType": "CodeCell",
     "copiedOriginId": null,
     "diskcache": false,
     "headerColor": "transparent",
     "id": "7e1d0243-754c-4392-b176-24120ae34a98",
     "isComponent": false,
     "name": "",
     "parents": []
    }
   },
   "outputs": [
    {
     "data": {
      "text/plain": [
       "<matplotlib.image.AxesImage at 0x7fa4e1b6bfd0>"
      ]
     },
     "execution_count": 91,
     "metadata": {},
     "output_type": "execute_result"
    },
    {
     "data": {
      "image/png": "[encoded data removed]",
      "text/plain": [
       "<Figure size 1600x800 with 3 Axes>"
      ]
     },
     "metadata": {},
     "output_type": "display_data"
    }
   ],
   "source": [
    "plt.figure(figsize=(16, 8)) \n",
    "\n",
    "# plt.subplot (1,5,1)\n",
    "image_1 = cv2.resize(cv2.imread('cat.jpg'), (IM_SIZE, IM_SIZE))\n",
    "# plt.imshow(image_1)\n",
    "\n",
    "# plt.subplot (1,5,2)\n",
    "image_2 = cv2.resize(cv2.imread('dog.jpg'), (IM_SIZE, IM_SIZE))\n",
    "# plt.imshow(image_2)\n",
    "\n",
    "# plt.subplot (1,5,3)\n",
    "crop= tf.image. crop_to_bounding_box (image_2, 20, 100, 100, 98)\n",
    "# plt.imshow (crop)\n",
    "\n",
    "# plt.subplot (1,5,4)\n",
    "image_4 = tf.image.pad_to_bounding_box(crop, 20, 100, IM_SIZE, IM_SIZE)\n",
    "# plt.imshow(image_4)\n",
    "\n",
    "# plt.subplot (1,5,5)\n",
    "image_4 = tf.image.pad_to_bounding_box (crop, 20, 100, IM_SIZE, IM_SIZE)\n",
    "# plt.imshow(image_4 + image_1)\n",
    "\n",
    "plt.subplot (1,7,5)\n",
    "image_4 = tf.image.pad_to_bounding_box(crop, 20, 100, IM_SIZE, IM_SIZE)\n",
    "plt.imshow(image_4 + image_1)\n",
    "\n",
    "plt.subplot (1,7,6)\n",
    "crop_cat= tf.image.crop_to_bounding_box(image_1, 20, 100, 100, 98)\n",
    "plt.imshow (crop_cat)\n",
    "\n",
    "plt.subplot (1,7,7)\n",
    "image_5 = tf.image.pad_to_bounding_box(crop_cat, 20, 100, IM_SIZE, IM_SIZE)\n",
    "plt.imshow(image_1 - image_5 + image_4)"
   ]
  },
  {
   "cell_type": "code",
   "execution_count": 121,
   "id": "e5f3cb08-d7eb-4ba2-a75a-f7686cb87691",
   "metadata": {
    "canvas": {
     "comments": [],
     "componentType": "CodeCell",
     "copiedOriginId": null,
     "diskcache": false,
     "headerColor": "transparent",
     "id": "96485624-eb74-4bde-a24d-257a87721bd0",
     "isComponent": false,
     "name": "",
     "parents": []
    }
   },
   "outputs": [],
   "source": [
    "def box(lamda):\n",
    "    \n",
    "    r_x = tf.cast(tfp.distributions. Uniform (0, IM_SIZE).sample (1)[0], dtype = tf.int32)\n",
    "    r_y = tf.cast(tfp.distributions. Uniform (0, IM_SIZE).sample (1)[0], dtype = tf.int32)\n",
    "    r_w = tf.cast (IM_SIZE*tf.math.sqrt(1-lamda), dtype = tf.int32)\n",
    "    r_h = tf.cast (IM_SIZE*tf.math.sqrt(1-lamda), dtype = tf.int32)\n",
    "    \n",
    "    r_x = tf.clip_by_value (r_x - r_w//2, 0, IM_SIZE)\n",
    "    r_y = tf.clip_by_value(r_y - r_h//2, 0, IM_SIZE)\n",
    "    \n",
    "    x_b_r= tf.clip_by_value(r_x + r_w//2, 0, IM_SIZE)\n",
    "    y_b_r= tf.clip_by_value(r_y + r_h//2, 0, IM_SIZE)\n",
    "    \n",
    "    r_w = x_b_r - r_x\n",
    "    if r_w == 0:\n",
    "        r_w = 1\n",
    "    r_h = y_b_r - r_y\n",
    "    \n",
    "    if r_h == 0:\n",
    "        r_h == 1\n",
    "    \n",
    "    return r_y, r_x, r_h, r_w"
   ]
  },
  {
   "cell_type": "code",
   "execution_count": 122,
   "id": "91b0ba49-c96f-488a-87a8-16fa10ba7989",
   "metadata": {
    "canvas": {
     "comments": [],
     "componentType": "CodeCell",
     "copiedOriginId": null,
     "diskcache": false,
     "headerColor": "transparent",
     "id": "6c398d9f-4d77-43ec-9954-6093a2dfa6b0",
     "isComponent": false,
     "name": "",
     "parents": []
    }
   },
   "outputs": [],
   "source": [
    "def cutmix(train_dataset_1, train_dataset_2):\n",
    "    (image_1, label_1), (image_2, label_2) = train_dataset_1, train_dataset_2\n",
    "    \n",
    "    lamda = tfp.distributions.Beta (0.2, 0.2)\n",
    "    lamda = lamda.sample (1) [0]\n",
    "\n",
    "    r_y, r_x, r_h, r_w = box(lamda)\n",
    "    \n",
    "    crop_2 = tf.image. crop_to_bounding_box(image_2, r_y, r_x, r_h, r_w)\n",
    "    pad_2 = tf.image.pad_to_bounding_box(crop_2,r_y, r_x, IM_SIZE, IM_SIZE)\n",
    "    \n",
    "    crop_1 = tf.image.crop_to_bounding_box (image_1, r_y, r_x, r_h, r_w)\n",
    "    pad_1 = tf.image.pad_to_bounding_box(crop_1, r_y, r_x, IM_SIZE, IM_SIZE)\n",
    "    image = image_1 - pad_1 + pad_2\n",
    "\n",
    "    lamda = tf.cast(1- (r_w*r_h)/(IM_SIZE*IM_SIZE), dtype = tf.float32)\n",
    "    label = lamda * tf.cast (label_1, dtype = tf.float32) + (1-lamda) *tf.cast (label_2, dtype = tf.float32)\n",
    "    \n",
    "    return image, label"
   ]
  },
  {
   "cell_type": "code",
   "execution_count": 123,
   "id": "0579b71f-7dc6-4f62-bcf5-5fbf8d779d33",
   "metadata": {
    "canvas": {
     "comments": [],
     "componentType": "CodeCell",
     "copiedOriginId": null,
     "diskcache": false,
     "headerColor": "transparent",
     "id": "2e78cb88-7e14-40a7-8b7a-a41e6b719b18",
     "isComponent": false,
     "name": "",
     "parents": []
    }
   },
   "outputs": [],
   "source": [
    "train_dataset = (mixed_dataset\n",
    "                .shuffle(buffer_size=8, reshuffle_each_iteration=True)\n",
    "                .map(cutmix)\n",
    "                .batch(32)\n",
    "                .prefetch(tf.data.AUTOTUNE))\n",
    "\n",
    "\n",
    "val_dataset = (val_dataset\n",
    "                .shuffle(buffer_size=8, reshuffle_each_iteration=True)\n",
    "                .map(resize_rescale)\n",
    "                .batch(1)\n",
    "                .prefetch(tf.data.AUTOTUNE))"
   ]
  },
  {
   "cell_type": "markdown",
   "id": "215ce374-983e-41b5-9564-14f78fee36f1",
   "metadata": {
    "canvas": {
     "comments": [],
     "componentType": "CodeCell",
     "copiedOriginId": null,
     "diskcache": false,
     "headerColor": "transparent",
     "id": "13ae8629-abfe-4b08-85ef-d57da3cf4ae2",
     "isComponent": false,
     "name": "",
     "parents": []
    }
   },
   "source": [
    "# Custom Fit"
   ]
  },
  {
   "cell_type": "code",
   "execution_count": 173,
   "id": "e0d84a62-fa28-414b-b265-9983ad78008d",
   "metadata": {
    "canvas": {
     "comments": [],
     "componentType": "CodeCell",
     "copiedOriginId": null,
     "diskcache": false,
     "headerColor": "transparent",
     "id": "650098ff-aa0a-47de-ac9c-c53348ae9719",
     "isComponent": false,
     "name": "",
     "parents": []
    }
   },
   "outputs": [],
   "source": [
    "OPTIMIZER = Adam(learning_rate=0.01)\n",
    "EPOCHS = 10\n",
    "METRIC = BinaryAccuracy()\n",
    "METRIC_VAL = BinaryAccuracy()"
   ]
  },
  {
   "cell_type": "code",
   "execution_count": 159,
   "id": "795fdba7-f8c1-40de-a7c8-20a9614d4199",
   "metadata": {
    "canvas": {
     "comments": [],
     "componentType": "CodeCell",
     "copiedOriginId": null,
     "diskcache": false,
     "headerColor": "transparent",
     "id": "d2a128f9-7f6f-4e99-ae16-3d7fd4b7607e",
     "isComponent": false,
     "name": "",
     "parents": []
    }
   },
   "outputs": [],
   "source": [
    "FACTOR = 1\n",
    "def custom_bce(FACTOR, y_true, y_pred):\n",
    "    def loss(self, y_true, y_pred):\n",
    "        bce = BinaryCrossentropy()\n",
    "        return bce(y_true, y_pred) * FACTOR\n",
    "    return loss"
   ]
  },
  {
   "cell_type": "code",
   "execution_count": 162,
   "id": "1f8a24c9-7e27-41f6-a9ef-cfbaf64450ae",
   "metadata": {
    "canvas": {
     "comments": [],
     "componentType": "CodeCell",
     "copiedOriginId": null,
     "diskcache": false,
     "headerColor": "transparent",
     "id": "9e686c18-4334-4e8c-b6fe-6521f9b78f7d",
     "isComponent": false,
     "name": "",
     "parents": []
    }
   },
   "outputs": [],
   "source": [
    "@tf.function\n",
    "def training_block(x_batch, y_batch):\n",
    "    l = BinaryCrossentropy()\n",
    "    with tf.GradientTape() as recorder:\n",
    "        y_pred = model(x_batch, training = True)\n",
    "        loss = l(y_batch, y_pred)\n",
    "\n",
    "    partial_derviative = recorder.gradient(loss, model.trainable_weights)\n",
    "\n",
    "    OPTIMIZER.apply_gradients(zip(partial_derviative, model.trainable_weights))\n",
    "    METRIC.update_state(y_batch, y_pred)\n",
    "    return(loss)\n",
    "    "
   ]
  },
  {
   "cell_type": "code",
   "execution_count": 166,
   "id": "a575a513-1beb-4957-b7ad-572ab3b22ba7",
   "metadata": {
    "canvas": {
     "comments": [],
     "componentType": "CodeCell",
     "copiedOriginId": null,
     "diskcache": false,
     "headerColor": "transparent",
     "id": "7efaef90-004c-4504-b596-7bd13709b954",
     "isComponent": false,
     "name": "",
     "parents": []
    }
   },
   "outputs": [],
   "source": [
    "@tf.function\n",
    "def val_block(x_batch_val, y_batch_val):\n",
    "    y_pred_val = model(x_batch_val, training = False)\n",
    "    loss_val = l(y_batch_val, y_pred_val)\n",
    "    METRIC_VAL.update_state(y_batch_val, y_pred_val)\n",
    "    return loss_val"
   ]
  },
  {
   "cell_type": "code",
   "execution_count": 167,
   "id": "69349e54-c26f-4dd6-b4e4-435ee9b585d6",
   "metadata": {
    "canvas": {
     "comments": [],
     "componentType": "CodeCell",
     "copiedOriginId": null,
     "diskcache": false,
     "headerColor": "transparent",
     "id": "50287e96-51e4-49d5-abed-1d4eec874ffe",
     "isComponent": false,
     "name": "",
     "parents": []
    },
    "scrolled": true
   },
   "outputs": [
    {
     "name": "stdout",
     "output_type": "stream",
     "text": [
      "The accuracy is: tf.Tensor(0.9676585, shape=(), dtype=float32)\n",
      "The accuracy is: tf.Tensor(0.8112523, shape=(), dtype=float32)\n",
      "The accuracy is: tf.Tensor(0.9507394, shape=(), dtype=float32)\n",
      "The accuracy is: tf.Tensor(0.9284936, shape=(), dtype=float32)\n",
      "The accuracy is: tf.Tensor(0.96783996, shape=(), dtype=float32)\n",
      "The accuracy is: tf.Tensor(0.94591653, shape=(), dtype=float32)\n",
      "The accuracy is: tf.Tensor(0.97115123, shape=(), dtype=float32)\n",
      "The accuracy is: tf.Tensor(0.9401089, shape=(), dtype=float32)\n",
      "The accuracy is: tf.Tensor(0.96697813, shape=(), dtype=float32)\n",
      "The accuracy is: tf.Tensor(0.73212343, shape=(), dtype=float32)\n",
      "The accuracy is: tf.Tensor(0.9721945, shape=(), dtype=float32)\n",
      "The accuracy is: tf.Tensor(0.87803996, shape=(), dtype=float32)\n",
      "The accuracy is: tf.Tensor(0.9775016, shape=(), dtype=float32)\n",
      "The accuracy is: tf.Tensor(0.76660615, shape=(), dtype=float32)\n",
      "The accuracy is: tf.Tensor(0.97056156, shape=(), dtype=float32)\n",
      "The accuracy is: tf.Tensor(0.50235933, shape=(), dtype=float32)\n",
      "The accuracy is: tf.Tensor(0.97133267, shape=(), dtype=float32)\n",
      "The accuracy is: tf.Tensor(0.9266788, shape=(), dtype=float32)\n",
      "The accuracy is: tf.Tensor(0.972512, shape=(), dtype=float32)\n"
     ]
    },
    {
     "ename": "KeyboardInterrupt",
     "evalue": "",
     "output_type": "error",
     "traceback": [
      "\u001b[0;31m---------------------------------------------------------------------------\u001b[0m",
      "\u001b[0;31mKeyboardInterrupt\u001b[0m                         Traceback (most recent call last)",
      "Cell \u001b[0;32mIn[167], line 9\u001b[0m\n\u001b[1;32m      6\u001b[0m METRIC\u001b[38;5;241m.\u001b[39mreset_states()\n\u001b[1;32m      8\u001b[0m \u001b[38;5;28;01mfor\u001b[39;00m step,(x_batch_val, y_batch_val) \u001b[38;5;129;01min\u001b[39;00m \u001b[38;5;28menumerate\u001b[39m(val_dataset):\n\u001b[0;32m----> 9\u001b[0m     val_loss \u001b[38;5;241m=\u001b[39m \u001b[43mval_block\u001b[49m\u001b[43m(\u001b[49m\u001b[43mx_batch_val\u001b[49m\u001b[43m,\u001b[49m\u001b[43m \u001b[49m\u001b[43my_batch_val\u001b[49m\u001b[43m)\u001b[49m\n\u001b[1;32m     11\u001b[0m \u001b[38;5;28mprint\u001b[39m(\u001b[38;5;124m\"\u001b[39m\u001b[38;5;124mThe accuracy is:\u001b[39m\u001b[38;5;124m\"\u001b[39m, METRIC_VAL\u001b[38;5;241m.\u001b[39mresult())\n\u001b[1;32m     12\u001b[0m METRIC_VAL\u001b[38;5;241m.\u001b[39mreset_states()\n",
      "File \u001b[0;32m~/anaconda3/envs/tf/lib/python3.10/site-packages/tensorflow/python/util/traceback_utils.py:150\u001b[0m, in \u001b[0;36mfilter_traceback.<locals>.error_handler\u001b[0;34m(*args, **kwargs)\u001b[0m\n\u001b[1;32m    148\u001b[0m filtered_tb \u001b[38;5;241m=\u001b[39m \u001b[38;5;28;01mNone\u001b[39;00m\n\u001b[1;32m    149\u001b[0m \u001b[38;5;28;01mtry\u001b[39;00m:\n\u001b[0;32m--> 150\u001b[0m   \u001b[38;5;28;01mreturn\u001b[39;00m \u001b[43mfn\u001b[49m\u001b[43m(\u001b[49m\u001b[38;5;241;43m*\u001b[39;49m\u001b[43margs\u001b[49m\u001b[43m,\u001b[49m\u001b[43m \u001b[49m\u001b[38;5;241;43m*\u001b[39;49m\u001b[38;5;241;43m*\u001b[39;49m\u001b[43mkwargs\u001b[49m\u001b[43m)\u001b[49m\n\u001b[1;32m    151\u001b[0m \u001b[38;5;28;01mexcept\u001b[39;00m \u001b[38;5;167;01mException\u001b[39;00m \u001b[38;5;28;01mas\u001b[39;00m e:\n\u001b[1;32m    152\u001b[0m   filtered_tb \u001b[38;5;241m=\u001b[39m _process_traceback_frames(e\u001b[38;5;241m.\u001b[39m__traceback__)\n",
      "File \u001b[0;32m~/anaconda3/envs/tf/lib/python3.10/site-packages/tensorflow/python/eager/polymorphic_function/polymorphic_function.py:832\u001b[0m, in \u001b[0;36mFunction.__call__\u001b[0;34m(self, *args, **kwds)\u001b[0m\n\u001b[1;32m    829\u001b[0m compiler \u001b[38;5;241m=\u001b[39m \u001b[38;5;124m\"\u001b[39m\u001b[38;5;124mxla\u001b[39m\u001b[38;5;124m\"\u001b[39m \u001b[38;5;28;01mif\u001b[39;00m \u001b[38;5;28mself\u001b[39m\u001b[38;5;241m.\u001b[39m_jit_compile \u001b[38;5;28;01melse\u001b[39;00m \u001b[38;5;124m\"\u001b[39m\u001b[38;5;124mnonXla\u001b[39m\u001b[38;5;124m\"\u001b[39m\n\u001b[1;32m    831\u001b[0m \u001b[38;5;28;01mwith\u001b[39;00m OptionalXlaContext(\u001b[38;5;28mself\u001b[39m\u001b[38;5;241m.\u001b[39m_jit_compile):\n\u001b[0;32m--> 832\u001b[0m   result \u001b[38;5;241m=\u001b[39m \u001b[38;5;28;43mself\u001b[39;49m\u001b[38;5;241;43m.\u001b[39;49m\u001b[43m_call\u001b[49m\u001b[43m(\u001b[49m\u001b[38;5;241;43m*\u001b[39;49m\u001b[43margs\u001b[49m\u001b[43m,\u001b[49m\u001b[43m \u001b[49m\u001b[38;5;241;43m*\u001b[39;49m\u001b[38;5;241;43m*\u001b[39;49m\u001b[43mkwds\u001b[49m\u001b[43m)\u001b[49m\n\u001b[1;32m    834\u001b[0m new_tracing_count \u001b[38;5;241m=\u001b[39m \u001b[38;5;28mself\u001b[39m\u001b[38;5;241m.\u001b[39mexperimental_get_tracing_count()\n\u001b[1;32m    835\u001b[0m without_tracing \u001b[38;5;241m=\u001b[39m (tracing_count \u001b[38;5;241m==\u001b[39m new_tracing_count)\n",
      "File \u001b[0;32m~/anaconda3/envs/tf/lib/python3.10/site-packages/tensorflow/python/eager/polymorphic_function/polymorphic_function.py:877\u001b[0m, in \u001b[0;36mFunction._call\u001b[0;34m(self, *args, **kwds)\u001b[0m\n\u001b[1;32m    874\u001b[0m \u001b[38;5;28mself\u001b[39m\u001b[38;5;241m.\u001b[39m_lock\u001b[38;5;241m.\u001b[39mrelease()\n\u001b[1;32m    875\u001b[0m \u001b[38;5;66;03m# In this case we have not created variables on the first call. So we can\u001b[39;00m\n\u001b[1;32m    876\u001b[0m \u001b[38;5;66;03m# run the first trace but we should fail if variables are created.\u001b[39;00m\n\u001b[0;32m--> 877\u001b[0m results \u001b[38;5;241m=\u001b[39m \u001b[43mtracing_compilation\u001b[49m\u001b[38;5;241;43m.\u001b[39;49m\u001b[43mcall_function\u001b[49m\u001b[43m(\u001b[49m\n\u001b[1;32m    878\u001b[0m \u001b[43m    \u001b[49m\u001b[43margs\u001b[49m\u001b[43m,\u001b[49m\u001b[43m \u001b[49m\u001b[43mkwds\u001b[49m\u001b[43m,\u001b[49m\u001b[43m \u001b[49m\u001b[38;5;28;43mself\u001b[39;49m\u001b[38;5;241;43m.\u001b[39;49m\u001b[43m_variable_creation_config\u001b[49m\n\u001b[1;32m    879\u001b[0m \u001b[43m\u001b[49m\u001b[43m)\u001b[49m\n\u001b[1;32m    880\u001b[0m \u001b[38;5;28;01mif\u001b[39;00m \u001b[38;5;28mself\u001b[39m\u001b[38;5;241m.\u001b[39m_created_variables:\n\u001b[1;32m    881\u001b[0m   \u001b[38;5;28;01mraise\u001b[39;00m \u001b[38;5;167;01mValueError\u001b[39;00m(\u001b[38;5;124m\"\u001b[39m\u001b[38;5;124mCreating variables on a non-first call to a function\u001b[39m\u001b[38;5;124m\"\u001b[39m\n\u001b[1;32m    882\u001b[0m                    \u001b[38;5;124m\"\u001b[39m\u001b[38;5;124m decorated with tf.function.\u001b[39m\u001b[38;5;124m\"\u001b[39m)\n",
      "File \u001b[0;32m~/anaconda3/envs/tf/lib/python3.10/site-packages/tensorflow/python/eager/polymorphic_function/tracing_compilation.py:139\u001b[0m, in \u001b[0;36mcall_function\u001b[0;34m(args, kwargs, tracing_options)\u001b[0m\n\u001b[1;32m    137\u001b[0m bound_args \u001b[38;5;241m=\u001b[39m function\u001b[38;5;241m.\u001b[39mfunction_type\u001b[38;5;241m.\u001b[39mbind(\u001b[38;5;241m*\u001b[39margs, \u001b[38;5;241m*\u001b[39m\u001b[38;5;241m*\u001b[39mkwargs)\n\u001b[1;32m    138\u001b[0m flat_inputs \u001b[38;5;241m=\u001b[39m function\u001b[38;5;241m.\u001b[39mfunction_type\u001b[38;5;241m.\u001b[39munpack_inputs(bound_args)\n\u001b[0;32m--> 139\u001b[0m \u001b[38;5;28;01mreturn\u001b[39;00m \u001b[43mfunction\u001b[49m\u001b[38;5;241;43m.\u001b[39;49m\u001b[43m_call_flat\u001b[49m\u001b[43m(\u001b[49m\u001b[43m  \u001b[49m\u001b[38;5;66;43;03m# pylint: disable=protected-access\u001b[39;49;00m\n\u001b[1;32m    140\u001b[0m \u001b[43m    \u001b[49m\u001b[43mflat_inputs\u001b[49m\u001b[43m,\u001b[49m\u001b[43m \u001b[49m\u001b[43mcaptured_inputs\u001b[49m\u001b[38;5;241;43m=\u001b[39;49m\u001b[43mfunction\u001b[49m\u001b[38;5;241;43m.\u001b[39;49m\u001b[43mcaptured_inputs\u001b[49m\n\u001b[1;32m    141\u001b[0m \u001b[43m\u001b[49m\u001b[43m)\u001b[49m\n",
      "File \u001b[0;32m~/anaconda3/envs/tf/lib/python3.10/site-packages/tensorflow/python/eager/polymorphic_function/concrete_function.py:1323\u001b[0m, in \u001b[0;36mConcreteFunction._call_flat\u001b[0;34m(self, tensor_inputs, captured_inputs)\u001b[0m\n\u001b[1;32m   1319\u001b[0m possible_gradient_type \u001b[38;5;241m=\u001b[39m gradients_util\u001b[38;5;241m.\u001b[39mPossibleTapeGradientTypes(args)\n\u001b[1;32m   1320\u001b[0m \u001b[38;5;28;01mif\u001b[39;00m (possible_gradient_type \u001b[38;5;241m==\u001b[39m gradients_util\u001b[38;5;241m.\u001b[39mPOSSIBLE_GRADIENT_TYPES_NONE\n\u001b[1;32m   1321\u001b[0m     \u001b[38;5;129;01mand\u001b[39;00m executing_eagerly):\n\u001b[1;32m   1322\u001b[0m   \u001b[38;5;66;03m# No tape is watching; skip to running the function.\u001b[39;00m\n\u001b[0;32m-> 1323\u001b[0m   \u001b[38;5;28;01mreturn\u001b[39;00m \u001b[38;5;28;43mself\u001b[39;49m\u001b[38;5;241;43m.\u001b[39;49m\u001b[43m_inference_function\u001b[49m\u001b[38;5;241;43m.\u001b[39;49m\u001b[43mcall_preflattened\u001b[49m\u001b[43m(\u001b[49m\u001b[43margs\u001b[49m\u001b[43m)\u001b[49m\n\u001b[1;32m   1324\u001b[0m forward_backward \u001b[38;5;241m=\u001b[39m \u001b[38;5;28mself\u001b[39m\u001b[38;5;241m.\u001b[39m_select_forward_and_backward_functions(\n\u001b[1;32m   1325\u001b[0m     args,\n\u001b[1;32m   1326\u001b[0m     possible_gradient_type,\n\u001b[1;32m   1327\u001b[0m     executing_eagerly)\n\u001b[1;32m   1328\u001b[0m forward_function, args_with_tangents \u001b[38;5;241m=\u001b[39m forward_backward\u001b[38;5;241m.\u001b[39mforward()\n",
      "File \u001b[0;32m~/anaconda3/envs/tf/lib/python3.10/site-packages/tensorflow/python/eager/polymorphic_function/atomic_function.py:216\u001b[0m, in \u001b[0;36mAtomicFunction.call_preflattened\u001b[0;34m(self, args)\u001b[0m\n\u001b[1;32m    214\u001b[0m \u001b[38;5;28;01mdef\u001b[39;00m \u001b[38;5;21mcall_preflattened\u001b[39m(\u001b[38;5;28mself\u001b[39m, args: Sequence[core\u001b[38;5;241m.\u001b[39mTensor]) \u001b[38;5;241m-\u001b[39m\u001b[38;5;241m>\u001b[39m Any:\n\u001b[1;32m    215\u001b[0m \u001b[38;5;250m  \u001b[39m\u001b[38;5;124;03m\"\"\"Calls with flattened tensor inputs and returns the structured output.\"\"\"\u001b[39;00m\n\u001b[0;32m--> 216\u001b[0m   flat_outputs \u001b[38;5;241m=\u001b[39m \u001b[38;5;28;43mself\u001b[39;49m\u001b[38;5;241;43m.\u001b[39;49m\u001b[43mcall_flat\u001b[49m\u001b[43m(\u001b[49m\u001b[38;5;241;43m*\u001b[39;49m\u001b[43margs\u001b[49m\u001b[43m)\u001b[49m\n\u001b[1;32m    217\u001b[0m   \u001b[38;5;28;01mreturn\u001b[39;00m \u001b[38;5;28mself\u001b[39m\u001b[38;5;241m.\u001b[39mfunction_type\u001b[38;5;241m.\u001b[39mpack_output(flat_outputs)\n",
      "File \u001b[0;32m~/anaconda3/envs/tf/lib/python3.10/site-packages/tensorflow/python/eager/polymorphic_function/atomic_function.py:251\u001b[0m, in \u001b[0;36mAtomicFunction.call_flat\u001b[0;34m(self, *args)\u001b[0m\n\u001b[1;32m    249\u001b[0m \u001b[38;5;28;01mwith\u001b[39;00m record\u001b[38;5;241m.\u001b[39mstop_recording():\n\u001b[1;32m    250\u001b[0m   \u001b[38;5;28;01mif\u001b[39;00m \u001b[38;5;28mself\u001b[39m\u001b[38;5;241m.\u001b[39m_bound_context\u001b[38;5;241m.\u001b[39mexecuting_eagerly():\n\u001b[0;32m--> 251\u001b[0m     outputs \u001b[38;5;241m=\u001b[39m \u001b[38;5;28;43mself\u001b[39;49m\u001b[38;5;241;43m.\u001b[39;49m\u001b[43m_bound_context\u001b[49m\u001b[38;5;241;43m.\u001b[39;49m\u001b[43mcall_function\u001b[49m\u001b[43m(\u001b[49m\n\u001b[1;32m    252\u001b[0m \u001b[43m        \u001b[49m\u001b[38;5;28;43mself\u001b[39;49m\u001b[38;5;241;43m.\u001b[39;49m\u001b[43mname\u001b[49m\u001b[43m,\u001b[49m\n\u001b[1;32m    253\u001b[0m \u001b[43m        \u001b[49m\u001b[38;5;28;43mlist\u001b[39;49m\u001b[43m(\u001b[49m\u001b[43margs\u001b[49m\u001b[43m)\u001b[49m\u001b[43m,\u001b[49m\n\u001b[1;32m    254\u001b[0m \u001b[43m        \u001b[49m\u001b[38;5;28;43mlen\u001b[39;49m\u001b[43m(\u001b[49m\u001b[38;5;28;43mself\u001b[39;49m\u001b[38;5;241;43m.\u001b[39;49m\u001b[43mfunction_type\u001b[49m\u001b[38;5;241;43m.\u001b[39;49m\u001b[43mflat_outputs\u001b[49m\u001b[43m)\u001b[49m\u001b[43m,\u001b[49m\n\u001b[1;32m    255\u001b[0m \u001b[43m    \u001b[49m\u001b[43m)\u001b[49m\n\u001b[1;32m    256\u001b[0m   \u001b[38;5;28;01melse\u001b[39;00m:\n\u001b[1;32m    257\u001b[0m     outputs \u001b[38;5;241m=\u001b[39m make_call_op_in_graph(\n\u001b[1;32m    258\u001b[0m         \u001b[38;5;28mself\u001b[39m,\n\u001b[1;32m    259\u001b[0m         \u001b[38;5;28mlist\u001b[39m(args),\n\u001b[1;32m    260\u001b[0m         \u001b[38;5;28mself\u001b[39m\u001b[38;5;241m.\u001b[39m_bound_context\u001b[38;5;241m.\u001b[39mfunction_call_options\u001b[38;5;241m.\u001b[39mas_attrs(),\n\u001b[1;32m    261\u001b[0m     )\n",
      "File \u001b[0;32m~/anaconda3/envs/tf/lib/python3.10/site-packages/tensorflow/python/eager/context.py:1486\u001b[0m, in \u001b[0;36mContext.call_function\u001b[0;34m(self, name, tensor_inputs, num_outputs)\u001b[0m\n\u001b[1;32m   1484\u001b[0m cancellation_context \u001b[38;5;241m=\u001b[39m cancellation\u001b[38;5;241m.\u001b[39mcontext()\n\u001b[1;32m   1485\u001b[0m \u001b[38;5;28;01mif\u001b[39;00m cancellation_context \u001b[38;5;129;01mis\u001b[39;00m \u001b[38;5;28;01mNone\u001b[39;00m:\n\u001b[0;32m-> 1486\u001b[0m   outputs \u001b[38;5;241m=\u001b[39m \u001b[43mexecute\u001b[49m\u001b[38;5;241;43m.\u001b[39;49m\u001b[43mexecute\u001b[49m\u001b[43m(\u001b[49m\n\u001b[1;32m   1487\u001b[0m \u001b[43m      \u001b[49m\u001b[43mname\u001b[49m\u001b[38;5;241;43m.\u001b[39;49m\u001b[43mdecode\u001b[49m\u001b[43m(\u001b[49m\u001b[38;5;124;43m\"\u001b[39;49m\u001b[38;5;124;43mutf-8\u001b[39;49m\u001b[38;5;124;43m\"\u001b[39;49m\u001b[43m)\u001b[49m\u001b[43m,\u001b[49m\n\u001b[1;32m   1488\u001b[0m \u001b[43m      \u001b[49m\u001b[43mnum_outputs\u001b[49m\u001b[38;5;241;43m=\u001b[39;49m\u001b[43mnum_outputs\u001b[49m\u001b[43m,\u001b[49m\n\u001b[1;32m   1489\u001b[0m \u001b[43m      \u001b[49m\u001b[43minputs\u001b[49m\u001b[38;5;241;43m=\u001b[39;49m\u001b[43mtensor_inputs\u001b[49m\u001b[43m,\u001b[49m\n\u001b[1;32m   1490\u001b[0m \u001b[43m      \u001b[49m\u001b[43mattrs\u001b[49m\u001b[38;5;241;43m=\u001b[39;49m\u001b[43mattrs\u001b[49m\u001b[43m,\u001b[49m\n\u001b[1;32m   1491\u001b[0m \u001b[43m      \u001b[49m\u001b[43mctx\u001b[49m\u001b[38;5;241;43m=\u001b[39;49m\u001b[38;5;28;43mself\u001b[39;49m\u001b[43m,\u001b[49m\n\u001b[1;32m   1492\u001b[0m \u001b[43m  \u001b[49m\u001b[43m)\u001b[49m\n\u001b[1;32m   1493\u001b[0m \u001b[38;5;28;01melse\u001b[39;00m:\n\u001b[1;32m   1494\u001b[0m   outputs \u001b[38;5;241m=\u001b[39m execute\u001b[38;5;241m.\u001b[39mexecute_with_cancellation(\n\u001b[1;32m   1495\u001b[0m       name\u001b[38;5;241m.\u001b[39mdecode(\u001b[38;5;124m\"\u001b[39m\u001b[38;5;124mutf-8\u001b[39m\u001b[38;5;124m\"\u001b[39m),\n\u001b[1;32m   1496\u001b[0m       num_outputs\u001b[38;5;241m=\u001b[39mnum_outputs,\n\u001b[0;32m   (...)\u001b[0m\n\u001b[1;32m   1500\u001b[0m       cancellation_manager\u001b[38;5;241m=\u001b[39mcancellation_context,\n\u001b[1;32m   1501\u001b[0m   )\n",
      "File \u001b[0;32m~/anaconda3/envs/tf/lib/python3.10/site-packages/tensorflow/python/eager/execute.py:53\u001b[0m, in \u001b[0;36mquick_execute\u001b[0;34m(op_name, num_outputs, inputs, attrs, ctx, name)\u001b[0m\n\u001b[1;32m     51\u001b[0m \u001b[38;5;28;01mtry\u001b[39;00m:\n\u001b[1;32m     52\u001b[0m   ctx\u001b[38;5;241m.\u001b[39mensure_initialized()\n\u001b[0;32m---> 53\u001b[0m   tensors \u001b[38;5;241m=\u001b[39m \u001b[43mpywrap_tfe\u001b[49m\u001b[38;5;241;43m.\u001b[39;49m\u001b[43mTFE_Py_Execute\u001b[49m\u001b[43m(\u001b[49m\u001b[43mctx\u001b[49m\u001b[38;5;241;43m.\u001b[39;49m\u001b[43m_handle\u001b[49m\u001b[43m,\u001b[49m\u001b[43m \u001b[49m\u001b[43mdevice_name\u001b[49m\u001b[43m,\u001b[49m\u001b[43m \u001b[49m\u001b[43mop_name\u001b[49m\u001b[43m,\u001b[49m\n\u001b[1;32m     54\u001b[0m \u001b[43m                                      \u001b[49m\u001b[43minputs\u001b[49m\u001b[43m,\u001b[49m\u001b[43m \u001b[49m\u001b[43mattrs\u001b[49m\u001b[43m,\u001b[49m\u001b[43m \u001b[49m\u001b[43mnum_outputs\u001b[49m\u001b[43m)\u001b[49m\n\u001b[1;32m     55\u001b[0m \u001b[38;5;28;01mexcept\u001b[39;00m core\u001b[38;5;241m.\u001b[39m_NotOkStatusException \u001b[38;5;28;01mas\u001b[39;00m e:\n\u001b[1;32m     56\u001b[0m   \u001b[38;5;28;01mif\u001b[39;00m name \u001b[38;5;129;01mis\u001b[39;00m \u001b[38;5;129;01mnot\u001b[39;00m \u001b[38;5;28;01mNone\u001b[39;00m:\n",
      "\u001b[0;31mKeyboardInterrupt\u001b[0m: "
     ]
    }
   ],
   "source": [
    "for epoch in range(EPOCHS):\n",
    "\n",
    "    for step,(x_batch, y_batch) in enumerate(train_dataset):\n",
    "        train_loss = training_block(x_batch, y_batch)\n",
    "    print(\"The accuracy is:\", METRIC.result())\n",
    "    METRIC.reset_states()\n",
    "    \n",
    "    for step,(x_batch_val, y_batch_val) in enumerate(val_dataset):\n",
    "        val_loss = val_block(x_batch_val, y_batch_val)\n",
    "        \n",
    "    print(\"The accuracy is:\", METRIC_VAL.result())\n",
    "    METRIC_VAL.reset_states()"
   ]
  },
  {
   "cell_type": "code",
   "execution_count": 175,
   "id": "39a0c36d-6c23-4bf3-a72c-b8505d48b6f8",
   "metadata": {
    "canvas": {
     "comments": [],
     "componentType": "CodeCell",
     "copiedOriginId": null,
     "diskcache": false,
     "headerColor": "transparent",
     "id": "feb43b66-2ee3-47d3-a060-6fe86df38a79",
     "isComponent": false,
     "name": "",
     "parents": []
    }
   },
   "outputs": [],
   "source": [
    "def neuralearn(model, METRIC, METRIC_VAL, train_dataset, val_dataset, EPOCHS):\n",
    "    for epoch in range(EPOCHS):\n",
    "\n",
    "        for step,(x_batch, y_batch) in enumerate(train_dataset):\n",
    "            train_loss = training_block(x_batch, y_batch)\n",
    "        print(\"The accuracy is:\", METRIC.result())\n",
    "        METRIC.reset_states()\n",
    "        \n",
    "        for step,(x_batch_val, y_batch_val) in enumerate(val_dataset):\n",
    "            val_loss = val_block(x_batch_val, y_batch_val)\n",
    "            \n",
    "        print(\"The accuracy is:\", METRIC_VAL.result())\n",
    "        METRIC_VAL.reset_states()"
   ]
  },
  {
   "cell_type": "code",
   "execution_count": 1,
   "id": "d60ebd56-bec7-4167-90dc-3cbf1d7eb7a2",
   "metadata": {
    "canvas": {
     "comments": [],
     "componentType": "CodeCell",
     "copiedOriginId": null,
     "diskcache": false,
     "headerColor": "transparent",
     "id": "ba283632-e69a-4bf0-815d-c77b9b145317",
     "isComponent": false,
     "name": "",
     "parents": []
    }
   },
   "outputs": [
    {
     "ename": "NameError",
     "evalue": "name 'Adam' is not defined",
     "output_type": "error",
     "traceback": [
      "\u001b[0;31m---------------------------------------------------------------------------\u001b[0m",
      "\u001b[0;31mNameError\u001b[0m                                 Traceback (most recent call last)",
      "Cell \u001b[0;32mIn[1], line 1\u001b[0m\n\u001b[0;32m----> 1\u001b[0m OPTIMIZER \u001b[38;5;241m=\u001b[39m \u001b[43mAdam\u001b[49m(learning_rate\u001b[38;5;241m=\u001b[39m\u001b[38;5;241m0.01\u001b[39m)\n\u001b[1;32m      2\u001b[0m EPOCHS \u001b[38;5;241m=\u001b[39m \u001b[38;5;241m10\u001b[39m\n\u001b[1;32m      3\u001b[0m METRIC \u001b[38;5;241m=\u001b[39m BinaryAccuracy()\n",
      "\u001b[0;31mNameError\u001b[0m: name 'Adam' is not defined"
     ]
    }
   ],
   "source": [
    "OPTIMIZER = Adam(learning_rate=0.01)\n",
    "EPOCHS = 10\n",
    "METRIC = BinaryAccuracy()\n",
    "METRIC_VAL = BinaryAccuracy()\n",
    "\n",
    "neuralearn(model, METRIC, METRIC_VAL, train_dataset, val_dataset, EPOCHS)"
   ]
  }
 ],
 "metadata": {
  "canvas": {
   "colorPalette": [
    "inherit",
    "inherit",
    "inherit",
    "inherit",
    "inherit",
    "inherit",
    "inherit",
    "inherit",
    "inherit",
    "inherit"
   ],
   "parameters": [],
   "version": "1.0"
  },
  "kernelspec": {
   "display_name": "Python 3 (ipykernel)",
   "language": "python",
   "name": "python3"
  },
  "language_info": {
   "codemirror_mode": {
    "name": "ipython",
    "version": 3
   },
   "file_extension": ".py",
   "mimetype": "text/x-python",
   "name": "python",
   "nbconvert_exporter": "python",
   "pygments_lexer": "ipython3",
   "version": "3.10.13"
  }
 },
 "nbformat": 4,
 "nbformat_minor": 5
}
