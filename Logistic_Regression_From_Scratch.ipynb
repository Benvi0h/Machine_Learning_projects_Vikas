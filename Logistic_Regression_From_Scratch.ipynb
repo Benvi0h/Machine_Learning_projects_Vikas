{
 "cells": [
  {
   "cell_type": "code",
   "execution_count": 9,
   "id": "29e52f63-ac07-44b5-b138-5b631ecee18c",
   "metadata": {
    "canvas": {
     "comments": [],
     "componentType": "CodeCell",
     "copiedOriginId": null,
     "diskcache": false,
     "headerColor": "transparent",
     "id": "5748f61e-7847-45a2-8ca1-c53a4fdf1c7d",
     "isComponent": false,
     "name": "",
     "parents": []
    },
    "tags": []
   },
   "outputs": [],
   "source": [
    "import pandas as pd\n",
    "import numpy as np\n",
    "import matplotlib.pyplot as plt\n",
    "import math"
   ]
  },
  {
   "cell_type": "code",
   "execution_count": 2,
   "id": "1c1b9d0c-8350-4fe1-abf4-b9e6c02e0b6b",
   "metadata": {
    "canvas": {
     "comments": [],
     "componentType": "CodeCell",
     "copiedOriginId": null,
     "diskcache": false,
     "headerColor": "transparent",
     "id": "d9915b29-d800-4e50-ad20-4717d39fc1bd",
     "isComponent": false,
     "name": "",
     "parents": []
    }
   },
   "outputs": [],
   "source": [
    "df = pd.read_csv(\"Log_reg.csv\")"
   ]
  },
  {
   "cell_type": "code",
   "execution_count": 3,
   "id": "f83a0225-6319-423b-b3db-e95ae8e0b57b",
   "metadata": {
    "canvas": {
     "comments": [],
     "componentType": "CodeCell",
     "copiedOriginId": null,
     "diskcache": false,
     "headerColor": "transparent",
     "id": "86e5063d-f81d-40d7-9b58-9a0540f6ef3e",
     "isComponent": false,
     "name": "",
     "parents": []
    }
   },
   "outputs": [
    {
     "data": {
      "text/html": [
       "<div>\n",
       "<style scoped>\n",
       "    .dataframe tbody tr th:only-of-type {\n",
       "        vertical-align: middle;\n",
       "    }\n",
       "\n",
       "    .dataframe tbody tr th {\n",
       "        vertical-align: top;\n",
       "    }\n",
       "\n",
       "    .dataframe thead th {\n",
       "        text-align: right;\n",
       "    }\n",
       "</style>\n",
       "<table border=\"1\" class=\"dataframe\">\n",
       "  <thead>\n",
       "    <tr style=\"text-align: right;\">\n",
       "      <th></th>\n",
       "      <th>Attribute 1</th>\n",
       "      <th>Attribute 2</th>\n",
       "      <th>Target</th>\n",
       "    </tr>\n",
       "  </thead>\n",
       "  <tbody>\n",
       "    <tr>\n",
       "      <th>0</th>\n",
       "      <td>34.623660</td>\n",
       "      <td>78.024693</td>\n",
       "      <td>0</td>\n",
       "    </tr>\n",
       "    <tr>\n",
       "      <th>1</th>\n",
       "      <td>30.286711</td>\n",
       "      <td>43.894998</td>\n",
       "      <td>0</td>\n",
       "    </tr>\n",
       "    <tr>\n",
       "      <th>2</th>\n",
       "      <td>35.847409</td>\n",
       "      <td>72.902198</td>\n",
       "      <td>0</td>\n",
       "    </tr>\n",
       "    <tr>\n",
       "      <th>3</th>\n",
       "      <td>60.182599</td>\n",
       "      <td>86.308552</td>\n",
       "      <td>1</td>\n",
       "    </tr>\n",
       "    <tr>\n",
       "      <th>4</th>\n",
       "      <td>79.032736</td>\n",
       "      <td>75.344376</td>\n",
       "      <td>1</td>\n",
       "    </tr>\n",
       "  </tbody>\n",
       "</table>\n",
       "</div>"
      ],
      "text/plain": [
       "   Attribute 1  Attribute 2  Target\n",
       "0    34.623660    78.024693       0\n",
       "1    30.286711    43.894998       0\n",
       "2    35.847409    72.902198       0\n",
       "3    60.182599    86.308552       1\n",
       "4    79.032736    75.344376       1"
      ]
     },
     "execution_count": 3,
     "metadata": {},
     "output_type": "execute_result"
    }
   ],
   "source": [
    "df.head()"
   ]
  },
  {
   "cell_type": "code",
   "execution_count": 4,
   "id": "c5b73a3a-3981-4245-86ec-3fded6e09ce4",
   "metadata": {
    "canvas": {
     "comments": [],
     "componentType": "CodeCell",
     "copiedOriginId": null,
     "diskcache": false,
     "headerColor": "transparent",
     "id": "10e03d84-544c-47a2-bb87-67e3bc72c775",
     "isComponent": false,
     "name": "",
     "parents": []
    }
   },
   "outputs": [
    {
     "data": {
      "text/plain": [
       "Target\n",
       "1    60\n",
       "0    40\n",
       "Name: count, dtype: int64"
      ]
     },
     "execution_count": 4,
     "metadata": {},
     "output_type": "execute_result"
    }
   ],
   "source": [
    "df['Target'].value_counts()"
   ]
  },
  {
   "cell_type": "code",
   "execution_count": 5,
   "id": "bffd772c-f71f-48bf-9efa-23b80824aed6",
   "metadata": {
    "canvas": {
     "comments": [],
     "componentType": "CodeCell",
     "copiedOriginId": null,
     "diskcache": false,
     "headerColor": "transparent",
     "id": "f61a9ab8-0d0f-4b47-899d-42b1a1027402",
     "isComponent": false,
     "name": "",
     "parents": []
    }
   },
   "outputs": [
    {
     "ename": "NameError",
     "evalue": "name 'X' is not defined",
     "output_type": "error",
     "traceback": [
      "\u001b[1;31m---------------------------------------------------------------------------\u001b[0m",
      "\u001b[1;31mNameError\u001b[0m                                 Traceback (most recent call last)",
      "Cell \u001b[1;32mIn[5], line 1\u001b[0m\n\u001b[1;32m----> 1\u001b[0m \u001b[38;5;28mlist\u001b[39m(\u001b[43mX\u001b[49m\u001b[38;5;241m.\u001b[39mcolumns)\n\u001b[0;32m      2\u001b[0m \u001b[38;5;28;01mfrom\u001b[39;00m \u001b[38;5;21;01msklearn\u001b[39;00m \u001b[38;5;28;01mimport\u001b[39;00m preprocessing\n\u001b[0;32m      3\u001b[0m X1 \u001b[38;5;241m=\u001b[39m preprocessing\u001b[38;5;241m.\u001b[39mscale(X)\n",
      "\u001b[1;31mNameError\u001b[0m: name 'X' is not defined"
     ]
    }
   ],
   "source": [
    "list(X.columns)\n",
    "from sklearn import preprocessing\n",
    "X1 = preprocessing.scale(X)"
   ]
  },
  {
   "cell_type": "code",
   "execution_count": 7,
   "id": "9a734782-72b7-4c3d-8eb8-82acc1a2c83c",
   "metadata": {
    "canvas": {
     "comments": [],
     "componentType": "CodeCell",
     "copiedOriginId": null,
     "diskcache": false,
     "headerColor": "transparent",
     "id": "ea4470d7-8a54-4ce7-b215-38d2f5193d99",
     "isComponent": false,
     "name": "",
     "parents": []
    }
   },
   "outputs": [],
   "source": [
    "class Logistic_Regression:\n",
    "    \n",
    "    def __init__(self, w1, w2, b):\n",
    "        self.w1 = w1\n",
    "        self.w2 = w2\n",
    "        self.b = b\n",
    "        self.loss_list = []\n",
    "        self.w1_list = []\n",
    "        self.w2_list = []\n",
    "        self.b_list = []\n",
    "        self.y_pred_list = []\n",
    "        \n",
    "    def cost_function(self, target, attribute1, attribute2):\n",
    "        cost = 0\n",
    "        m = len(target)\n",
    "        \n",
    "        for y_actual, x1, x2 in zip(target, attribute1, attribute2):\n",
    "            if (1 - self.sigmoid(x1, x2)) > 0 and self.sigmoid(x1, x2) > 0:\n",
    "                cost += (y_actual * math.log(self.sigmoid(x1, x2))) + ((1 - y_actual) * math.log(1 - self.sigmoid(x1, x2)))\n",
    "            elif (1 - self.sigmoid(x1, x2)) < 0 and self.sigmoid(x1, x2) > 0:\n",
    "                cost += (y_actual * math.log(self.sigmoid(x1, x2)))\n",
    "            elif (1 - self.sigmoid(x1, x2)) > 0 and self.sigmoid(x1, x2) < 0:\n",
    "                cost += ((1 - y_actual) * math.log(1 - self.sigmoid(x1, x2)))\n",
    "        \n",
    "        cost_function = -(1 / m) * cost\n",
    "        self.loss_list.append(cost_function)\n",
    "        \n",
    "        # print(\"Loss :\", cost_function)    \n",
    "        \n",
    "    def linear_eqn(self, x1, x2):\n",
    "        y = self.w1 * x1 + self.w2 * x2 + self.b\n",
    "        return y\n",
    "    \n",
    "    def sigmoid(self, x1, x2):\n",
    "        y = self.linear_eqn(x1, x2)\n",
    "        \n",
    "        \n",
    "        y_pred = 1 / (1+ np.exp(-y))\n",
    "        \n",
    "        \n",
    "        return y_pred\n",
    "    \n",
    "    def weights(self, alpha, target, attribute1, attribute2, iters):\n",
    "        \n",
    "        error1 = 0\n",
    "        error2 = 0\n",
    "        error3 = 0\n",
    "        m = len(target)\n",
    "        \n",
    "        w1 = self.w1\n",
    "        w2 = self.w2\n",
    "        b  = self.b\n",
    "        \n",
    "        \n",
    "        \n",
    "        while iters != 0:\n",
    "            \n",
    "            for y_actual, x1, x2 in zip(target, attribute1, attribute2):\n",
    "                y_pred = self.sigmoid(x1, x2)\n",
    "            \n",
    "                w1 = w1 + (alpha  * (y_actual - y_pred ) * x1 )/m\n",
    "                w2 = w2 + (alpha  * (y_actual - y_pred ) * x2 )/m\n",
    "                b = b + (alpha  * (y_actual - y_pred ) )/m\n",
    "        \n",
    "                self.w1_list.append(w1)\n",
    "                self.w2_list.append(w2)\n",
    "                self.b_list.append(b)\n",
    "\n",
    "                self.w1 = w1\n",
    "                self.w2 = w2\n",
    "                self.b  = b\n",
    "            # old_loss = loss\n",
    "            loss = self.cost_function(target, attribute1, attribute2)\n",
    "            iters -= 1\n",
    "    \n",
    "    def custom_compile(self, X, y, iters = 100, alpha = 0.1):\n",
    "        target = y\n",
    "        attribute1 = X['Attribute 1']\n",
    "        attribute2 = X['Attribute 2']\n",
    "        \n",
    "        \n",
    "        self.weights( alpha, target, attribute1, attribute2, iters)\n",
    "        \n",
    "    def accuracy(self, y_actual, X):\n",
    "        m = len(y_actual)\n",
    "        correct = 0\n",
    "        \n",
    "        for x1, x2 in zip(X['Attribute 1'], X['Attribute 2']):\n",
    "            y_pred = self.sigmoid(x1, x2)\n",
    "            self.y_pred_list.append(y_pred)\n",
    "            \n",
    "        for i,j in zip(y_actual, self.y_pred_list):\n",
    "            if i == j:\n",
    "                correct += 1\n",
    "\n",
    "        print(\"Accuracy :\", correct/m)\n",
    "        return correct/m\n",
    "    \n",
    "    def predict(self, X):\n",
    "        attribute1 = X['Attribute 1']\n",
    "        attribute2 = X['Attribute 2']\n",
    "\n",
    "        prediction1 = []\n",
    "\n",
    "        for  x1, x2 in zip( attribute1, attribute2):\n",
    "            pred1 = round(1/(1+np.exp(-(obj.b+obj.w1*x1 + obj.w2*x2))))\n",
    "            prediction1.append(pred1)\n",
    "        \n",
    "        return prediction1"
   ]
  },
  {
   "cell_type": "code",
   "execution_count": 10,
   "id": "6d81e65b-b414-4cc1-9876-b029ff746160",
   "metadata": {
    "canvas": {
     "comments": [],
     "componentType": "CodeCell",
     "copiedOriginId": null,
     "diskcache": false,
     "headerColor": "transparent",
     "id": "71df9c93-243b-4dac-a5dd-af7339f5b2bf",
     "isComponent": false,
     "name": "",
     "parents": []
    }
   },
   "outputs": [],
   "source": [
    "obj = Logistic_Regression(0, 0, 0)\n",
    "\n",
    "\n",
    "y = df['Target']\n",
    "X = df.drop('Target', axis = 1)\n",
    "\n",
    "\n",
    "obj.custom_compile(X[:30], y[:30], 100000, alpha = 0.01)"
   ]
  },
  {
   "cell_type": "code",
   "execution_count": 11,
   "id": "d776ae1b-8b7e-4135-b661-726eb1196fea",
   "metadata": {
    "canvas": {
     "comments": [],
     "componentType": "CodeCell",
     "copiedOriginId": null,
     "diskcache": false,
     "headerColor": "transparent",
     "id": "3ebde2d3-e418-4668-8141-10bcd180be6e",
     "isComponent": false,
     "name": "",
     "parents": []
    }
   },
   "outputs": [
    {
     "data": {
      "image/png": "[encoded data removed]",
      "text/plain": [
       "<Figure size 640x480 with 1 Axes>"
      ]
     },
     "metadata": {},
     "output_type": "display_data"
    }
   ],
   "source": [
    "plt.plot(obj.loss_list)\n",
    "# plt.plot(obj.w1_list)\n",
    "# plt.plot(obj.w2_list)\n",
    "plt.show()"
   ]
  },
  {
   "cell_type": "code",
   "execution_count": 13,
   "id": "933536b7-b4cf-4ff8-a55c-9dad29c85081",
   "metadata": {
    "canvas": {
     "comments": [],
     "componentType": "CodeCell",
     "copiedOriginId": null,
     "diskcache": false,
     "headerColor": "transparent",
     "id": "518f121f-cbd0-4074-99cc-a657d003a7b7",
     "isComponent": false,
     "name": "",
     "parents": []
    }
   },
   "outputs": [
    {
     "data": {
      "text/plain": [
       "[0,\n",
       " 0,\n",
       " 0,\n",
       " 1,\n",
       " 1,\n",
       " 0,\n",
       " 1,\n",
       " 0,\n",
       " 1,\n",
       " 0,\n",
       " 0,\n",
       " 0,\n",
       " 1,\n",
       " 1,\n",
       " 0,\n",
       " 1,\n",
       " 0,\n",
       " 0,\n",
       " 1,\n",
       " 0,\n",
       " 0,\n",
       " 1,\n",
       " 0,\n",
       " 0,\n",
       " 1,\n",
       " 1,\n",
       " 0,\n",
       " 0,\n",
       " 0,\n",
       " 0,\n",
       " 1,\n",
       " 1,\n",
       " 0,\n",
       " 0,\n",
       " 0,\n",
       " 0,\n",
       " 1,\n",
       " 1,\n",
       " 0,\n",
       " 0,\n",
       " 1,\n",
       " 0,\n",
       " 1,\n",
       " 0,\n",
       " 0,\n",
       " 0,\n",
       " 1,\n",
       " 1,\n",
       " 1,\n",
       " 1,\n",
       " 1,\n",
       " 1,\n",
       " 0,\n",
       " 0,\n",
       " 0,\n",
       " 0,\n",
       " 1,\n",
       " 1,\n",
       " 1,\n",
       " 1,\n",
       " 1,\n",
       " 0,\n",
       " 0,\n",
       " 0,\n",
       " 0,\n",
       " 0,\n",
       " 1,\n",
       " 0,\n",
       " 1,\n",
       " 0,\n",
       " 0,\n",
       " 1,\n",
       " 1,\n",
       " 1,\n",
       " 1,\n",
       " 1,\n",
       " 1,\n",
       " 1,\n",
       " 0,\n",
       " 0,\n",
       " 1,\n",
       " 0,\n",
       " 1,\n",
       " 0,\n",
       " 1,\n",
       " 1,\n",
       " 1,\n",
       " 1,\n",
       " 1,\n",
       " 0,\n",
       " 1,\n",
       " 1,\n",
       " 0,\n",
       " 1,\n",
       " 0,\n",
       " 0,\n",
       " 1,\n",
       " 1,\n",
       " 0,\n",
       " 1]"
      ]
     },
     "execution_count": 13,
     "metadata": {},
     "output_type": "execute_result"
    }
   ],
   "source": [
    "attribute1 = X['Attribute 1']\n",
    "attribute2 = X['Attribute 2']\n",
    "\n",
    "prediction1 = []\n",
    "\n",
    "for  x1, x2 in zip( attribute1, attribute2):\n",
    "    pred1=round(1/(1+np.exp(-(obj.b+obj.w1*x1 + obj.w2*x2))))\n",
    "    prediction1.append(pred1)\n",
    "\n",
    "# for i in range(len(prediction1)):\n",
    "#     prediction1[i]=round(prediction1[i])\n",
    "prediction1"
   ]
  },
  {
   "cell_type": "code",
   "execution_count": 14,
   "id": "e4e5115f-460c-4d92-90e7-b371cee56f01",
   "metadata": {
    "canvas": {
     "comments": [],
     "componentType": "CodeCell",
     "copiedOriginId": null,
     "diskcache": false,
     "headerColor": "transparent",
     "id": "a0bb817e-565a-4a78-9bc3-5877698e436e",
     "isComponent": false,
     "name": "",
     "parents": []
    }
   },
   "outputs": [
    {
     "name": "stdout",
     "output_type": "stream",
     "text": [
      "0.84\n"
     ]
    }
   ],
   "source": [
    "from sklearn.metrics import accuracy_score\n",
    "print(accuracy_score(y,prediction1))"
   ]
  },
  {
   "cell_type": "code",
   "execution_count": 26,
   "id": "ad33c145-2819-4491-a7c4-ca462e8a2666",
   "metadata": {
    "canvas": {
     "comments": [],
     "componentType": "CodeCell",
     "copiedOriginId": null,
     "diskcache": false,
     "headerColor": "transparent",
     "id": "2a83c9e5-6ad0-45fc-bf14-24d1287eac90",
     "isComponent": false,
     "name": "",
     "parents": []
    }
   },
   "outputs": [
    {
     "data": {
      "image/png": "[encoded data removed]",
      "text/plain": [
       "<Figure size 640x480 with 1 Axes>"
      ]
     },
     "metadata": {},
     "output_type": "display_data"
    }
   ],
   "source": [
    "\n",
    "\n",
    "plt.plot(obj.w1_list[:100])\n",
    "# plt.plot(obj.w1_list)\n",
    "# plt.plot(obj.w2_list)\n",
    "plt.show()"
   ]
  }
 ],
 "metadata": {
  "canvas": {
   "colorPalette": [
    "inherit",
    "inherit",
    "inherit",
    "inherit",
    "inherit",
    "inherit",
    "inherit",
    "inherit",
    "inherit",
    "inherit"
   ],
   "parameters": [],
   "version": "1.0"
  },
  "kernelspec": {
   "display_name": "Python 3 (ipykernel)",
   "language": "python",
   "name": "python3"
  },
  "language_info": {
   "codemirror_mode": {
    "name": "ipython",
    "version": 3
   },
   "file_extension": ".py",
   "mimetype": "text/x-python",
   "name": "python",
   "nbconvert_exporter": "python",
   "pygments_lexer": "ipython3",
   "version": "3.10.0"
  }
 },
 "nbformat": 4,
 "nbformat_minor": 5
}
