{
 "cells": [
  {
   "cell_type": "code",
   "execution_count": 1,
   "id": "53fce4ee-2b55-43ed-911b-4265c5d24bb8",
   "metadata": {
    "canvas": {
     "comments": [],
     "componentType": "CodeCell",
     "copiedOriginId": null,
     "diskcache": false,
     "headerColor": "transparent",
     "id": "898b2fc5-613d-4bd8-937f-9422c8fa978d",
     "isComponent": false,
     "name": "",
     "parents": []
    },
    "tags": []
   },
   "outputs": [],
   "source": [
    "import random\n",
    "from datetime import datetime\n",
    "import numpy as np\n",
    "import pandas as pd"
   ]
  },
  {
   "cell_type": "code",
   "execution_count": 2,
   "id": "9b9e00be-0d4d-4af1-992d-9e79d8460fa4",
   "metadata": {
    "canvas": {
     "comments": [],
     "componentType": "CodeCell",
     "copiedOriginId": null,
     "diskcache": false,
     "headerColor": "transparent",
     "id": "292e358e-e3e4-4e73-be29-725db8be9d48",
     "isComponent": false,
     "name": "",
     "parents": []
    }
   },
   "outputs": [
    {
     "data": {
      "text/html": [
       "<div>\n",
       "<style scoped>\n",
       "    .dataframe tbody tr th:only-of-type {\n",
       "        vertical-align: middle;\n",
       "    }\n",
       "\n",
       "    .dataframe tbody tr th {\n",
       "        vertical-align: top;\n",
       "    }\n",
       "\n",
       "    .dataframe thead th {\n",
       "        text-align: right;\n",
       "    }\n",
       "</style>\n",
       "<table border=\"1\" class=\"dataframe\">\n",
       "  <thead>\n",
       "    <tr style=\"text-align: right;\">\n",
       "      <th></th>\n",
       "      <th>date_time</th>\n",
       "      <th>response</th>\n",
       "      <th>emotion</th>\n",
       "      <th>outcome</th>\n",
       "    </tr>\n",
       "    <tr>\n",
       "      <th>date_time</th>\n",
       "      <th></th>\n",
       "      <th></th>\n",
       "      <th></th>\n",
       "      <th></th>\n",
       "    </tr>\n",
       "  </thead>\n",
       "  <tbody>\n",
       "    <tr>\n",
       "      <th>2024-03-15 01:00:00</th>\n",
       "      <td>3/15/24 1:0:0</td>\n",
       "      <td>0.0</td>\n",
       "      <td>0.05</td>\n",
       "      <td>0.0</td>\n",
       "    </tr>\n",
       "    <tr>\n",
       "      <th>2024-03-15 01:00:02</th>\n",
       "      <td>3/15/24 1:0:2</td>\n",
       "      <td>1.0</td>\n",
       "      <td>0.03</td>\n",
       "      <td>0.0</td>\n",
       "    </tr>\n",
       "    <tr>\n",
       "      <th>2024-03-15 01:00:03</th>\n",
       "      <td>3/15/24 1:0:3</td>\n",
       "      <td>0.0</td>\n",
       "      <td>0.04</td>\n",
       "      <td>0.0</td>\n",
       "    </tr>\n",
       "    <tr>\n",
       "      <th>2024-03-15 01:00:03</th>\n",
       "      <td>3/15/24 1:0:3</td>\n",
       "      <td>0.0</td>\n",
       "      <td>0.08</td>\n",
       "      <td>0.0</td>\n",
       "    </tr>\n",
       "    <tr>\n",
       "      <th>2024-03-15 01:00:03</th>\n",
       "      <td>3/15/24 1:0:3</td>\n",
       "      <td>1.0</td>\n",
       "      <td>0.06</td>\n",
       "      <td>0.0</td>\n",
       "    </tr>\n",
       "    <tr>\n",
       "      <th>...</th>\n",
       "      <td>...</td>\n",
       "      <td>...</td>\n",
       "      <td>...</td>\n",
       "      <td>...</td>\n",
       "    </tr>\n",
       "    <tr>\n",
       "      <th>2024-03-15 23:59:53</th>\n",
       "      <td>3/15/24 23:59:53</td>\n",
       "      <td>1.0</td>\n",
       "      <td>0.99</td>\n",
       "      <td>0.0</td>\n",
       "    </tr>\n",
       "    <tr>\n",
       "      <th>2024-03-15 23:59:57</th>\n",
       "      <td>3/15/24 23:59:57</td>\n",
       "      <td>0.0</td>\n",
       "      <td>1.49</td>\n",
       "      <td>0.0</td>\n",
       "    </tr>\n",
       "    <tr>\n",
       "      <th>2024-03-15 23:59:57</th>\n",
       "      <td>3/15/24 23:59:57</td>\n",
       "      <td>0.0</td>\n",
       "      <td>1.72</td>\n",
       "      <td>0.0</td>\n",
       "    </tr>\n",
       "    <tr>\n",
       "      <th>2024-03-15 23:59:57</th>\n",
       "      <td>3/15/24 23:59:57</td>\n",
       "      <td>1.0</td>\n",
       "      <td>1.03</td>\n",
       "      <td>0.0</td>\n",
       "    </tr>\n",
       "    <tr>\n",
       "      <th>2024-03-15 23:59:59</th>\n",
       "      <td>3/15/24 23:59:59</td>\n",
       "      <td>0.0</td>\n",
       "      <td>0.82</td>\n",
       "      <td>0.0</td>\n",
       "    </tr>\n",
       "  </tbody>\n",
       "</table>\n",
       "<p>70000 rows × 4 columns</p>\n",
       "</div>"
      ],
      "text/plain": [
       "                            date_time  response  emotion  outcome\n",
       "date_time                                                        \n",
       "2024-03-15 01:00:00     3/15/24 1:0:0       0.0     0.05      0.0\n",
       "2024-03-15 01:00:02     3/15/24 1:0:2       1.0     0.03      0.0\n",
       "2024-03-15 01:00:03     3/15/24 1:0:3       0.0     0.04      0.0\n",
       "2024-03-15 01:00:03     3/15/24 1:0:3       0.0     0.08      0.0\n",
       "2024-03-15 01:00:03     3/15/24 1:0:3       1.0     0.06      0.0\n",
       "...                               ...       ...      ...      ...\n",
       "2024-03-15 23:59:53  3/15/24 23:59:53       1.0     0.99      0.0\n",
       "2024-03-15 23:59:57  3/15/24 23:59:57       0.0     1.49      0.0\n",
       "2024-03-15 23:59:57  3/15/24 23:59:57       0.0     1.72      0.0\n",
       "2024-03-15 23:59:57  3/15/24 23:59:57       1.0     1.03      0.0\n",
       "2024-03-15 23:59:59  3/15/24 23:59:59       0.0     0.82      0.0\n",
       "\n",
       "[70000 rows x 4 columns]"
      ]
     },
     "execution_count": 2,
     "metadata": {},
     "output_type": "execute_result"
    }
   ],
   "source": [
    "number_of_records = 70000\n",
    "date_time_list = []\n",
    "response_list  = []\n",
    "emotion_list   = []\n",
    "outcome_list   = []\n",
    "\n",
    "liss = []\n",
    "\n",
    "for i in range(number_of_records):\n",
    "    # day = random.randrange(1,30, 1)\n",
    "    # month = random.randrange(1,12,1)\n",
    "    day = 15\n",
    "    month = 3\n",
    "    \n",
    "    hour = random.randrange(1,24,1)\n",
    "    mins = random.randrange(0,60,1)\n",
    "    sec  = random.randrange(0,60,1)\n",
    "\n",
    "    date_time = f\"{month}/{day}/24 {hour}:{mins}:{sec}\"\n",
    "    response = float(random.choice([1,0]))\n",
    "    \n",
    "    emotion  = random.choice([1,2,3,4,5])\n",
    "    eqn = (hour/100)*emotion + (sec/100)\n",
    "    \n",
    "    emotion = eqn\n",
    "    if emotion > 5:\n",
    "        emotion = 5\n",
    "    \n",
    "    if emotion <= 1.5 or emotion <= 2. :\n",
    "        outcome  = 0.0\n",
    "    elif emotion == 3.5 or emotion == 4.5:\n",
    "        outcome = float(random.choice([1,0]))\n",
    "    elif emotion <= 5:\n",
    "        outcome = 1.0\n",
    "\n",
    "    lis = [date_time, response, emotion, outcome]\n",
    "    liss.append(lis)\n",
    "\n",
    "# lis = [date_time_list, response_list, emotion_list, outcome_list]\n",
    "# lis = (np.array(lis)).reshape(1,-1)\n",
    "df = pd.DataFrame(liss, columns = [\"date_time\", \"response\", \"emotion\", \"outcome\"])\n",
    "df.index = pd.to_datetime(df[\"date_time\"], format='%m/%d/%y %H:%M:%S')\n",
    "\n",
    "df = df.sort_index(axis=0, ascending=True, inplace=False, kind='quicksort')\n",
    "df"
   ]
  },
  {
   "cell_type": "code",
   "execution_count": 3,
   "id": "ff6ff8a2-0aad-47c8-8a9c-9ad9d8f456e2",
   "metadata": {
    "canvas": {
     "comments": [],
     "componentType": "CodeCell",
     "copiedOriginId": null,
     "diskcache": false,
     "headerColor": "transparent",
     "id": "ee9a9266-05d3-442d-9cb1-6590db0121b7",
     "isComponent": false,
     "name": "",
     "parents": []
    }
   },
   "outputs": [
    {
     "data": {
      "text/plain": [
       "(0.01, 1.7400000000000002)"
      ]
     },
     "execution_count": 3,
     "metadata": {},
     "output_type": "execute_result"
    }
   ],
   "source": [
    "min(df[\"emotion\"]), max(df[\"emotion\"])"
   ]
  },
  {
   "cell_type": "code",
   "execution_count": 4,
   "id": "0282f955-5c48-4ee1-b05a-533cc5381079",
   "metadata": {
    "canvas": {
     "comments": [],
     "componentType": "CodeCell",
     "copiedOriginId": null,
     "diskcache": false,
     "headerColor": "transparent",
     "id": "f02c55d0-f193-4d17-8ff5-fd6f346996fb",
     "isComponent": false,
     "name": "",
     "parents": []
    }
   },
   "outputs": [
    {
     "data": {
      "text/plain": [
       "date_time\n",
       "2024-03-15 01:00:00    0.05\n",
       "2024-03-15 01:00:02    0.03\n",
       "2024-03-15 01:00:03    0.04\n",
       "2024-03-15 01:00:03    0.08\n",
       "2024-03-15 01:00:03    0.06\n",
       "                       ... \n",
       "2024-03-15 23:59:53    0.99\n",
       "2024-03-15 23:59:57    1.49\n",
       "2024-03-15 23:59:57    1.72\n",
       "2024-03-15 23:59:57    1.03\n",
       "2024-03-15 23:59:59    0.82\n",
       "Name: emotion, Length: 70000, dtype: float64"
      ]
     },
     "execution_count": 4,
     "metadata": {},
     "output_type": "execute_result"
    }
   ],
   "source": [
    "df[\"emotion\"]"
   ]
  },
  {
   "cell_type": "code",
   "execution_count": 5,
   "id": "40494375-b210-4092-9571-669174e47258",
   "metadata": {
    "canvas": {
     "comments": [],
     "componentType": "CodeCell",
     "copiedOriginId": null,
     "diskcache": false,
     "headerColor": "transparent",
     "id": "16047ec2-da29-4499-a22e-50ff713ba60f",
     "isComponent": false,
     "name": "",
     "parents": []
    }
   },
   "outputs": [
    {
     "data": {
      "text/plain": [
       "[<matplotlib.lines.Line2D at 0x113bfe69b10>]"
      ]
     },
     "execution_count": 5,
     "metadata": {},
     "output_type": "execute_result"
    },
    {
     "data": {
      "image/png": "[encoded data removed]",
      "text/plain": [
       "<Figure size 640x480 with 1 Axes>"
      ]
     },
     "metadata": {},
     "output_type": "display_data"
    }
   ],
   "source": [
    "import matplotlib.pyplot as plt\n",
    "\n",
    "date_time_dict = {}\n",
    "for i, j in zip(df[\"date_time\"], df['emotion']):\n",
    "    date_time_dict[i] = j\n",
    "for i, j in zip(df[\"date_time\"], df['emotion']):\n",
    "    date_time_dict[i] += j\n",
    "    \n",
    "plt.plot(list(date_time_dict.keys())[:300], list(date_time_dict.values())[:300])"
   ]
  },
  {
   "cell_type": "code",
   "execution_count": 6,
   "id": "d44d129b-100b-449d-97c6-b5c1d58a0ce8",
   "metadata": {
    "canvas": {
     "comments": [],
     "componentType": "CodeCell",
     "copiedOriginId": null,
     "diskcache": false,
     "headerColor": "transparent",
     "id": "6a792065-5559-43fe-90c2-9e28fd28d781",
     "isComponent": false,
     "name": "",
     "parents": []
    }
   },
   "outputs": [
    {
     "data": {
      "text/plain": [
       "(70000, 4)"
      ]
     },
     "execution_count": 6,
     "metadata": {},
     "output_type": "execute_result"
    }
   ],
   "source": [
    "np.shape(np.array(df))"
   ]
  },
  {
   "cell_type": "code",
   "execution_count": 7,
   "id": "6afa8a3e-1f8d-4bf8-b11d-c3f178afb5c2",
   "metadata": {
    "canvas": {
     "comments": [],
     "componentType": "CodeCell",
     "copiedOriginId": null,
     "diskcache": false,
     "headerColor": "transparent",
     "id": "e34fb703-1246-407e-a35a-bd9ecfb85b6f",
     "isComponent": false,
     "name": "",
     "parents": []
    }
   },
   "outputs": [
    {
     "data": {
      "text/plain": [
       "(70000, 4)"
      ]
     },
     "execution_count": 7,
     "metadata": {},
     "output_type": "execute_result"
    }
   ],
   "source": [
    "np.shape(df.to_numpy())"
   ]
  },
  {
   "cell_type": "code",
   "execution_count": 8,
   "id": "cd95ca1f-24b5-4bf9-9194-f8bed99d770d",
   "metadata": {
    "canvas": {
     "comments": [],
     "componentType": "CodeCell",
     "copiedOriginId": null,
     "diskcache": false,
     "headerColor": "transparent",
     "id": "05c23451-c26e-437c-bdec-2bad2f7475ce",
     "isComponent": false,
     "name": "",
     "parents": []
    }
   },
   "outputs": [],
   "source": [
    "def df_to_X_y(df, window_size=5):\n",
    "    df_as_np = np.array(df)\n",
    "    X = []\n",
    "    y = []\n",
    "    for i in range(len(df_as_np)-window_size):\n",
    "        row = [[a] for a in df_as_np[i:i+window_size]]\n",
    "        X.append(row)\n",
    "        label = df_as_np[i+window_size]\n",
    "        y.append(label)\n",
    "    return np.array(X), np.array(y)"
   ]
  },
  {
   "cell_type": "code",
   "execution_count": 9,
   "id": "bfe048a3-f9e7-4fc2-9ac2-a84e005bc55c",
   "metadata": {
    "canvas": {
     "comments": [],
     "componentType": "CodeCell",
     "copiedOriginId": null,
     "diskcache": false,
     "headerColor": "transparent",
     "id": "1e576d53-0e98-4e08-ba7e-43f45320df29",
     "isComponent": false,
     "name": "",
     "parents": []
    }
   },
   "outputs": [
    {
     "data": {
      "text/plain": [
       "((69995, 5, 1), (69995,))"
      ]
     },
     "execution_count": 9,
     "metadata": {},
     "output_type": "execute_result"
    }
   ],
   "source": [
    "WINDOW_SIZE = 5\n",
    "X, y = df_to_X_y(df['emotion'], WINDOW_SIZE)\n",
    "X.shape,y.shape"
   ]
  },
  {
   "cell_type": "code",
   "execution_count": 10,
   "id": "7daad9b3-19db-48e3-ad05-e3f23fbebb62",
   "metadata": {
    "canvas": {
     "comments": [],
     "componentType": "CodeCell",
     "copiedOriginId": null,
     "diskcache": false,
     "headerColor": "transparent",
     "id": "74c68905-c20a-47fd-aa9a-b72014f68724",
     "isComponent": false,
     "name": "",
     "parents": []
    }
   },
   "outputs": [
    {
     "data": {
      "text/plain": [
       "((60000, 5, 1), (60000,))"
      ]
     },
     "execution_count": 10,
     "metadata": {},
     "output_type": "execute_result"
    }
   ],
   "source": [
    "X_train, y_train = X[:60000], y[:60000]\n",
    "X_val,y_val = X[60000:65000], y[60000:65000]\n",
    "X_test, y_test = X[65000:], y[65000:]\n",
    "\n",
    "X_train.shape,y_train.shape"
   ]
  },
  {
   "cell_type": "code",
   "execution_count": 11,
   "id": "2c14b18d-f9a5-482e-bfbe-3ca08386dca9",
   "metadata": {
    "canvas": {
     "comments": [],
     "componentType": "CodeCell",
     "copiedOriginId": null,
     "diskcache": false,
     "headerColor": "transparent",
     "id": "ccf56963-7ab0-467a-a005-b46da8ed42cb",
     "isComponent": false,
     "name": "",
     "parents": []
    }
   },
   "outputs": [],
   "source": [
    "from tensorflow.keras.models import Sequential\n",
    "from tensorflow.keras.layers import *\n",
    "from tensorflow.keras.callbacks import ModelCheckpoint\n",
    "from tensorflow.keras.losses import MeanSquaredError\n",
    "from tensorflow.keras.metrics import RootMeanSquaredError\n",
    "from tensorflow.keras.optimizers import Adam\n",
    "from tensorflow.keras.models import load_model"
   ]
  },
  {
   "cell_type": "code",
   "execution_count": 12,
   "id": "67a29a84-3183-44e4-a06b-8d2f69d76624",
   "metadata": {
    "canvas": {
     "comments": [],
     "componentType": "CodeCell",
     "copiedOriginId": null,
     "diskcache": false,
     "headerColor": "transparent",
     "id": "0f31031c-e53f-4e70-ab12-22f45a709b1d",
     "isComponent": false,
     "name": "",
     "parents": []
    }
   },
   "outputs": [
    {
     "name": "stdout",
     "output_type": "stream",
     "text": [
      "Model: \"sequential\"\n",
      "_________________________________________________________________\n",
      " Layer (type)                Output Shape              Param #   \n",
      "=================================================================\n",
      " lstm (LSTM)                 (None, 64)                16896     \n",
      "                                                                 \n",
      " dense (Dense)               (None, 8)                 520       \n",
      "                                                                 \n",
      " dense_1 (Dense)             (None, 1)                 9         \n",
      "                                                                 \n",
      "=================================================================\n",
      "Total params: 17,425\n",
      "Trainable params: 17,425\n",
      "Non-trainable params: 0\n",
      "_________________________________________________________________\n"
     ]
    }
   ],
   "source": [
    "model = Sequential()\n",
    "model.add(InputLayer((5,1)))\n",
    "model.add(LSTM(64))\n",
    "model.add(Dense(8, 'relu'))\n",
    "model.add(Dense(1, 'linear'))\n",
    "\n",
    "model.summary()"
   ]
  },
  {
   "cell_type": "code",
   "execution_count": 13,
   "id": "9e3899df-9643-4d82-a537-d1a77604be8e",
   "metadata": {
    "canvas": {
     "comments": [],
     "componentType": "CodeCell",
     "copiedOriginId": null,
     "diskcache": false,
     "headerColor": "transparent",
     "id": "ac9ba2d7-29a5-4f2b-af49-e1a97ad5c6ef",
     "isComponent": false,
     "name": "",
     "parents": []
    }
   },
   "outputs": [],
   "source": [
    "cp = ModelCheckpoint('model/', save_best_only=True)\n",
    "model.compile(loss=MeanSquaredError(), optimizer = Adam(learning_rate=0.0001), metrics=[RootMeanSquaredError()])"
   ]
  },
  {
   "cell_type": "code",
   "execution_count": 15,
   "id": "82066053-b137-4f9a-bf8e-7234f7addaba",
   "metadata": {
    "canvas": {
     "comments": [],
     "componentType": "CodeCell",
     "copiedOriginId": null,
     "diskcache": false,
     "headerColor": "transparent",
     "id": "9e0de606-20dd-433e-a734-fa867371a063",
     "isComponent": false,
     "name": "",
     "parents": []
    }
   },
   "outputs": [
    {
     "name": "stdout",
     "output_type": "stream",
     "text": [
      "Epoch 1/25\n",
      "1868/1875 [============================>.] - ETA: 0s - loss: 0.0412 - root_mean_squared_error: 0.2030"
     ]
    },
    {
     "name": "stderr",
     "output_type": "stream",
     "text": [
      "WARNING:absl:Found untraced functions such as lstm_cell_1_layer_call_fn, lstm_cell_1_layer_call_and_return_conditional_losses while saving (showing 2 of 2). These functions will not be directly callable after loading.\n"
     ]
    },
    {
     "name": "stdout",
     "output_type": "stream",
     "text": [
      "INFO:tensorflow:Assets written to: model\\assets\n"
     ]
    },
    {
     "name": "stderr",
     "output_type": "stream",
     "text": [
      "INFO:tensorflow:Assets written to: model\\assets\n"
     ]
    },
    {
     "name": "stdout",
     "output_type": "stream",
     "text": [
      "1875/1875 [==============================] - 15s 5ms/step - loss: 0.0412 - root_mean_squared_error: 0.2030 - val_loss: 0.1189 - val_root_mean_squared_error: 0.3448\n",
      "Epoch 2/25\n",
      "1875/1875 [==============================] - 6s 3ms/step - loss: 0.0412 - root_mean_squared_error: 0.2030 - val_loss: 0.1197 - val_root_mean_squared_error: 0.3460\n",
      "Epoch 3/25\n",
      "1867/1875 [============================>.] - ETA: 0s - loss: 0.0412 - root_mean_squared_error: 0.2030"
     ]
    },
    {
     "name": "stderr",
     "output_type": "stream",
     "text": [
      "WARNING:absl:Found untraced functions such as lstm_cell_1_layer_call_fn, lstm_cell_1_layer_call_and_return_conditional_losses while saving (showing 2 of 2). These functions will not be directly callable after loading.\n"
     ]
    },
    {
     "name": "stdout",
     "output_type": "stream",
     "text": [
      "INFO:tensorflow:Assets written to: model\\assets\n"
     ]
    },
    {
     "name": "stderr",
     "output_type": "stream",
     "text": [
      "INFO:tensorflow:Assets written to: model\\assets\n"
     ]
    },
    {
     "name": "stdout",
     "output_type": "stream",
     "text": [
      "1875/1875 [==============================] - 8s 4ms/step - loss: 0.0412 - root_mean_squared_error: 0.2030 - val_loss: 0.1184 - val_root_mean_squared_error: 0.3441\n",
      "Epoch 4/25\n",
      "1875/1875 [==============================] - ETA: 0s - loss: 0.0412 - root_mean_squared_error: 0.2029"
     ]
    },
    {
     "name": "stderr",
     "output_type": "stream",
     "text": [
      "WARNING:absl:Found untraced functions such as lstm_cell_1_layer_call_fn, lstm_cell_1_layer_call_and_return_conditional_losses while saving (showing 2 of 2). These functions will not be directly callable after loading.\n"
     ]
    },
    {
     "name": "stdout",
     "output_type": "stream",
     "text": [
      "INFO:tensorflow:Assets written to: model\\assets\n"
     ]
    },
    {
     "name": "stderr",
     "output_type": "stream",
     "text": [
      "INFO:tensorflow:Assets written to: model\\assets\n"
     ]
    },
    {
     "name": "stdout",
     "output_type": "stream",
     "text": [
      "1875/1875 [==============================] - 8s 4ms/step - loss: 0.0412 - root_mean_squared_error: 0.2029 - val_loss: 0.1159 - val_root_mean_squared_error: 0.3405\n",
      "Epoch 5/25\n",
      "1875/1875 [==============================] - 6s 3ms/step - loss: 0.0411 - root_mean_squared_error: 0.2029 - val_loss: 0.1228 - val_root_mean_squared_error: 0.3504\n",
      "Epoch 6/25\n",
      "1862/1875 [============================>.] - ETA: 0s - loss: 0.0412 - root_mean_squared_error: 0.2029"
     ]
    },
    {
     "name": "stderr",
     "output_type": "stream",
     "text": [
      "WARNING:absl:Found untraced functions such as lstm_cell_1_layer_call_fn, lstm_cell_1_layer_call_and_return_conditional_losses while saving (showing 2 of 2). These functions will not be directly callable after loading.\n"
     ]
    },
    {
     "name": "stdout",
     "output_type": "stream",
     "text": [
      "INFO:tensorflow:Assets written to: model\\assets\n"
     ]
    },
    {
     "name": "stderr",
     "output_type": "stream",
     "text": [
      "INFO:tensorflow:Assets written to: model\\assets\n"
     ]
    },
    {
     "name": "stdout",
     "output_type": "stream",
     "text": [
      "1875/1875 [==============================] - 8s 4ms/step - loss: 0.0412 - root_mean_squared_error: 0.2029 - val_loss: 0.1157 - val_root_mean_squared_error: 0.3401\n",
      "Epoch 7/25\n",
      "1875/1875 [==============================] - 6s 3ms/step - loss: 0.0411 - root_mean_squared_error: 0.2028 - val_loss: 0.1177 - val_root_mean_squared_error: 0.3431\n",
      "Epoch 8/25\n",
      "1875/1875 [==============================] - 5s 3ms/step - loss: 0.0411 - root_mean_squared_error: 0.2028 - val_loss: 0.1177 - val_root_mean_squared_error: 0.3431\n",
      "Epoch 9/25\n",
      "1875/1875 [==============================] - 5s 3ms/step - loss: 0.0412 - root_mean_squared_error: 0.2029 - val_loss: 0.1233 - val_root_mean_squared_error: 0.3512\n",
      "Epoch 10/25\n",
      "1875/1875 [==============================] - 5s 3ms/step - loss: 0.0411 - root_mean_squared_error: 0.2028 - val_loss: 0.1164 - val_root_mean_squared_error: 0.3412\n",
      "Epoch 11/25\n",
      "1875/1875 [==============================] - 5s 3ms/step - loss: 0.0411 - root_mean_squared_error: 0.2028 - val_loss: 0.1164 - val_root_mean_squared_error: 0.3412\n",
      "Epoch 12/25\n",
      "1875/1875 [==============================] - 6s 3ms/step - loss: 0.0411 - root_mean_squared_error: 0.2027 - val_loss: 0.1169 - val_root_mean_squared_error: 0.3420\n",
      "Epoch 13/25\n",
      "1875/1875 [==============================] - 5s 3ms/step - loss: 0.0411 - root_mean_squared_error: 0.2027 - val_loss: 0.1158 - val_root_mean_squared_error: 0.3403\n",
      "Epoch 14/25\n",
      "1867/1875 [============================>.] - ETA: 0s - loss: 0.0411 - root_mean_squared_error: 0.2027"
     ]
    },
    {
     "name": "stderr",
     "output_type": "stream",
     "text": [
      "WARNING:absl:Found untraced functions such as lstm_cell_1_layer_call_fn, lstm_cell_1_layer_call_and_return_conditional_losses while saving (showing 2 of 2). These functions will not be directly callable after loading.\n"
     ]
    },
    {
     "name": "stdout",
     "output_type": "stream",
     "text": [
      "INFO:tensorflow:Assets written to: model\\assets\n"
     ]
    },
    {
     "name": "stderr",
     "output_type": "stream",
     "text": [
      "INFO:tensorflow:Assets written to: model\\assets\n"
     ]
    },
    {
     "name": "stdout",
     "output_type": "stream",
     "text": [
      "1875/1875 [==============================] - 8s 4ms/step - loss: 0.0411 - root_mean_squared_error: 0.2027 - val_loss: 0.1145 - val_root_mean_squared_error: 0.3384\n",
      "Epoch 15/25\n",
      "1875/1875 [==============================] - 6s 3ms/step - loss: 0.0411 - root_mean_squared_error: 0.2028 - val_loss: 0.1176 - val_root_mean_squared_error: 0.3429\n",
      "Epoch 16/25\n",
      "1875/1875 [==============================] - 5s 3ms/step - loss: 0.0411 - root_mean_squared_error: 0.2027 - val_loss: 0.1193 - val_root_mean_squared_error: 0.3454\n",
      "Epoch 17/25\n",
      "1875/1875 [==============================] - 5s 3ms/step - loss: 0.0411 - root_mean_squared_error: 0.2026 - val_loss: 0.1160 - val_root_mean_squared_error: 0.3406\n",
      "Epoch 18/25\n",
      "1875/1875 [==============================] - 6s 3ms/step - loss: 0.0411 - root_mean_squared_error: 0.2027 - val_loss: 0.1169 - val_root_mean_squared_error: 0.3419\n",
      "Epoch 19/25\n",
      "1875/1875 [==============================] - 6s 3ms/step - loss: 0.0411 - root_mean_squared_error: 0.2026 - val_loss: 0.1171 - val_root_mean_squared_error: 0.3422\n",
      "Epoch 20/25\n",
      "1875/1875 [==============================] - 6s 3ms/step - loss: 0.0411 - root_mean_squared_error: 0.2026 - val_loss: 0.1162 - val_root_mean_squared_error: 0.3409\n",
      "Epoch 21/25\n",
      "1875/1875 [==============================] - 6s 3ms/step - loss: 0.0410 - root_mean_squared_error: 0.2026 - val_loss: 0.1172 - val_root_mean_squared_error: 0.3423\n",
      "Epoch 22/25\n",
      "1875/1875 [==============================] - 5s 3ms/step - loss: 0.0411 - root_mean_squared_error: 0.2027 - val_loss: 0.1162 - val_root_mean_squared_error: 0.3409\n",
      "Epoch 23/25\n",
      "1875/1875 [==============================] - 6s 3ms/step - loss: 0.0411 - root_mean_squared_error: 0.2026 - val_loss: 0.1150 - val_root_mean_squared_error: 0.3391\n",
      "Epoch 24/25\n",
      "1875/1875 [==============================] - 6s 3ms/step - loss: 0.0410 - root_mean_squared_error: 0.2026 - val_loss: 0.1178 - val_root_mean_squared_error: 0.3433\n",
      "Epoch 25/25\n",
      "1875/1875 [==============================] - 5s 3ms/step - loss: 0.0410 - root_mean_squared_error: 0.2025 - val_loss: 0.1165 - val_root_mean_squared_error: 0.3414\n"
     ]
    },
    {
     "data": {
      "text/plain": [
       "<keras.callbacks.History at 0x1156d0eb940>"
      ]
     },
     "execution_count": 15,
     "metadata": {},
     "output_type": "execute_result"
    }
   ],
   "source": [
    "model.fit(X_train, y_train, validation_data=(X_val, y_val), epochs=25, callbacks=[cp])"
   ]
  },
  {
   "cell_type": "code",
   "execution_count": 16,
   "id": "4b3d8a13-2502-4fb5-9508-8ecb25bca081",
   "metadata": {
    "canvas": {
     "comments": [],
     "componentType": "CodeCell",
     "copiedOriginId": null,
     "diskcache": false,
     "headerColor": "transparent",
     "id": "b14eeb24-2e5a-4289-8996-958e60d17bc8",
     "isComponent": false,
     "name": "",
     "parents": []
    }
   },
   "outputs": [],
   "source": [
    "model = load_model('model/')"
   ]
  },
  {
   "cell_type": "code",
   "execution_count": 19,
   "id": "e30be768-bd08-4818-9577-90f2f72ba3d0",
   "metadata": {
    "canvas": {
     "comments": [],
     "componentType": "CodeCell",
     "copiedOriginId": null,
     "diskcache": false,
     "headerColor": "transparent",
     "id": "0e610920-4944-4b4e-aaac-81f63a6317dd",
     "isComponent": false,
     "name": "",
     "parents": []
    },
    "tags": []
   },
   "outputs": [
    {
     "name": "stdout",
     "output_type": "stream",
     "text": [
      "1875/1875 [==============================] - 3s 1ms/step\n"
     ]
    },
    {
     "data": {
      "text/html": [
       "<div>\n",
       "<style scoped>\n",
       "    .dataframe tbody tr th:only-of-type {\n",
       "        vertical-align: middle;\n",
       "    }\n",
       "\n",
       "    .dataframe tbody tr th {\n",
       "        vertical-align: top;\n",
       "    }\n",
       "\n",
       "    .dataframe thead th {\n",
       "        text-align: right;\n",
       "    }\n",
       "</style>\n",
       "<table border=\"1\" class=\"dataframe\">\n",
       "  <thead>\n",
       "    <tr style=\"text-align: right;\">\n",
       "      <th></th>\n",
       "      <th>Train Predictions</th>\n",
       "      <th>Actuals</th>\n",
       "    </tr>\n",
       "  </thead>\n",
       "  <tbody>\n",
       "    <tr>\n",
       "      <th>0</th>\n",
       "      <td>0.076366</td>\n",
       "      <td>0.04</td>\n",
       "    </tr>\n",
       "    <tr>\n",
       "      <th>1</th>\n",
       "      <td>0.076629</td>\n",
       "      <td>0.09</td>\n",
       "    </tr>\n",
       "    <tr>\n",
       "      <th>2</th>\n",
       "      <td>0.086268</td>\n",
       "      <td>0.09</td>\n",
       "    </tr>\n",
       "    <tr>\n",
       "      <th>3</th>\n",
       "      <td>0.097209</td>\n",
       "      <td>0.09</td>\n",
       "    </tr>\n",
       "    <tr>\n",
       "      <th>4</th>\n",
       "      <td>0.102894</td>\n",
       "      <td>0.08</td>\n",
       "    </tr>\n",
       "    <tr>\n",
       "      <th>...</th>\n",
       "      <td>...</td>\n",
       "      <td>...</td>\n",
       "    </tr>\n",
       "    <tr>\n",
       "      <th>59995</th>\n",
       "      <td>1.040100</td>\n",
       "      <td>0.94</td>\n",
       "    </tr>\n",
       "    <tr>\n",
       "      <th>59996</th>\n",
       "      <td>1.075891</td>\n",
       "      <td>0.94</td>\n",
       "    </tr>\n",
       "    <tr>\n",
       "      <th>59997</th>\n",
       "      <td>1.010947</td>\n",
       "      <td>1.18</td>\n",
       "    </tr>\n",
       "    <tr>\n",
       "      <th>59998</th>\n",
       "      <td>0.976748</td>\n",
       "      <td>1.59</td>\n",
       "    </tr>\n",
       "    <tr>\n",
       "      <th>59999</th>\n",
       "      <td>1.120679</td>\n",
       "      <td>1.19</td>\n",
       "    </tr>\n",
       "  </tbody>\n",
       "</table>\n",
       "<p>60000 rows × 2 columns</p>\n",
       "</div>"
      ],
      "text/plain": [
       "       Train Predictions  Actuals\n",
       "0               0.076366     0.04\n",
       "1               0.076629     0.09\n",
       "2               0.086268     0.09\n",
       "3               0.097209     0.09\n",
       "4               0.102894     0.08\n",
       "...                  ...      ...\n",
       "59995           1.040100     0.94\n",
       "59996           1.075891     0.94\n",
       "59997           1.010947     1.18\n",
       "59998           0.976748     1.59\n",
       "59999           1.120679     1.19\n",
       "\n",
       "[60000 rows x 2 columns]"
      ]
     },
     "execution_count": 19,
     "metadata": {},
     "output_type": "execute_result"
    }
   ],
   "source": [
    "train_predictions = model.predict(X_train).flatten()\n",
    "train_results = pd.DataFrame(data = {\"Train Predictions\":train_predictions, \"Actuals\":y_train})\n",
    "train_results"
   ]
  },
  {
   "cell_type": "code",
   "execution_count": 18,
   "id": "68a895e9-c1c6-4f08-96ad-e2e1af5a7394",
   "metadata": {
    "canvas": {
     "comments": [],
     "componentType": "CodeCell",
     "copiedOriginId": null,
     "diskcache": false,
     "headerColor": "transparent",
     "id": "1ed3e5d0-2a9a-420d-87ab-0924b3858996",
     "isComponent": false,
     "name": "",
     "parents": []
    }
   },
   "outputs": [
    {
     "data": {
      "text/plain": [
       "array([0.07636607, 0.07662936, 0.08626812, ..., 1.0109465 , 0.9767479 ,\n",
       "       1.1206794 ], dtype=float32)"
      ]
     },
     "execution_count": 18,
     "metadata": {},
     "output_type": "execute_result"
    }
   ],
   "source": [
    "train_predictions.flatten()"
   ]
  },
  {
   "cell_type": "code",
   "execution_count": null,
   "id": "c626707a-1104-41b4-b59f-3d04525edae7",
   "metadata": {
    "canvas": {
     "comments": [],
     "componentType": "CodeCell",
     "copiedOriginId": null,
     "diskcache": false,
     "headerColor": "transparent",
     "id": "161e959d-f761-44d2-bc70-d99eca27f396",
     "isComponent": false,
     "name": "",
     "parents": []
    }
   },
   "outputs": [],
   "source": []
  }
 ],
 "metadata": {
  "canvas": {
   "colorPalette": [
    "inherit",
    "inherit",
    "inherit",
    "inherit",
    "inherit",
    "inherit",
    "inherit",
    "inherit",
    "inherit",
    "inherit"
   ],
   "parameters": [],
   "version": "1.0"
  },
  "kernelspec": {
   "display_name": "Python 3 (ipykernel)",
   "language": "python",
   "name": "python3"
  },
  "language_info": {
   "codemirror_mode": {
    "name": "ipython",
    "version": 3
   },
   "file_extension": ".py",
   "mimetype": "text/x-python",
   "name": "python",
   "nbconvert_exporter": "python",
   "pygments_lexer": "ipython3",
   "version": "3.10.13"
  }
 },
 "nbformat": 4,
 "nbformat_minor": 5
}
