{
  "nbformat": 4,
  "nbformat_minor": 0,
  "metadata": {
    "colab": {
      "provenance": [],
      "authorship_tag": "ABX9TyOyg3zGVYiI/eqkRscfjfPl",
      "include_colab_link": true
    },
    "kernelspec": {
      "name": "python3",
      "display_name": "Python 3"
    },
    "language_info": {
      "name": "python"
    }
  },
  "cells": [
    {
      "cell_type": "markdown",
      "metadata": {
        "id": "view-in-github",
        "colab_type": "text"
      },
      "source": [
        "<a href=\"https://colab.research.google.com/github/Benvi0h/Machine_Learning_projects_Vikas/blob/main/Brain_Weight.ipynb\" target=\"_parent\"><img src=\"https://colab.research.google.com/assets/colab-badge.svg\" alt=\"Open In Colab\"/></a>"
      ]
    },
    {
      "cell_type": "markdown",
      "source": [
        "# Finding the weight of the brain depending on the size of the head using linear Regression"
      ],
      "metadata": {
        "id": "tyqcGKTzypBN"
      }
    },
    {
      "cell_type": "code",
      "execution_count": null,
      "metadata": {
        "id": "02a18_OqyGV_"
      },
      "outputs": [],
      "source": [
        "import pandas as pd\n",
        "import numpy as np \n",
        "import matplotlib as plt\n",
        "\n",
        "dataset = pd.read_csv('headbrain.csv')\n",
        "print(dataset.head())"
      ]
    },
    {
      "cell_type": "code",
      "source": [
        "df = pd.DataFrame(dataset)\n",
        "print(df.head())"
      ],
      "metadata": {
        "id": "PjvK2pmSyJVr"
      },
      "execution_count": null,
      "outputs": []
    },
    {
      "cell_type": "code",
      "source": [
        "X = df['Head Size(cm^3)'].values\n",
        "Y = df['Brain Weight(grams)'].values\n",
        "print(X)"
      ],
      "metadata": {
        "id": "a6NBBveHyKwa"
      },
      "execution_count": null,
      "outputs": []
    },
    {
      "cell_type": "code",
      "source": [
        "import numpy as np \n",
        "\n",
        "Mean_X = np.mean(X)\n",
        "Mean_Y = np.mean(Y)\n",
        "# print (Mean_X,Mean_Y)\n",
        "\n",
        "\n",
        "\n",
        "X_array = np.array([])\n",
        "Rows = len(X)\n",
        "# formula to calculate M\n",
        "\n",
        "numerator = 0\n",
        "denominator  = 0\n",
        "for i in range(Rows) :\n",
        "    numerator+= (X[i] - Mean_X) * (Y[i] - Mean_Y)\n",
        "    denominator+= (X[i] - Mean_X)**2\n",
        "\n",
        "m = float(numerator/denominator)\n",
        "c = Mean_Y - (m*Mean_X)  #y = mx+c where, y = mean_y,x = mean_x,m = above_formula\n",
        "\n",
        "print(m,c)"
      ],
      "metadata": {
        "id": "pEp7PyA1yMSa"
      },
      "execution_count": null,
      "outputs": []
    },
    {
      "cell_type": "code",
      "source": [
        "import numpy as np\n",
        "import matplotlib.pyplot as plt\n",
        "\n",
        "# Plotting regression\n",
        "\n",
        "max_x = np.max(X) + 100\n",
        "min_x = np.min(X) - 100\n",
        "\n",
        "x = np.linspace(min_x , max_x , 1000)\n",
        "y = c + (m * x)\n",
        "\n",
        "#Ploting Line\n",
        "plt.plot(x,y,color='#58b970' , label='Regression Line')\n",
        "# Placing Scatter Points\n",
        "plt.scatter(X,Y,c='#ef5423', label='Scatter Plot')\n",
        "\n",
        "plt.xlabel('Head Size in cm3')\n",
        "plt.ylabel('Brain Weight in grams')\n",
        "plt.legend()\n",
        "plt.show()"
      ],
      "metadata": {
        "id": "PJkbzVc8yOqG"
      },
      "execution_count": null,
      "outputs": []
    },
    {
      "cell_type": "code",
      "source": [
        "#Predicting the R_squared_method\n",
        "\n",
        "ss_t = 0\n",
        "ss_r = 0\n",
        "for i in range(Rows):\n",
        "    y_pred = c + (m * X[i])\n",
        "    ss_t += (Y[i] - Mean_Y)**2\n",
        "    ss_r += (Y[i] - y_pred)**2\n",
        "\n",
        "r2 = 1 - (ss_r/ss_t)\n",
        "r3 =  ((ss_r)/Rows)/100\n",
        "print(r2,r3)"
      ],
      "metadata": {
        "id": "gHt4GoanyQaM"
      },
      "execution_count": null,
      "outputs": []
    },
    {
      "cell_type": "code",
      "source": [
        "import sklearn as sk\n",
        "from sklearn.linear_model import LinearRegression\n",
        "from sklearn.metrics import mean_squared_error\n",
        "\n",
        "# cannot use rank 1 matrix in sckit learn\n",
        "X = X.reshape((Rows,1))\n",
        "#creating model\n",
        "reg = LinearRegression()\n",
        "# Fitting traiting data\n",
        "reg = reg.fit(X,Y)\n",
        "Y_pred = reg.predict(X)\n",
        "\n",
        "r2_score = reg.score(X,Y)\n",
        "print(r2_score)"
      ],
      "metadata": {
        "id": "q-rLmxtKySVq"
      },
      "execution_count": null,
      "outputs": []
    }
  ]
}