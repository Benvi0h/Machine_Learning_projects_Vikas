{
 "cells": [
  {
   "cell_type": "code",
   "execution_count": 257,
   "id": "1c2d319d-cf29-4cf4-84a7-250ecf82e630",
   "metadata": {},
   "outputs": [
    {
     "name": "stdout",
     "output_type": "stream",
     "text": [
      "The tensorboard extension is already loaded. To reload it, use:\n",
      "  %reload_ext tensorboard\n"
     ]
    }
   ],
   "source": [
    "import tensorflow as tf\n",
    "from tensorflow.keras.layers import Input, Dense\n",
    "from tensorflow.keras.optimizers import Adam\n",
    "from tensorflow.keras.losses import BinaryCrossentropy\n",
    "\n",
    "import pandas as pd\n",
    "pd.set_option(\"display.max_columns\", None)\n",
    "pd.set_option('display.max_rows',None)\n",
    "\n",
    "import numpy as np\n",
    "import matplotlib.pyplot as plt\n",
    "import sklearn\n",
    "from sklearn.model_selection import train_test_split\n",
    "import scipy\n",
    "from skmultiflow.drift_detection import DDM, EDDM\n",
    "from datetime import datetime\n",
    "\n",
    "%load_ext tensorboard"
   ]
  },
  {
   "cell_type": "code",
   "execution_count": 258,
   "id": "027cf035-0e6f-4fd8-bc36-4b72a1bc5de2",
   "metadata": {},
   "outputs": [
    {
     "data": {
      "text/html": [
       "<div>\n",
       "<style scoped>\n",
       "    .dataframe tbody tr th:only-of-type {\n",
       "        vertical-align: middle;\n",
       "    }\n",
       "\n",
       "    .dataframe tbody tr th {\n",
       "        vertical-align: top;\n",
       "    }\n",
       "\n",
       "    .dataframe thead th {\n",
       "        text-align: right;\n",
       "    }\n",
       "</style>\n",
       "<table border=\"1\" class=\"dataframe\">\n",
       "  <thead>\n",
       "    <tr style=\"text-align: right;\">\n",
       "      <th></th>\n",
       "      <th>Air temperature [K]</th>\n",
       "      <th>Process temperature [K]</th>\n",
       "      <th>Rotational speed [rpm]</th>\n",
       "      <th>Torque [Nm]</th>\n",
       "      <th>Tool wear [min]</th>\n",
       "      <th>TWF</th>\n",
       "      <th>HDF</th>\n",
       "      <th>PWF</th>\n",
       "      <th>OSF</th>\n",
       "      <th>RNF</th>\n",
       "      <th>Type_L</th>\n",
       "      <th>Type_M</th>\n",
       "      <th>Machine failure</th>\n",
       "    </tr>\n",
       "  </thead>\n",
       "  <tbody>\n",
       "    <tr>\n",
       "      <th>0</th>\n",
       "      <td>298.1</td>\n",
       "      <td>308.6</td>\n",
       "      <td>1551</td>\n",
       "      <td>42.8</td>\n",
       "      <td>0</td>\n",
       "      <td>0</td>\n",
       "      <td>0</td>\n",
       "      <td>0</td>\n",
       "      <td>0</td>\n",
       "      <td>0</td>\n",
       "      <td>0</td>\n",
       "      <td>1</td>\n",
       "      <td>0</td>\n",
       "    </tr>\n",
       "    <tr>\n",
       "      <th>1</th>\n",
       "      <td>298.2</td>\n",
       "      <td>308.7</td>\n",
       "      <td>1408</td>\n",
       "      <td>46.3</td>\n",
       "      <td>3</td>\n",
       "      <td>0</td>\n",
       "      <td>0</td>\n",
       "      <td>0</td>\n",
       "      <td>0</td>\n",
       "      <td>0</td>\n",
       "      <td>1</td>\n",
       "      <td>0</td>\n",
       "      <td>0</td>\n",
       "    </tr>\n",
       "    <tr>\n",
       "      <th>2</th>\n",
       "      <td>298.1</td>\n",
       "      <td>308.5</td>\n",
       "      <td>1498</td>\n",
       "      <td>49.4</td>\n",
       "      <td>5</td>\n",
       "      <td>0</td>\n",
       "      <td>0</td>\n",
       "      <td>0</td>\n",
       "      <td>0</td>\n",
       "      <td>0</td>\n",
       "      <td>1</td>\n",
       "      <td>0</td>\n",
       "      <td>0</td>\n",
       "    </tr>\n",
       "    <tr>\n",
       "      <th>3</th>\n",
       "      <td>298.2</td>\n",
       "      <td>308.6</td>\n",
       "      <td>1433</td>\n",
       "      <td>39.5</td>\n",
       "      <td>7</td>\n",
       "      <td>0</td>\n",
       "      <td>0</td>\n",
       "      <td>0</td>\n",
       "      <td>0</td>\n",
       "      <td>0</td>\n",
       "      <td>1</td>\n",
       "      <td>0</td>\n",
       "      <td>0</td>\n",
       "    </tr>\n",
       "    <tr>\n",
       "      <th>4</th>\n",
       "      <td>298.2</td>\n",
       "      <td>308.7</td>\n",
       "      <td>1408</td>\n",
       "      <td>40.0</td>\n",
       "      <td>9</td>\n",
       "      <td>0</td>\n",
       "      <td>0</td>\n",
       "      <td>0</td>\n",
       "      <td>0</td>\n",
       "      <td>0</td>\n",
       "      <td>1</td>\n",
       "      <td>0</td>\n",
       "      <td>0</td>\n",
       "    </tr>\n",
       "    <tr>\n",
       "      <th>5</th>\n",
       "      <td>298.1</td>\n",
       "      <td>308.6</td>\n",
       "      <td>1425</td>\n",
       "      <td>41.9</td>\n",
       "      <td>11</td>\n",
       "      <td>0</td>\n",
       "      <td>0</td>\n",
       "      <td>0</td>\n",
       "      <td>0</td>\n",
       "      <td>0</td>\n",
       "      <td>0</td>\n",
       "      <td>1</td>\n",
       "      <td>0</td>\n",
       "    </tr>\n",
       "    <tr>\n",
       "      <th>6</th>\n",
       "      <td>298.1</td>\n",
       "      <td>308.6</td>\n",
       "      <td>1558</td>\n",
       "      <td>42.4</td>\n",
       "      <td>14</td>\n",
       "      <td>0</td>\n",
       "      <td>0</td>\n",
       "      <td>0</td>\n",
       "      <td>0</td>\n",
       "      <td>0</td>\n",
       "      <td>1</td>\n",
       "      <td>0</td>\n",
       "      <td>0</td>\n",
       "    </tr>\n",
       "    <tr>\n",
       "      <th>7</th>\n",
       "      <td>298.1</td>\n",
       "      <td>308.6</td>\n",
       "      <td>1527</td>\n",
       "      <td>40.2</td>\n",
       "      <td>16</td>\n",
       "      <td>0</td>\n",
       "      <td>0</td>\n",
       "      <td>0</td>\n",
       "      <td>0</td>\n",
       "      <td>0</td>\n",
       "      <td>1</td>\n",
       "      <td>0</td>\n",
       "      <td>0</td>\n",
       "    </tr>\n",
       "    <tr>\n",
       "      <th>8</th>\n",
       "      <td>298.3</td>\n",
       "      <td>308.7</td>\n",
       "      <td>1667</td>\n",
       "      <td>28.6</td>\n",
       "      <td>18</td>\n",
       "      <td>0</td>\n",
       "      <td>0</td>\n",
       "      <td>0</td>\n",
       "      <td>0</td>\n",
       "      <td>0</td>\n",
       "      <td>0</td>\n",
       "      <td>1</td>\n",
       "      <td>0</td>\n",
       "    </tr>\n",
       "    <tr>\n",
       "      <th>9</th>\n",
       "      <td>298.5</td>\n",
       "      <td>309.0</td>\n",
       "      <td>1741</td>\n",
       "      <td>28.0</td>\n",
       "      <td>21</td>\n",
       "      <td>0</td>\n",
       "      <td>0</td>\n",
       "      <td>0</td>\n",
       "      <td>0</td>\n",
       "      <td>0</td>\n",
       "      <td>0</td>\n",
       "      <td>1</td>\n",
       "      <td>0</td>\n",
       "    </tr>\n",
       "  </tbody>\n",
       "</table>\n",
       "</div>"
      ],
      "text/plain": [
       "   Air temperature [K]  Process temperature [K]  Rotational speed [rpm]  \\\n",
       "0                298.1                    308.6                    1551   \n",
       "1                298.2                    308.7                    1408   \n",
       "2                298.1                    308.5                    1498   \n",
       "3                298.2                    308.6                    1433   \n",
       "4                298.2                    308.7                    1408   \n",
       "5                298.1                    308.6                    1425   \n",
       "6                298.1                    308.6                    1558   \n",
       "7                298.1                    308.6                    1527   \n",
       "8                298.3                    308.7                    1667   \n",
       "9                298.5                    309.0                    1741   \n",
       "\n",
       "   Torque [Nm]  Tool wear [min]  TWF  HDF  PWF  OSF  RNF  Type_L  Type_M  \\\n",
       "0         42.8                0    0    0    0    0    0       0       1   \n",
       "1         46.3                3    0    0    0    0    0       1       0   \n",
       "2         49.4                5    0    0    0    0    0       1       0   \n",
       "3         39.5                7    0    0    0    0    0       1       0   \n",
       "4         40.0                9    0    0    0    0    0       1       0   \n",
       "5         41.9               11    0    0    0    0    0       0       1   \n",
       "6         42.4               14    0    0    0    0    0       1       0   \n",
       "7         40.2               16    0    0    0    0    0       1       0   \n",
       "8         28.6               18    0    0    0    0    0       0       1   \n",
       "9         28.0               21    0    0    0    0    0       0       1   \n",
       "\n",
       "   Machine failure  \n",
       "0                0  \n",
       "1                0  \n",
       "2                0  \n",
       "3                0  \n",
       "4                0  \n",
       "5                0  \n",
       "6                0  \n",
       "7                0  \n",
       "8                0  \n",
       "9                0  "
      ]
     },
     "execution_count": 258,
     "metadata": {},
     "output_type": "execute_result"
    }
   ],
   "source": [
    "df_main = pd.read_csv(\"/mnt/c/Users/Asus1/jupyter-lab/New_research_prashanth_sir_code_files/resampled_dataset.csv\")\n",
    "df_main.head(10)"
   ]
  },
  {
   "cell_type": "code",
   "execution_count": 259,
   "id": "bc0cfda2-0ec3-4bff-8cd2-5ae044bd7cd0",
   "metadata": {
    "scrolled": true
   },
   "outputs": [
    {
     "name": "stdout",
     "output_type": "stream",
     "text": [
      "Total dataset size :  19322\n",
      "Number of machine failures (1) :  9661\n",
      "Number of machine sucesses (0) :  9661\n"
     ]
    },
    {
     "data": {
      "image/png": "[encoded data removed]",
      "text/plain": [
       "<Figure size 640x480 with 1 Axes>"
      ]
     },
     "metadata": {},
     "output_type": "display_data"
    }
   ],
   "source": [
    "plt.bar([\"0\",\"1\"], [len(df_main[df_main[\"Machine failure\"] == 1]), len(df_main[df_main[\"Machine failure\"] == 0])])\n",
    "print(\"Total dataset size : \", len(df_main))\n",
    "print(\"Number of machine failures (1) : \", len(df_main[df_main[\"Machine failure\"] == 1]))\n",
    "print(\"Number of machine sucesses (0) : \", len(df_main[df_main[\"Machine failure\"] == 0]))"
   ]
  },
  {
   "cell_type": "code",
   "execution_count": 260,
   "id": "33b444bd-9bf0-48bc-af8c-4b33f72982d7",
   "metadata": {},
   "outputs": [],
   "source": [
    "def dependent_independent_split(dataset):\n",
    "    y = dataset[\"Machine failure\"].to_numpy()\n",
    "    X = dataset.iloc[:,:12].to_numpy()\n",
    "    return X, y"
   ]
  },
  {
   "cell_type": "code",
   "execution_count": 261,
   "id": "743647b2-7190-4f93-b583-0ba82c9530bd",
   "metadata": {},
   "outputs": [],
   "source": [
    "X,y = dependent_independent_split(df_main)\n",
    "X_train, X_test, y_train, y_test = train_test_split(X, y, train_size = 0.7 , test_size = 0.3, )"
   ]
  },
  {
   "cell_type": "code",
   "execution_count": 285,
   "id": "069ee8e4-8dcb-458f-a81d-837df2bf6933",
   "metadata": {},
   "outputs": [
    {
     "data": {
      "text/plain": [
       "13525"
      ]
     },
     "execution_count": 285,
     "metadata": {},
     "output_type": "execute_result"
    }
   ],
   "source": [
    "len(X_train)"
   ]
  },
  {
   "cell_type": "code",
   "execution_count": 293,
   "id": "28d16201-35d6-4f34-a34a-b8e1b1c758b1",
   "metadata": {},
   "outputs": [
    {
     "data": {
      "text/html": [
       "<pre style=\"white-space:pre;overflow-x:auto;line-height:normal;font-family:Menlo,'DejaVu Sans Mono',consolas,'Courier New',monospace\"><span style=\"font-weight: bold\">Model: \"sequential_22\"</span>\n",
       "</pre>\n"
      ],
      "text/plain": [
       "\u001b[1mModel: \"sequential_22\"\u001b[0m\n"
      ]
     },
     "metadata": {},
     "output_type": "display_data"
    },
    {
     "data": {
      "text/html": [
       "<pre style=\"white-space:pre;overflow-x:auto;line-height:normal;font-family:Menlo,'DejaVu Sans Mono',consolas,'Courier New',monospace\">┏━━━━━━━━━━━━━━━━━━━━━━━━━━━━━━━━━┳━━━━━━━━━━━━━━━━━━━━━━━━┳━━━━━━━━━━━━━━━┓\n",
       "┃<span style=\"font-weight: bold\"> Layer (type)                    </span>┃<span style=\"font-weight: bold\"> Output Shape           </span>┃<span style=\"font-weight: bold\">       Param # </span>┃\n",
       "┡━━━━━━━━━━━━━━━━━━━━━━━━━━━━━━━━━╇━━━━━━━━━━━━━━━━━━━━━━━━╇━━━━━━━━━━━━━━━┩\n",
       "│ dense_132 (<span style=\"color: #0087ff; text-decoration-color: #0087ff\">Dense</span>)               │ (<span style=\"color: #00d7ff; text-decoration-color: #00d7ff\">None</span>, <span style=\"color: #00af00; text-decoration-color: #00af00\">12</span>)             │           <span style=\"color: #00af00; text-decoration-color: #00af00\">156</span> │\n",
       "├─────────────────────────────────┼────────────────────────┼───────────────┤\n",
       "│ dense_133 (<span style=\"color: #0087ff; text-decoration-color: #0087ff\">Dense</span>)               │ (<span style=\"color: #00d7ff; text-decoration-color: #00d7ff\">None</span>, <span style=\"color: #00af00; text-decoration-color: #00af00\">25</span>)             │           <span style=\"color: #00af00; text-decoration-color: #00af00\">325</span> │\n",
       "├─────────────────────────────────┼────────────────────────┼───────────────┤\n",
       "│ dense_134 (<span style=\"color: #0087ff; text-decoration-color: #0087ff\">Dense</span>)               │ (<span style=\"color: #00d7ff; text-decoration-color: #00d7ff\">None</span>, <span style=\"color: #00af00; text-decoration-color: #00af00\">50</span>)             │         <span style=\"color: #00af00; text-decoration-color: #00af00\">1,300</span> │\n",
       "├─────────────────────────────────┼────────────────────────┼───────────────┤\n",
       "│ dense_135 (<span style=\"color: #0087ff; text-decoration-color: #0087ff\">Dense</span>)               │ (<span style=\"color: #00d7ff; text-decoration-color: #00d7ff\">None</span>, <span style=\"color: #00af00; text-decoration-color: #00af00\">25</span>)             │         <span style=\"color: #00af00; text-decoration-color: #00af00\">1,275</span> │\n",
       "├─────────────────────────────────┼────────────────────────┼───────────────┤\n",
       "│ dense_136 (<span style=\"color: #0087ff; text-decoration-color: #0087ff\">Dense</span>)               │ (<span style=\"color: #00d7ff; text-decoration-color: #00d7ff\">None</span>, <span style=\"color: #00af00; text-decoration-color: #00af00\">12</span>)             │           <span style=\"color: #00af00; text-decoration-color: #00af00\">312</span> │\n",
       "├─────────────────────────────────┼────────────────────────┼───────────────┤\n",
       "│ dense_137 (<span style=\"color: #0087ff; text-decoration-color: #0087ff\">Dense</span>)               │ (<span style=\"color: #00d7ff; text-decoration-color: #00d7ff\">None</span>, <span style=\"color: #00af00; text-decoration-color: #00af00\">1</span>)              │            <span style=\"color: #00af00; text-decoration-color: #00af00\">13</span> │\n",
       "└─────────────────────────────────┴────────────────────────┴───────────────┘\n",
       "</pre>\n"
      ],
      "text/plain": [
       "┏━━━━━━━━━━━━━━━━━━━━━━━━━━━━━━━━━┳━━━━━━━━━━━━━━━━━━━━━━━━┳━━━━━━━━━━━━━━━┓\n",
       "┃\u001b[1m \u001b[0m\u001b[1mLayer (type)                   \u001b[0m\u001b[1m \u001b[0m┃\u001b[1m \u001b[0m\u001b[1mOutput Shape          \u001b[0m\u001b[1m \u001b[0m┃\u001b[1m \u001b[0m\u001b[1m      Param #\u001b[0m\u001b[1m \u001b[0m┃\n",
       "┡━━━━━━━━━━━━━━━━━━━━━━━━━━━━━━━━━╇━━━━━━━━━━━━━━━━━━━━━━━━╇━━━━━━━━━━━━━━━┩\n",
       "│ dense_132 (\u001b[38;5;33mDense\u001b[0m)               │ (\u001b[38;5;45mNone\u001b[0m, \u001b[38;5;34m12\u001b[0m)             │           \u001b[38;5;34m156\u001b[0m │\n",
       "├─────────────────────────────────┼────────────────────────┼───────────────┤\n",
       "│ dense_133 (\u001b[38;5;33mDense\u001b[0m)               │ (\u001b[38;5;45mNone\u001b[0m, \u001b[38;5;34m25\u001b[0m)             │           \u001b[38;5;34m325\u001b[0m │\n",
       "├─────────────────────────────────┼────────────────────────┼───────────────┤\n",
       "│ dense_134 (\u001b[38;5;33mDense\u001b[0m)               │ (\u001b[38;5;45mNone\u001b[0m, \u001b[38;5;34m50\u001b[0m)             │         \u001b[38;5;34m1,300\u001b[0m │\n",
       "├─────────────────────────────────┼────────────────────────┼───────────────┤\n",
       "│ dense_135 (\u001b[38;5;33mDense\u001b[0m)               │ (\u001b[38;5;45mNone\u001b[0m, \u001b[38;5;34m25\u001b[0m)             │         \u001b[38;5;34m1,275\u001b[0m │\n",
       "├─────────────────────────────────┼────────────────────────┼───────────────┤\n",
       "│ dense_136 (\u001b[38;5;33mDense\u001b[0m)               │ (\u001b[38;5;45mNone\u001b[0m, \u001b[38;5;34m12\u001b[0m)             │           \u001b[38;5;34m312\u001b[0m │\n",
       "├─────────────────────────────────┼────────────────────────┼───────────────┤\n",
       "│ dense_137 (\u001b[38;5;33mDense\u001b[0m)               │ (\u001b[38;5;45mNone\u001b[0m, \u001b[38;5;34m1\u001b[0m)              │            \u001b[38;5;34m13\u001b[0m │\n",
       "└─────────────────────────────────┴────────────────────────┴───────────────┘\n"
      ]
     },
     "metadata": {},
     "output_type": "display_data"
    },
    {
     "data": {
      "text/html": [
       "<pre style=\"white-space:pre;overflow-x:auto;line-height:normal;font-family:Menlo,'DejaVu Sans Mono',consolas,'Courier New',monospace\"><span style=\"font-weight: bold\"> Total params: </span><span style=\"color: #00af00; text-decoration-color: #00af00\">3,381</span> (13.21 KB)\n",
       "</pre>\n"
      ],
      "text/plain": [
       "\u001b[1m Total params: \u001b[0m\u001b[38;5;34m3,381\u001b[0m (13.21 KB)\n"
      ]
     },
     "metadata": {},
     "output_type": "display_data"
    },
    {
     "data": {
      "text/html": [
       "<pre style=\"white-space:pre;overflow-x:auto;line-height:normal;font-family:Menlo,'DejaVu Sans Mono',consolas,'Courier New',monospace\"><span style=\"font-weight: bold\"> Trainable params: </span><span style=\"color: #00af00; text-decoration-color: #00af00\">3,381</span> (13.21 KB)\n",
       "</pre>\n"
      ],
      "text/plain": [
       "\u001b[1m Trainable params: \u001b[0m\u001b[38;5;34m3,381\u001b[0m (13.21 KB)\n"
      ]
     },
     "metadata": {},
     "output_type": "display_data"
    },
    {
     "data": {
      "text/html": [
       "<pre style=\"white-space:pre;overflow-x:auto;line-height:normal;font-family:Menlo,'DejaVu Sans Mono',consolas,'Courier New',monospace\"><span style=\"font-weight: bold\"> Non-trainable params: </span><span style=\"color: #00af00; text-decoration-color: #00af00\">0</span> (0.00 B)\n",
       "</pre>\n"
      ],
      "text/plain": [
       "\u001b[1m Non-trainable params: \u001b[0m\u001b[38;5;34m0\u001b[0m (0.00 B)\n"
      ]
     },
     "metadata": {},
     "output_type": "display_data"
    }
   ],
   "source": [
    "model = tf.keras.Sequential([\n",
    "    \n",
    "    Dense(units = 12,activation = \"relu\",input_dim = len(df_main.columns.tolist()[:-1])),\n",
    "    Dense(units = 25,activation = \"relu\",),\n",
    "    Dense(units = 50,activation = \"relu\",),\n",
    "    Dense(units = 25,activation = \"relu\",),\n",
    "    Dense(units = 12,activation = \"relu\",),\n",
    "    \n",
    "    Dense(units = 1, activation = \"sigmoid\")\n",
    "])\n",
    "model.summary()"
   ]
  },
  {
   "cell_type": "code",
   "execution_count": 294,
   "id": "ebdc5fb1-2dd8-4bbd-b61b-53071e6d092f",
   "metadata": {},
   "outputs": [],
   "source": [
    "opt = Adam(\n",
    "            learning_rate=0.001,\n",
    "            beta_1=0.9,\n",
    "            beta_2=0.999,\n",
    "            epsilon=1e-07,\n",
    "            amsgrad=False,\n",
    "            weight_decay=None,\n",
    "            clipnorm=None,\n",
    "            clipvalue=None,\n",
    "            global_clipnorm=None,\n",
    "            use_ema=False,\n",
    "            ema_momentum=0.99,\n",
    "            ema_overwrite_frequency=None,\n",
    "            loss_scale_factor=None,\n",
    "            gradient_accumulation_steps=None,\n",
    "        )\n",
    "loss = tf.keras.losses.BinaryCrossentropy(\n",
    "            from_logits=False,\n",
    "            label_smoothing=0.0,\n",
    "            axis=-1,\n",
    "        )\n",
    "model.compile(optimizer = opt, loss = loss, metrics = [\"acc\"])"
   ]
  },
  {
   "cell_type": "code",
   "execution_count": 295,
   "id": "7f86aa46-74bc-4193-9183-052166766388",
   "metadata": {
    "scrolled": true
   },
   "outputs": [
    {
     "name": "stdout",
     "output_type": "stream",
     "text": [
      "Epoch 1/50\n",
      "\u001b[1m423/423\u001b[0m \u001b[32m━━━━━━━━━━━━━━━━━━━━\u001b[0m\u001b[37m\u001b[0m \u001b[1m3s\u001b[0m 3ms/step - acc: 0.6568 - loss: 2.5402\n",
      "Epoch 2/50\n",
      "\u001b[1m423/423\u001b[0m \u001b[32m━━━━━━━━━━━━━━━━━━━━\u001b[0m\u001b[37m\u001b[0m \u001b[1m1s\u001b[0m 2ms/step - acc: 0.7617 - loss: 0.5485\n",
      "Epoch 3/50\n",
      "\u001b[1m423/423\u001b[0m \u001b[32m━━━━━━━━━━━━━━━━━━━━\u001b[0m\u001b[37m\u001b[0m \u001b[1m1s\u001b[0m 2ms/step - acc: 0.7722 - loss: 0.5371\n",
      "Epoch 4/50\n",
      "\u001b[1m423/423\u001b[0m \u001b[32m━━━━━━━━━━━━━━━━━━━━\u001b[0m\u001b[37m\u001b[0m \u001b[1m1s\u001b[0m 2ms/step - acc: 0.8018 - loss: 0.4661\n",
      "Epoch 5/50\n",
      "\u001b[1m423/423\u001b[0m \u001b[32m━━━━━━━━━━━━━━━━━━━━\u001b[0m\u001b[37m\u001b[0m \u001b[1m1s\u001b[0m 2ms/step - acc: 0.8336 - loss: 0.3852\n",
      "Epoch 6/50\n",
      "\u001b[1m423/423\u001b[0m \u001b[32m━━━━━━━━━━━━━━━━━━━━\u001b[0m\u001b[37m\u001b[0m \u001b[1m1s\u001b[0m 2ms/step - acc: 0.8497 - loss: 0.3415\n",
      "Epoch 7/50\n",
      "\u001b[1m423/423\u001b[0m \u001b[32m━━━━━━━━━━━━━━━━━━━━\u001b[0m\u001b[37m\u001b[0m \u001b[1m1s\u001b[0m 2ms/step - acc: 0.8545 - loss: 0.3416\n",
      "Epoch 8/50\n",
      "\u001b[1m423/423\u001b[0m \u001b[32m━━━━━━━━━━━━━━━━━━━━\u001b[0m\u001b[37m\u001b[0m \u001b[1m1s\u001b[0m 2ms/step - acc: 0.8560 - loss: 0.3475\n",
      "Epoch 9/50\n",
      "\u001b[1m423/423\u001b[0m \u001b[32m━━━━━━━━━━━━━━━━━━━━\u001b[0m\u001b[37m\u001b[0m \u001b[1m1s\u001b[0m 2ms/step - acc: 0.8678 - loss: 0.3162\n",
      "Epoch 10/50\n",
      "\u001b[1m423/423\u001b[0m \u001b[32m━━━━━━━━━━━━━━━━━━━━\u001b[0m\u001b[37m\u001b[0m \u001b[1m1s\u001b[0m 1ms/step - acc: 0.8822 - loss: 0.2839\n",
      "Epoch 11/50\n",
      "\u001b[1m423/423\u001b[0m \u001b[32m━━━━━━━━━━━━━━━━━━━━\u001b[0m\u001b[37m\u001b[0m \u001b[1m1s\u001b[0m 1ms/step - acc: 0.8788 - loss: 0.2899\n",
      "Epoch 12/50\n",
      "\u001b[1m423/423\u001b[0m \u001b[32m━━━━━━━━━━━━━━━━━━━━\u001b[0m\u001b[37m\u001b[0m \u001b[1m1s\u001b[0m 1ms/step - acc: 0.8800 - loss: 0.2807\n",
      "Epoch 13/50\n",
      "\u001b[1m423/423\u001b[0m \u001b[32m━━━━━━━━━━━━━━━━━━━━\u001b[0m\u001b[37m\u001b[0m \u001b[1m1s\u001b[0m 1ms/step - acc: 0.8824 - loss: 0.2844\n",
      "Epoch 14/50\n",
      "\u001b[1m423/423\u001b[0m \u001b[32m━━━━━━━━━━━━━━━━━━━━\u001b[0m\u001b[37m\u001b[0m \u001b[1m1s\u001b[0m 2ms/step - acc: 0.8965 - loss: 0.2575\n",
      "Epoch 15/50\n",
      "\u001b[1m423/423\u001b[0m \u001b[32m━━━━━━━━━━━━━━━━━━━━\u001b[0m\u001b[37m\u001b[0m \u001b[1m1s\u001b[0m 2ms/step - acc: 0.8981 - loss: 0.2496\n",
      "Epoch 16/50\n",
      "\u001b[1m423/423\u001b[0m \u001b[32m━━━━━━━━━━━━━━━━━━━━\u001b[0m\u001b[37m\u001b[0m \u001b[1m1s\u001b[0m 2ms/step - acc: 0.9047 - loss: 0.2400\n",
      "Epoch 17/50\n",
      "\u001b[1m423/423\u001b[0m \u001b[32m━━━━━━━━━━━━━━━━━━━━\u001b[0m\u001b[37m\u001b[0m \u001b[1m1s\u001b[0m 2ms/step - acc: 0.9122 - loss: 0.2228\n",
      "Epoch 18/50\n",
      "\u001b[1m423/423\u001b[0m \u001b[32m━━━━━━━━━━━━━━━━━━━━\u001b[0m\u001b[37m\u001b[0m \u001b[1m1s\u001b[0m 2ms/step - acc: 0.9133 - loss: 0.2150\n",
      "Epoch 19/50\n",
      "\u001b[1m423/423\u001b[0m \u001b[32m━━━━━━━━━━━━━━━━━━━━\u001b[0m\u001b[37m\u001b[0m \u001b[1m1s\u001b[0m 2ms/step - acc: 0.9195 - loss: 0.2098\n",
      "Epoch 20/50\n",
      "\u001b[1m423/423\u001b[0m \u001b[32m━━━━━━━━━━━━━━━━━━━━\u001b[0m\u001b[37m\u001b[0m \u001b[1m1s\u001b[0m 2ms/step - acc: 0.9210 - loss: 0.1991\n",
      "Epoch 21/50\n",
      "\u001b[1m423/423\u001b[0m \u001b[32m━━━━━━━━━━━━━━━━━━━━\u001b[0m\u001b[37m\u001b[0m \u001b[1m1s\u001b[0m 2ms/step - acc: 0.9191 - loss: 0.1989\n",
      "Epoch 22/50\n",
      "\u001b[1m423/423\u001b[0m \u001b[32m━━━━━━━━━━━━━━━━━━━━\u001b[0m\u001b[37m\u001b[0m \u001b[1m1s\u001b[0m 2ms/step - acc: 0.9321 - loss: 0.1817\n",
      "Epoch 23/50\n",
      "\u001b[1m423/423\u001b[0m \u001b[32m━━━━━━━━━━━━━━━━━━━━\u001b[0m\u001b[37m\u001b[0m \u001b[1m1s\u001b[0m 2ms/step - acc: 0.9253 - loss: 0.1879\n",
      "Epoch 24/50\n",
      "\u001b[1m423/423\u001b[0m \u001b[32m━━━━━━━━━━━━━━━━━━━━\u001b[0m\u001b[37m\u001b[0m \u001b[1m1s\u001b[0m 1ms/step - acc: 0.9295 - loss: 0.1771\n",
      "Epoch 25/50\n",
      "\u001b[1m423/423\u001b[0m \u001b[32m━━━━━━━━━━━━━━━━━━━━\u001b[0m\u001b[37m\u001b[0m \u001b[1m1s\u001b[0m 1ms/step - acc: 0.9296 - loss: 0.1726\n",
      "Epoch 26/50\n",
      "\u001b[1m423/423\u001b[0m \u001b[32m━━━━━━━━━━━━━━━━━━━━\u001b[0m\u001b[37m\u001b[0m \u001b[1m1s\u001b[0m 2ms/step - acc: 0.9285 - loss: 0.1789\n",
      "Epoch 27/50\n",
      "\u001b[1m423/423\u001b[0m \u001b[32m━━━━━━━━━━━━━━━━━━━━\u001b[0m\u001b[37m\u001b[0m \u001b[1m1s\u001b[0m 2ms/step - acc: 0.9358 - loss: 0.1668\n",
      "Epoch 28/50\n",
      "\u001b[1m423/423\u001b[0m \u001b[32m━━━━━━━━━━━━━━━━━━━━\u001b[0m\u001b[37m\u001b[0m \u001b[1m1s\u001b[0m 2ms/step - acc: 0.9377 - loss: 0.1618\n",
      "Epoch 29/50\n",
      "\u001b[1m423/423\u001b[0m \u001b[32m━━━━━━━━━━━━━━━━━━━━\u001b[0m\u001b[37m\u001b[0m \u001b[1m1s\u001b[0m 2ms/step - acc: 0.9362 - loss: 0.1663\n",
      "Epoch 30/50\n",
      "\u001b[1m423/423\u001b[0m \u001b[32m━━━━━━━━━━━━━━━━━━━━\u001b[0m\u001b[37m\u001b[0m \u001b[1m1s\u001b[0m 2ms/step - acc: 0.9352 - loss: 0.1693\n",
      "Epoch 31/50\n",
      "\u001b[1m423/423\u001b[0m \u001b[32m━━━━━━━━━━━━━━━━━━━━\u001b[0m\u001b[37m\u001b[0m \u001b[1m1s\u001b[0m 2ms/step - acc: 0.9320 - loss: 0.1706\n",
      "Epoch 32/50\n",
      "\u001b[1m423/423\u001b[0m \u001b[32m━━━━━━━━━━━━━━━━━━━━\u001b[0m\u001b[37m\u001b[0m \u001b[1m1s\u001b[0m 2ms/step - acc: 0.9397 - loss: 0.1561\n",
      "Epoch 33/50\n",
      "\u001b[1m423/423\u001b[0m \u001b[32m━━━━━━━━━━━━━━━━━━━━\u001b[0m\u001b[37m\u001b[0m \u001b[1m1s\u001b[0m 2ms/step - acc: 0.9422 - loss: 0.1459\n",
      "Epoch 34/50\n",
      "\u001b[1m423/423\u001b[0m \u001b[32m━━━━━━━━━━━━━━━━━━━━\u001b[0m\u001b[37m\u001b[0m \u001b[1m1s\u001b[0m 2ms/step - acc: 0.9311 - loss: 0.1656\n",
      "Epoch 35/50\n",
      "\u001b[1m423/423\u001b[0m \u001b[32m━━━━━━━━━━━━━━━━━━━━\u001b[0m\u001b[37m\u001b[0m \u001b[1m1s\u001b[0m 2ms/step - acc: 0.9340 - loss: 0.1601\n",
      "Epoch 36/50\n",
      "\u001b[1m423/423\u001b[0m \u001b[32m━━━━━━━━━━━━━━━━━━━━\u001b[0m\u001b[37m\u001b[0m \u001b[1m1s\u001b[0m 2ms/step - acc: 0.9378 - loss: 0.1561\n",
      "Epoch 37/50\n",
      "\u001b[1m423/423\u001b[0m \u001b[32m━━━━━━━━━━━━━━━━━━━━\u001b[0m\u001b[37m\u001b[0m \u001b[1m1s\u001b[0m 2ms/step - acc: 0.9375 - loss: 0.1513\n",
      "Epoch 38/50\n",
      "\u001b[1m423/423\u001b[0m \u001b[32m━━━━━━━━━━━━━━━━━━━━\u001b[0m\u001b[37m\u001b[0m \u001b[1m1s\u001b[0m 2ms/step - acc: 0.9354 - loss: 0.1555\n",
      "Epoch 39/50\n",
      "\u001b[1m423/423\u001b[0m \u001b[32m━━━━━━━━━━━━━━━━━━━━\u001b[0m\u001b[37m\u001b[0m \u001b[1m1s\u001b[0m 2ms/step - acc: 0.9369 - loss: 0.1489\n",
      "Epoch 40/50\n",
      "\u001b[1m423/423\u001b[0m \u001b[32m━━━━━━━━━━━━━━━━━━━━\u001b[0m\u001b[37m\u001b[0m \u001b[1m1s\u001b[0m 2ms/step - acc: 0.9404 - loss: 0.1475\n",
      "Epoch 41/50\n",
      "\u001b[1m423/423\u001b[0m \u001b[32m━━━━━━━━━━━━━━━━━━━━\u001b[0m\u001b[37m\u001b[0m \u001b[1m1s\u001b[0m 2ms/step - acc: 0.9381 - loss: 0.1528\n",
      "Epoch 42/50\n",
      "\u001b[1m423/423\u001b[0m \u001b[32m━━━━━━━━━━━━━━━━━━━━\u001b[0m\u001b[37m\u001b[0m \u001b[1m1s\u001b[0m 2ms/step - acc: 0.9359 - loss: 0.1525\n",
      "Epoch 43/50\n",
      "\u001b[1m423/423\u001b[0m \u001b[32m━━━━━━━━━━━━━━━━━━━━\u001b[0m\u001b[37m\u001b[0m \u001b[1m1s\u001b[0m 2ms/step - acc: 0.9315 - loss: 0.1627\n",
      "Epoch 44/50\n",
      "\u001b[1m423/423\u001b[0m \u001b[32m━━━━━━━━━━━━━━━━━━━━\u001b[0m\u001b[37m\u001b[0m \u001b[1m1s\u001b[0m 1ms/step - acc: 0.9375 - loss: 0.1527\n",
      "Epoch 45/50\n",
      "\u001b[1m423/423\u001b[0m \u001b[32m━━━━━━━━━━━━━━━━━━━━\u001b[0m\u001b[37m\u001b[0m \u001b[1m1s\u001b[0m 2ms/step - acc: 0.9452 - loss: 0.1408\n",
      "Epoch 46/50\n",
      "\u001b[1m423/423\u001b[0m \u001b[32m━━━━━━━━━━━━━━━━━━━━\u001b[0m\u001b[37m\u001b[0m \u001b[1m1s\u001b[0m 1ms/step - acc: 0.9399 - loss: 0.1435\n",
      "Epoch 47/50\n",
      "\u001b[1m423/423\u001b[0m \u001b[32m━━━━━━━━━━━━━━━━━━━━\u001b[0m\u001b[37m\u001b[0m \u001b[1m1s\u001b[0m 1ms/step - acc: 0.9371 - loss: 0.1531\n",
      "Epoch 48/50\n",
      "\u001b[1m423/423\u001b[0m \u001b[32m━━━━━━━━━━━━━━━━━━━━\u001b[0m\u001b[37m\u001b[0m \u001b[1m1s\u001b[0m 2ms/step - acc: 0.9377 - loss: 0.1481\n",
      "Epoch 49/50\n",
      "\u001b[1m423/423\u001b[0m \u001b[32m━━━━━━━━━━━━━━━━━━━━\u001b[0m\u001b[37m\u001b[0m \u001b[1m1s\u001b[0m 2ms/step - acc: 0.9429 - loss: 0.1375\n",
      "Epoch 50/50\n",
      "\u001b[1m423/423\u001b[0m \u001b[32m━━━━━━━━━━━━━━━━━━━━\u001b[0m\u001b[37m\u001b[0m \u001b[1m1s\u001b[0m 2ms/step - acc: 0.9415 - loss: 0.1458\n"
     ]
    }
   ],
   "source": [
    "logdir = \"logs/scalars/\" + datetime.now().strftime(\"%Y%m%d-%H%M%S\")\n",
    "tensorboard_callback = tf.keras.callbacks.TensorBoard(log_dir=logdir)\n",
    "with tf.device('/gpu:0'):\n",
    "    history = model.fit(x = X_train, y = y_train,  epochs = 50, verbose = 1, callbacks=[tensorboard_callback])"
   ]
  },
  {
   "cell_type": "code",
   "execution_count": 221,
   "id": "7075a533-d7b5-4692-9e74-af6f643a1fbe",
   "metadata": {},
   "outputs": [
    {
     "data": {
      "text/html": [
       "\n",
       "      <iframe id=\"tensorboard-frame-cb4d4d90edeb04ee\" width=\"100%\" height=\"800\" frameborder=\"0\">\n",
       "      </iframe>\n",
       "      <script>\n",
       "        (function() {\n",
       "          const frame = document.getElementById(\"tensorboard-frame-cb4d4d90edeb04ee\");\n",
       "          const url = new URL(\"/\", window.location);\n",
       "          const port = 6006;\n",
       "          if (port) {\n",
       "            url.port = port;\n",
       "          }\n",
       "          frame.src = url;\n",
       "        })();\n",
       "      </script>\n",
       "    "
      ],
      "text/plain": [
       "<IPython.core.display.HTML object>"
      ]
     },
     "metadata": {},
     "output_type": "display_data"
    }
   ],
   "source": [
    "%tensorboard --logdir logs/scalars"
   ]
  },
  {
   "cell_type": "code",
   "execution_count": 225,
   "id": "b605d674-cccb-4348-a1ae-4638e983e597",
   "metadata": {},
   "outputs": [
    {
     "data": {
      "text/plain": [
       "['Air temperature [K]',\n",
       " 'Process temperature [K]',\n",
       " 'Rotational speed [rpm]',\n",
       " 'Torque [Nm]',\n",
       " 'Tool wear [min]',\n",
       " 'TWF',\n",
       " 'HDF',\n",
       " 'PWF',\n",
       " 'OSF',\n",
       " 'RNF',\n",
       " 'Type_L',\n",
       " 'Type_M']"
      ]
     },
     "execution_count": 225,
     "metadata": {},
     "output_type": "execute_result"
    }
   ],
   "source": []
  },
  {
   "cell_type": "code",
   "execution_count": 230,
   "id": "268a2589-30d8-412b-875c-585c62a10f39",
   "metadata": {},
   "outputs": [
    {
     "data": {
      "text/plain": [
       "(12, 5797)"
      ]
     },
     "execution_count": 230,
     "metadata": {},
     "output_type": "execute_result"
    }
   ],
   "source": [
    "np.transpose(X_test).shape"
   ]
  },
  {
   "cell_type": "code",
   "execution_count": 247,
   "id": "eb8ab374-96d9-4a23-b01c-1f9ed4266d65",
   "metadata": {},
   "outputs": [
    {
     "name": "stdout",
     "output_type": "stream",
     "text": [
      "\u001b[1m182/182\u001b[0m \u001b[32m━━━━━━━━━━━━━━━━━━━━\u001b[0m\u001b[37m\u001b[0m \u001b[1m0s\u001b[0m 723us/step\n"
     ]
    },
    {
     "data": {
      "text/html": [
       "<table>\n",
       "    <thead>\n",
       "        <tr>\n",
       "            <th>class</th>\n",
       "            <th>0</th>\n",
       "            <th>1</th>\n",
       "        </tr>\n",
       "    </thead>\n",
       "    <tbody>\n",
       "        <tr>\n",
       "            <td>0</td>\n",
       "            <td>2907</td>\n",
       "            <td>0</td>\n",
       "        </tr>\n",
       "        <tr>\n",
       "            <td>1</td>\n",
       "            <td>1028</td>\n",
       "            <td>1862</td>\n",
       "        </tr>\n",
       "    </tbody>\n",
       "</table>"
      ],
      "text/plain": [
       "+-------+------+------+\n",
       "| class |  0   |  1   |\n",
       "+-------+------+------+\n",
       "|   0   | 2907 |  0   |\n",
       "|   1   | 1028 | 1862 |\n",
       "+-------+------+------+"
      ]
     },
     "execution_count": 247,
     "metadata": {},
     "output_type": "execute_result"
    }
   ],
   "source": [
    "y_pred = model.predict(X_test)\n",
    "labels = tf.constant(y_test,dtype = tf.int32)\n",
    "predictions = tf.constant(y_pred,dtype = tf.int32)\n",
    "cm = tf.math.confusion_matrix(\n",
    "    labels,\n",
    "    predictions,\n",
    "    num_classes=2\n",
    ")\n",
    "\n",
    "confusion_table = PrettyTable()\n",
    "confusion_table.field_names = [\"class\", \"0\", \"1\"]\n",
    "confusion_table.add_row([\"0\"]+ cm.numpy().tolist()[0])\n",
    "confusion_table.add_row([\"1\"]+ cm.numpy().tolist()[1])\n",
    "\n",
    "confusion_table"
   ]
  },
  {
   "cell_type": "code",
   "execution_count": 238,
   "id": "1438f8ec-86e8-4e9e-840a-0cbd51576174",
   "metadata": {},
   "outputs": [
    {
     "data": {
      "text/plain": [
       "[[2907, 0], [1028, 1862]]"
      ]
     },
     "execution_count": 238,
     "metadata": {},
     "output_type": "execute_result"
    }
   ],
   "source": [
    "cm.numpy().tolist()"
   ]
  },
  {
   "cell_type": "code",
   "execution_count": 197,
   "id": "4581987c-e51d-4645-bc5e-783440e6b03d",
   "metadata": {},
   "outputs": [],
   "source": [
    "# y_pred = model.predict(X_test)\n",
    "# accuracy = model.loss(y_pred, y_test)\n",
    "\n",
    "# print(\"Accuracy : \", accuracy)"
   ]
  },
  {
   "cell_type": "code",
   "execution_count": 198,
   "id": "da802eef-ed7e-4d32-90af-5c5386268588",
   "metadata": {},
   "outputs": [],
   "source": [
    "loss_train, train_acc = model.evaluate(X_test, y_test, verbose = 0)"
   ]
  },
  {
   "cell_type": "code",
   "execution_count": 199,
   "id": "108a25eb-a75a-4021-88a0-e22ce7892e0f",
   "metadata": {},
   "outputs": [
    {
     "data": {
      "text/plain": [
       "(5797,)"
      ]
     },
     "execution_count": 199,
     "metadata": {},
     "output_type": "execute_result"
    }
   ],
   "source": [
    "y_test.shape"
   ]
  },
  {
   "cell_type": "code",
   "execution_count": 200,
   "id": "5f2ecf91-719c-423b-b6a2-ed782f5ad8ba",
   "metadata": {
    "scrolled": true
   },
   "outputs": [],
   "source": [
    "def create_simple_drift(X, y, number_of_datasets = 1, offset = 1.0):\n",
    "    dataset_dict = {}\n",
    "    temp_x_list = []\n",
    "    \n",
    "    for i in range(number_of_datasets-1):\n",
    "        iterr = 0\n",
    "        temp_x_list = []\n",
    "        for j in range(len(X[1,:])):\n",
    "            temp_x = np.array([0])\n",
    "            if j % 2 == 0 :\n",
    "                temp_x = X[:,j] * offset * i+1\n",
    "                temp_x_list.append(temp_x.tolist())\n",
    "            else:\n",
    "                temp_x = X[:,j]\n",
    "                temp_x_list.append(temp_x.tolist())\n",
    "            \n",
    "        dataset_dict[i] = [temp_x_list, y]\n",
    "    return dataset_dict"
   ]
  },
  {
   "cell_type": "code",
   "execution_count": 201,
   "id": "dcc9908d-f440-4b34-91bd-53aadb703990",
   "metadata": {},
   "outputs": [],
   "source": [
    "d = create_simple_drift(X_test,y_test, 3, offset = 2)"
   ]
  },
  {
   "cell_type": "code",
   "execution_count": 210,
   "id": "1bbf72d9-e47e-467f-ada9-8db5a94bfdde",
   "metadata": {
    "scrolled": true
   },
   "outputs": [],
   "source": [
    "X_drift_test = np.transpose(np.array(d[0][0]))\n",
    "y_drift_test = np.array(d[0][1])\n",
    "\n",
    "X_drift_test1 = np.transpose(np.array(d[1][0]))\n",
    "y_drift_test1 = np.array(d[1][1])\n",
    "\n",
    "loss_test1, test1_acc = model.evaluate(X_drift_test, y_drift_test, verbose = 0)\n",
    "loss_test2, test2_acc = model.evaluate(X_drift_test1, y_drift_test1, verbose = 0)"
   ]
  },
  {
   "cell_type": "code",
   "execution_count": 203,
   "id": "e81db0fb-5d3f-4413-b761-58ed8500ddd8",
   "metadata": {},
   "outputs": [],
   "source": [
    "similarity1 = scipy.stats.kstest(X_test, X_drift_test)[0].tolist()\n",
    "similarity2 = scipy.stats.kstest(X_test, X_drift_test1)[0].tolist()\n",
    "similarity1 = [round(elem, 3) for elem in similarity1]\n",
    "similarity2 = [round(elem, 3) for elem in similarity2]"
   ]
  },
  {
   "cell_type": "code",
   "execution_count": 204,
   "id": "01de0b15-4f2b-46b5-8699-6162ca036ccd",
   "metadata": {},
   "outputs": [
    {
     "name": "stderr",
     "output_type": "stream",
     "text": [
      "/usr/local/lib/python3.10/dist-packages/scipy/stats/_axis_nan_policy.py:605: RuntimeWarning: Precision loss occurred in moment calculation due to catastrophic cancellation. This occurs when the data are nearly identical. Results may be unreliable.\n",
      "  res = hypotest_fun_out(*samples, axis=axis, **kwds)\n"
     ]
    }
   ],
   "source": [
    "ttest1 = scipy.stats.ttest_ind(a=X_test, b=X_drift_test, equal_var=True)[0].tolist()\n",
    "ttest2 = scipy.stats.ttest_ind(a=X_test, b=X_drift_test1, equal_var=True)[0].tolist()\n",
    "ttest1 = [round(elem, 3) for elem in ttest1]\n",
    "ttest2 = [round(elem, 3) for elem in ttest2]"
   ]
  },
  {
   "cell_type": "code",
   "execution_count": 205,
   "id": "138577df-613a-40ce-b74d-74757ad76805",
   "metadata": {
    "scrolled": true
   },
   "outputs": [],
   "source": [
    "jb_org1 = X_test.tolist()\n",
    "jb_set1 = X_drift_test.tolist()\n",
    "for i in jb_set1:\n",
    "    jb_org.append(i)\n",
    "\n",
    "jb_org2 = X_test.tolist()\n",
    "jb_set2 = X_drift_test1.tolist()\n",
    "for i in jb_set2:\n",
    "    jb_org2.append(i)"
   ]
  },
  {
   "cell_type": "code",
   "execution_count": 206,
   "id": "1d7a2dd9-53e5-408c-a88f-b8716c902006",
   "metadata": {},
   "outputs": [],
   "source": [
    "np.array(jb_org2)[:,0]\n",
    "jbtest1 = []\n",
    "jbtest2 = []\n",
    "for i in range(len(np.array(jb_org2)[1])):\n",
    "    jbtest1.append(round(scipy.stats.jarque_bera(np.array(jb_org1)[:,i])[0], 3))\n",
    "    jbtest2.append(round(scipy.stats.jarque_bera(np.array(jb_org2)[:,i])[0],3))"
   ]
  },
  {
   "cell_type": "code",
   "execution_count": 207,
   "id": "a2e89fc9-ba78-4ce1-9e84-86a1e844004c",
   "metadata": {},
   "outputs": [],
   "source": [
    "from prettytable import PrettyTable\n",
    "table1 = PrettyTable()\n",
    "\n",
    "table1.field_names = [\"Statistics\"] + df_main.columns.tolist()[:-1]\n",
    "table1.add_row([\"KS_stat\"] + similarity1)\n",
    "table1.add_row([\"Double_T_test\"] + ttest1)\n",
    "table1.add_row([\"JB_test\"] + jbtest1)\n",
    "\n",
    "table2 = PrettyTable()\n",
    "\n",
    "table2.field_names = [\"Statistics\"] + df_main.columns.tolist()[:-1]\n",
    "table2.add_row([\"KS_stat\"] + similarity2)\n",
    "table2.add_row([\"Double_T_test\"] + ttest2)\n",
    "table2.add_row([\"JB_test\"] + jbtest2)"
   ]
  },
  {
   "cell_type": "code",
   "execution_count": 208,
   "id": "ed64fc3b-ccc5-40c8-aeed-93a0f359ef3f",
   "metadata": {},
   "outputs": [
    {
     "data": {
      "text/html": [
       "<table>\n",
       "    <thead>\n",
       "        <tr>\n",
       "            <th>Statistics</th>\n",
       "            <th>Air temperature [K]</th>\n",
       "            <th>Process temperature [K]</th>\n",
       "            <th>Rotational speed [rpm]</th>\n",
       "            <th>Torque [Nm]</th>\n",
       "            <th>Tool wear [min]</th>\n",
       "            <th>TWF</th>\n",
       "            <th>HDF</th>\n",
       "            <th>PWF</th>\n",
       "            <th>OSF</th>\n",
       "            <th>RNF</th>\n",
       "            <th>Type_L</th>\n",
       "            <th>Type_M</th>\n",
       "        </tr>\n",
       "    </thead>\n",
       "    <tbody>\n",
       "        <tr>\n",
       "            <td>KS_stat</td>\n",
       "            <td>1.0</td>\n",
       "            <td>0.0</td>\n",
       "            <td>1.0</td>\n",
       "            <td>0.0</td>\n",
       "            <td>0.991</td>\n",
       "            <td>0.0</td>\n",
       "            <td>0.87</td>\n",
       "            <td>0.0</td>\n",
       "            <td>0.883</td>\n",
       "            <td>0.0</td>\n",
       "            <td>0.448</td>\n",
       "            <td>0.0</td>\n",
       "        </tr>\n",
       "        <tr>\n",
       "            <td>Double_T_test</td>\n",
       "            <td>11593.18</td>\n",
       "            <td>-0.0</td>\n",
       "            <td>398.651</td>\n",
       "            <td>-0.0</td>\n",
       "            <td>131.193</td>\n",
       "            <td>0.0</td>\n",
       "            <td>-197.04</td>\n",
       "            <td>0.0</td>\n",
       "            <td>-209.19</td>\n",
       "            <td>0.0</td>\n",
       "            <td>-68.537</td>\n",
       "            <td>0.0</td>\n",
       "        </tr>\n",
       "        <tr>\n",
       "            <td>JB_test</td>\n",
       "            <td>268.54</td>\n",
       "            <td>55.872</td>\n",
       "            <td>22469.698</td>\n",
       "            <td>236.852</td>\n",
       "            <td>432.148</td>\n",
       "            <td>100758.261</td>\n",
       "            <td>6642.737</td>\n",
       "            <td>19992.475</td>\n",
       "            <td>8766.003</td>\n",
       "            <td>505219433.804</td>\n",
       "            <td>966.642</td>\n",
       "            <td>2571.209</td>\n",
       "        </tr>\n",
       "    </tbody>\n",
       "</table>"
      ],
      "text/plain": [
       "+---------------+---------------------+-------------------------+------------------------+-------------+-----------------+------------+----------+-----------+----------+---------------+---------+----------+\n",
       "|   Statistics  | Air temperature [K] | Process temperature [K] | Rotational speed [rpm] | Torque [Nm] | Tool wear [min] |    TWF     |   HDF    |    PWF    |   OSF    |      RNF      |  Type_L |  Type_M  |\n",
       "+---------------+---------------------+-------------------------+------------------------+-------------+-----------------+------------+----------+-----------+----------+---------------+---------+----------+\n",
       "|    KS_stat    |         1.0         |           0.0           |          1.0           |     0.0     |      0.991      |    0.0     |   0.87   |    0.0    |  0.883   |      0.0      |  0.448  |   0.0    |\n",
       "| Double_T_test |       11593.18      |           -0.0          |        398.651         |     -0.0    |     131.193     |    0.0     | -197.04  |    0.0    | -209.19  |      0.0      | -68.537 |   0.0    |\n",
       "|    JB_test    |        268.54       |          55.872         |       22469.698        |   236.852   |     432.148     | 100758.261 | 6642.737 | 19992.475 | 8766.003 | 505219433.804 | 966.642 | 2571.209 |\n",
       "+---------------+---------------------+-------------------------+------------------------+-------------+-----------------+------------+----------+-----------+----------+---------------+---------+----------+"
      ]
     },
     "execution_count": 208,
     "metadata": {},
     "output_type": "execute_result"
    }
   ],
   "source": [
    "table1"
   ]
  },
  {
   "cell_type": "code",
   "execution_count": 209,
   "id": "7f49e167-ec2e-40f9-9072-1f65a5bd65bf",
   "metadata": {},
   "outputs": [
    {
     "data": {
      "text/html": [
       "<table>\n",
       "    <thead>\n",
       "        <tr>\n",
       "            <th>Statistics</th>\n",
       "            <th>Air temperature [K]</th>\n",
       "            <th>Process temperature [K]</th>\n",
       "            <th>Rotational speed [rpm]</th>\n",
       "            <th>Torque [Nm]</th>\n",
       "            <th>Tool wear [min]</th>\n",
       "            <th>TWF</th>\n",
       "            <th>HDF</th>\n",
       "            <th>PWF</th>\n",
       "            <th>OSF</th>\n",
       "            <th>RNF</th>\n",
       "            <th>Type_L</th>\n",
       "            <th>Type_M</th>\n",
       "        </tr>\n",
       "    </thead>\n",
       "    <tbody>\n",
       "        <tr>\n",
       "            <td>KS_stat</td>\n",
       "            <td>1.0</td>\n",
       "            <td>0.0</td>\n",
       "            <td>0.96</td>\n",
       "            <td>0.0</td>\n",
       "            <td>0.521</td>\n",
       "            <td>0.0</td>\n",
       "            <td>0.87</td>\n",
       "            <td>0.0</td>\n",
       "            <td>0.883</td>\n",
       "            <td>0.0</td>\n",
       "            <td>0.552</td>\n",
       "            <td>0.0</td>\n",
       "        </tr>\n",
       "        <tr>\n",
       "            <td>Double_T_test</td>\n",
       "            <td>-5219.257</td>\n",
       "            <td>-0.0</td>\n",
       "            <td>-178.518</td>\n",
       "            <td>-0.0</td>\n",
       "            <td>-59.638</td>\n",
       "            <td>0.0</td>\n",
       "            <td>-114.429</td>\n",
       "            <td>0.0</td>\n",
       "            <td>-118.335</td>\n",
       "            <td>0.0</td>\n",
       "            <td>-106.29</td>\n",
       "            <td>0.0</td>\n",
       "        </tr>\n",
       "        <tr>\n",
       "            <td>JB_test</td>\n",
       "            <td>1929.06</td>\n",
       "            <td>111.743</td>\n",
       "            <td>1757.905</td>\n",
       "            <td>473.704</td>\n",
       "            <td>843.474</td>\n",
       "            <td>201516.522</td>\n",
       "            <td>6591.935</td>\n",
       "            <td>39984.949</td>\n",
       "            <td>7102.211</td>\n",
       "            <td>1010438867.609</td>\n",
       "            <td>1157.846</td>\n",
       "            <td>5142.418</td>\n",
       "        </tr>\n",
       "    </tbody>\n",
       "</table>"
      ],
      "text/plain": [
       "+---------------+---------------------+-------------------------+------------------------+-------------+-----------------+------------+----------+-----------+----------+----------------+----------+----------+\n",
       "|   Statistics  | Air temperature [K] | Process temperature [K] | Rotational speed [rpm] | Torque [Nm] | Tool wear [min] |    TWF     |   HDF    |    PWF    |   OSF    |      RNF       |  Type_L  |  Type_M  |\n",
       "+---------------+---------------------+-------------------------+------------------------+-------------+-----------------+------------+----------+-----------+----------+----------------+----------+----------+\n",
       "|    KS_stat    |         1.0         |           0.0           |          0.96          |     0.0     |      0.521      |    0.0     |   0.87   |    0.0    |  0.883   |      0.0       |  0.552   |   0.0    |\n",
       "| Double_T_test |      -5219.257      |           -0.0          |        -178.518        |     -0.0    |     -59.638     |    0.0     | -114.429 |    0.0    | -118.335 |      0.0       | -106.29  |   0.0    |\n",
       "|    JB_test    |       1929.06       |         111.743         |        1757.905        |   473.704   |     843.474     | 201516.522 | 6591.935 | 39984.949 | 7102.211 | 1010438867.609 | 1157.846 | 5142.418 |\n",
       "+---------------+---------------------+-------------------------+------------------------+-------------+-----------------+------------+----------+-----------+----------+----------------+----------+----------+"
      ]
     },
     "execution_count": 209,
     "metadata": {},
     "output_type": "execute_result"
    }
   ],
   "source": [
    "table2"
   ]
  },
  {
   "cell_type": "code",
   "execution_count": 211,
   "id": "ce7292ac-7d1c-4eef-843c-f6c208c25ea2",
   "metadata": {},
   "outputs": [
    {
     "data": {
      "text/plain": [
       "[<matplotlib.lines.Line2D at 0x7f433144b6d0>]"
      ]
     },
     "execution_count": 211,
     "metadata": {},
     "output_type": "execute_result"
    },
    {
     "data": {
      "image/png": "[encoded data removed]",
      "text/plain": [
       "<Figure size 640x480 with 1 Axes>"
      ]
     },
     "metadata": {},
     "output_type": "display_data"
    }
   ],
   "source": [
    "y = []\n",
    "y.append(train_acc)\n",
    "y.append(test1_acc)\n",
    "y.append(test2_acc)\n",
    "\n",
    "X = [\"original_ds\", \"drift_ds1\", \"drift_ds2\"]\n",
    "plt.plot(X, y)"
   ]
  },
  {
   "cell_type": "code",
   "execution_count": 563,
   "id": "c610078d-ea24-477a-ac79-7c3fb640b155",
   "metadata": {},
   "outputs": [],
   "source": [
    "ddm = DDM(min_num_instances=30, warning_level=1.0, out_control_level=1.0)\n",
    "h = X_test[:, 0] + X_drift_test[:, 4]\n",
    "for i in h:\n",
    "    ddm.add_element(i)\n",
    "    if ddm.detected_warning_zone():\n",
    "        print('Warning zone has been detected in data: ' + str(data_stream[i]) + ' - of index: ' + str(i))\n",
    "    if ddm.detected_change():\n",
    "        print('Change has been detected in data: ' + str(data_stream[i]) + ' - of index: ' + str(i))"
   ]
  },
  {
   "cell_type": "code",
   "execution_count": 249,
   "id": "24ac0b8a-5653-4f1d-a25f-7f1b4eeea59a",
   "metadata": {},
   "outputs": [],
   "source": [
    "ddm = EDDM()\n",
    "h = X_test[:, 0] + X_drift_test[:, 4]\n",
    "for i in h:\n",
    "    ddm.add_element(i)\n",
    "    if ddm.detected_warning_zone():\n",
    "        print('Warning zone has been detected in data: ' + str(data_stream[i]) + ' - of index: ' + str(i))\n",
    "    if ddm.detected_change():\n",
    "        print('Change has been detected in data: ' + str(data_stream[i]) + ' - of index: ' + str(i))"
   ]
  },
  {
   "cell_type": "code",
   "execution_count": 568,
   "id": "f28a7d60-115e-40cd-98ea-4ab3141d3635",
   "metadata": {
    "scrolled": true
   },
   "outputs": [
    {
     "name": "stdout",
     "output_type": "stream",
     "text": [
      "Change has been detected in data: 1 - of index: 56\n",
      "Warning zone has been detected in data: 1 - of index: 129\n",
      "Warning zone has been detected in data: 0 - of index: 130\n",
      "Warning zone has been detected in data: 0 - of index: 131\n",
      "Warning zone has been detected in data: 0 - of index: 132\n",
      "Warning zone has been detected in data: 1 - of index: 163\n",
      "Warning zone has been detected in data: 0 - of index: 164\n",
      "Warning zone has been detected in data: 1 - of index: 165\n",
      "Warning zone has been detected in data: 1 - of index: 166\n",
      "Warning zone has been detected in data: 1 - of index: 167\n",
      "Warning zone has been detected in data: 0 - of index: 168\n",
      "Warning zone has been detected in data: 0 - of index: 169\n",
      "Warning zone has been detected in data: 1 - of index: 170\n",
      "Warning zone has been detected in data: 0 - of index: 171\n",
      "Warning zone has been detected in data: 0 - of index: 172\n",
      "Warning zone has been detected in data: 1 - of index: 173\n",
      "Warning zone has been detected in data: 1 - of index: 174\n",
      "Warning zone has been detected in data: 0 - of index: 175\n",
      "Warning zone has been detected in data: 1 - of index: 176\n",
      "Warning zone has been detected in data: 1 - of index: 177\n",
      "Warning zone has been detected in data: 0 - of index: 178\n",
      "Warning zone has been detected in data: 0 - of index: 179\n",
      "Warning zone has been detected in data: 0 - of index: 180\n",
      "Warning zone has been detected in data: 0 - of index: 181\n",
      "Warning zone has been detected in data: 0 - of index: 182\n",
      "Warning zone has been detected in data: 0 - of index: 183\n",
      "Warning zone has been detected in data: 1 - of index: 224\n",
      "Warning zone has been detected in data: 1 - of index: 225\n",
      "Warning zone has been detected in data: 1 - of index: 226\n",
      "Warning zone has been detected in data: 1 - of index: 227\n",
      "Warning zone has been detected in data: 0 - of index: 228\n",
      "Warning zone has been detected in data: 0 - of index: 229\n",
      "Warning zone has been detected in data: 1 - of index: 230\n",
      "Warning zone has been detected in data: 1 - of index: 231\n",
      "Warning zone has been detected in data: 0 - of index: 232\n",
      "Warning zone has been detected in data: 1 - of index: 233\n",
      "Warning zone has been detected in data: 0 - of index: 234\n",
      "Warning zone has been detected in data: 1 - of index: 235\n",
      "Warning zone has been detected in data: 0 - of index: 236\n",
      "Warning zone has been detected in data: 1 - of index: 237\n",
      "Warning zone has been detected in data: 0 - of index: 238\n",
      "Warning zone has been detected in data: 0 - of index: 239\n",
      "Warning zone has been detected in data: 1 - of index: 240\n",
      "Warning zone has been detected in data: 0 - of index: 241\n",
      "Warning zone has been detected in data: 1 - of index: 242\n",
      "Warning zone has been detected in data: 1 - of index: 243\n",
      "Warning zone has been detected in data: 0 - of index: 244\n",
      "Warning zone has been detected in data: 0 - of index: 245\n",
      "Warning zone has been detected in data: 0 - of index: 246\n",
      "Warning zone has been detected in data: 0 - of index: 247\n",
      "Warning zone has been detected in data: 0 - of index: 248\n",
      "Warning zone has been detected in data: 1 - of index: 460\n",
      "Warning zone has been detected in data: 1 - of index: 461\n",
      "Warning zone has been detected in data: 1 - of index: 462\n",
      "Warning zone has been detected in data: 0 - of index: 463\n",
      "Warning zone has been detected in data: 0 - of index: 464\n",
      "Warning zone has been detected in data: 0 - of index: 465\n",
      "Warning zone has been detected in data: 0 - of index: 466\n",
      "Warning zone has been detected in data: 0 - of index: 467\n",
      "Warning zone has been detected in data: 1 - of index: 491\n",
      "Warning zone has been detected in data: 1 - of index: 492\n",
      "Warning zone has been detected in data: 1 - of index: 493\n",
      "Warning zone has been detected in data: 1 - of index: 494\n",
      "Warning zone has been detected in data: 0 - of index: 495\n",
      "Warning zone has been detected in data: 0 - of index: 496\n",
      "Warning zone has been detected in data: 1 - of index: 497\n",
      "Warning zone has been detected in data: 1 - of index: 498\n",
      "Warning zone has been detected in data: 0 - of index: 499\n",
      "Warning zone has been detected in data: 0 - of index: 500\n",
      "Warning zone has been detected in data: 0 - of index: 501\n",
      "Warning zone has been detected in data: 1 - of index: 502\n",
      "Warning zone has been detected in data: 0 - of index: 503\n",
      "Warning zone has been detected in data: 1 - of index: 504\n",
      "Warning zone has been detected in data: 0 - of index: 505\n",
      "Warning zone has been detected in data: 0 - of index: 506\n",
      "Warning zone has been detected in data: 0 - of index: 507\n",
      "Warning zone has been detected in data: 1 - of index: 546\n",
      "Warning zone has been detected in data: 0 - of index: 547\n",
      "Warning zone has been detected in data: 0 - of index: 548\n",
      "Warning zone has been detected in data: 1 - of index: 549\n",
      "Warning zone has been detected in data: 1 - of index: 550\n",
      "Warning zone has been detected in data: 0 - of index: 551\n",
      "Warning zone has been detected in data: 1 - of index: 552\n",
      "Warning zone has been detected in data: 1 - of index: 553\n",
      "Warning zone has been detected in data: 1 - of index: 554\n",
      "Warning zone has been detected in data: 0 - of index: 555\n",
      "Warning zone has been detected in data: 1 - of index: 556\n",
      "Warning zone has been detected in data: 0 - of index: 557\n",
      "Warning zone has been detected in data: 0 - of index: 558\n",
      "Warning zone has been detected in data: 0 - of index: 559\n",
      "Warning zone has been detected in data: 0 - of index: 560\n",
      "Warning zone has been detected in data: 0 - of index: 561\n",
      "Warning zone has been detected in data: 0 - of index: 562\n",
      "Warning zone has been detected in data: 1 - of index: 1596\n",
      "Warning zone has been detected in data: 0 - of index: 1597\n",
      "Warning zone has been detected in data: 1 - of index: 1598\n",
      "Warning zone has been detected in data: 0 - of index: 1599\n",
      "Warning zone has been detected in data: 0 - of index: 1600\n",
      "Warning zone has been detected in data: 1 - of index: 1601\n",
      "Warning zone has been detected in data: 1 - of index: 1602\n",
      "Warning zone has been detected in data: 1 - of index: 1603\n",
      "Warning zone has been detected in data: 1 - of index: 1604\n",
      "Warning zone has been detected in data: 1 - of index: 1605\n",
      "Warning zone has been detected in data: 0 - of index: 1606\n",
      "Warning zone has been detected in data: 0 - of index: 1607\n",
      "Warning zone has been detected in data: 0 - of index: 1608\n",
      "Warning zone has been detected in data: 0 - of index: 1609\n",
      "Warning zone has been detected in data: 1 - of index: 1610\n",
      "Warning zone has been detected in data: 1 - of index: 1611\n",
      "Warning zone has been detected in data: 1 - of index: 1612\n",
      "Warning zone has been detected in data: 0 - of index: 1613\n",
      "Warning zone has been detected in data: 1 - of index: 1614\n",
      "Warning zone has been detected in data: 0 - of index: 1615\n",
      "Warning zone has been detected in data: 1 - of index: 1616\n",
      "Warning zone has been detected in data: 0 - of index: 1617\n",
      "Warning zone has been detected in data: 0 - of index: 1618\n",
      "Warning zone has been detected in data: 0 - of index: 1619\n",
      "Warning zone has been detected in data: 1 - of index: 1620\n",
      "Warning zone has been detected in data: 0 - of index: 1621\n",
      "Warning zone has been detected in data: 0 - of index: 1622\n",
      "Warning zone has been detected in data: 0 - of index: 1623\n",
      "Warning zone has been detected in data: 0 - of index: 1624\n",
      "Warning zone has been detected in data: 1 - of index: 1625\n",
      "Warning zone has been detected in data: 1 - of index: 1626\n",
      "Warning zone has been detected in data: 0 - of index: 1627\n",
      "Warning zone has been detected in data: 0 - of index: 1628\n",
      "Warning zone has been detected in data: 0 - of index: 1629\n",
      "Warning zone has been detected in data: 0 - of index: 1630\n",
      "Warning zone has been detected in data: 1 - of index: 1631\n",
      "Warning zone has been detected in data: 0 - of index: 1632\n",
      "Warning zone has been detected in data: 0 - of index: 1633\n",
      "Warning zone has been detected in data: 1 - of index: 1634\n",
      "Warning zone has been detected in data: 0 - of index: 1635\n",
      "Warning zone has been detected in data: 0 - of index: 1636\n",
      "Warning zone has been detected in data: 0 - of index: 1637\n",
      "Warning zone has been detected in data: 0 - of index: 1638\n",
      "Warning zone has been detected in data: 0 - of index: 1639\n",
      "Warning zone has been detected in data: 0 - of index: 1640\n",
      "Warning zone has been detected in data: 0 - of index: 1641\n",
      "Warning zone has been detected in data: 0 - of index: 1642\n",
      "Warning zone has been detected in data: 0 - of index: 1643\n",
      "Warning zone has been detected in data: 0 - of index: 1644\n",
      "Warning zone has been detected in data: 0 - of index: 1645\n",
      "Warning zone has been detected in data: 0 - of index: 1646\n",
      "Warning zone has been detected in data: 1 - of index: 1647\n",
      "Warning zone has been detected in data: 0 - of index: 1648\n",
      "Warning zone has been detected in data: 1 - of index: 1649\n",
      "Warning zone has been detected in data: 0 - of index: 1650\n",
      "Warning zone has been detected in data: 1 - of index: 1651\n",
      "Warning zone has been detected in data: 1 - of index: 1652\n",
      "Warning zone has been detected in data: 0 - of index: 1653\n",
      "Warning zone has been detected in data: 1 - of index: 1654\n",
      "Warning zone has been detected in data: 0 - of index: 1655\n",
      "Warning zone has been detected in data: 1 - of index: 1656\n",
      "Warning zone has been detected in data: 0 - of index: 1657\n",
      "Warning zone has been detected in data: 0 - of index: 1658\n",
      "Warning zone has been detected in data: 1 - of index: 1659\n",
      "Warning zone has been detected in data: 0 - of index: 1660\n",
      "Warning zone has been detected in data: 1 - of index: 1661\n",
      "Warning zone has been detected in data: 0 - of index: 1662\n",
      "Warning zone has been detected in data: 0 - of index: 1663\n",
      "Warning zone has been detected in data: 0 - of index: 1664\n",
      "Warning zone has been detected in data: 1 - of index: 1665\n",
      "Warning zone has been detected in data: 1 - of index: 1666\n",
      "Warning zone has been detected in data: 0 - of index: 1667\n",
      "Warning zone has been detected in data: 0 - of index: 1668\n",
      "Warning zone has been detected in data: 0 - of index: 1669\n",
      "Warning zone has been detected in data: 0 - of index: 1670\n",
      "Warning zone has been detected in data: 1 - of index: 1671\n",
      "Warning zone has been detected in data: 0 - of index: 1672\n",
      "Warning zone has been detected in data: 0 - of index: 1673\n",
      "Warning zone has been detected in data: 1 - of index: 1674\n",
      "Warning zone has been detected in data: 0 - of index: 1675\n",
      "Warning zone has been detected in data: 0 - of index: 1676\n",
      "Warning zone has been detected in data: 0 - of index: 1677\n",
      "Warning zone has been detected in data: 1 - of index: 1678\n",
      "Warning zone has been detected in data: 0 - of index: 1679\n",
      "Warning zone has been detected in data: 0 - of index: 1680\n",
      "Warning zone has been detected in data: 1 - of index: 1681\n",
      "Warning zone has been detected in data: 1 - of index: 1682\n",
      "Warning zone has been detected in data: 0 - of index: 1683\n",
      "Warning zone has been detected in data: 1 - of index: 1684\n",
      "Warning zone has been detected in data: 1 - of index: 1685\n",
      "Warning zone has been detected in data: 1 - of index: 1686\n",
      "Warning zone has been detected in data: 0 - of index: 1687\n",
      "Warning zone has been detected in data: 0 - of index: 1688\n",
      "Warning zone has been detected in data: 1 - of index: 1689\n",
      "Warning zone has been detected in data: 1 - of index: 1690\n",
      "Warning zone has been detected in data: 1 - of index: 1691\n",
      "Warning zone has been detected in data: 0 - of index: 1692\n",
      "Warning zone has been detected in data: 1 - of index: 1693\n",
      "Warning zone has been detected in data: 1 - of index: 1694\n",
      "Warning zone has been detected in data: 1 - of index: 1695\n",
      "Warning zone has been detected in data: 1 - of index: 1696\n",
      "Warning zone has been detected in data: 1 - of index: 1697\n",
      "Warning zone has been detected in data: 0 - of index: 1698\n",
      "Warning zone has been detected in data: 1 - of index: 1699\n",
      "Warning zone has been detected in data: 0 - of index: 1700\n",
      "Warning zone has been detected in data: 1 - of index: 1701\n",
      "Warning zone has been detected in data: 1 - of index: 1702\n",
      "Warning zone has been detected in data: 0 - of index: 1703\n",
      "Warning zone has been detected in data: 1 - of index: 1704\n",
      "Warning zone has been detected in data: 1 - of index: 1705\n",
      "Warning zone has been detected in data: 0 - of index: 1706\n",
      "Warning zone has been detected in data: 1 - of index: 1707\n",
      "Warning zone has been detected in data: 1 - of index: 1708\n",
      "Warning zone has been detected in data: 0 - of index: 1709\n",
      "Warning zone has been detected in data: 0 - of index: 1710\n",
      "Warning zone has been detected in data: 1 - of index: 1711\n",
      "Warning zone has been detected in data: 1 - of index: 1712\n",
      "Warning zone has been detected in data: 1 - of index: 1713\n",
      "Warning zone has been detected in data: 1 - of index: 1714\n",
      "Warning zone has been detected in data: 0 - of index: 1715\n",
      "Warning zone has been detected in data: 1 - of index: 1716\n",
      "Warning zone has been detected in data: 0 - of index: 1717\n",
      "Warning zone has been detected in data: 1 - of index: 1718\n",
      "Warning zone has been detected in data: 1 - of index: 1719\n",
      "Warning zone has been detected in data: 0 - of index: 1720\n",
      "Warning zone has been detected in data: 0 - of index: 1721\n",
      "Warning zone has been detected in data: 1 - of index: 1722\n",
      "Warning zone has been detected in data: 1 - of index: 1723\n",
      "Warning zone has been detected in data: 0 - of index: 1724\n",
      "Warning zone has been detected in data: 0 - of index: 1725\n",
      "Warning zone has been detected in data: 0 - of index: 1726\n",
      "Warning zone has been detected in data: 1 - of index: 1727\n",
      "Warning zone has been detected in data: 1 - of index: 1728\n",
      "Warning zone has been detected in data: 0 - of index: 1729\n",
      "Warning zone has been detected in data: 1 - of index: 1730\n",
      "Change has been detected in data: 1 - of index: 1731\n",
      "Change has been detected in data: 1 - of index: 1790\n",
      "Change has been detected in data: 1 - of index: 1841\n",
      "Change has been detected in data: 1 - of index: 1900\n",
      "Warning zone has been detected in data: 1 - of index: 1958\n",
      "Warning zone has been detected in data: 0 - of index: 1959\n",
      "Warning zone has been detected in data: 1 - of index: 1960\n",
      "Warning zone has been detected in data: 0 - of index: 1961\n",
      "Warning zone has been detected in data: 0 - of index: 1962\n",
      "Warning zone has been detected in data: 0 - of index: 1963\n",
      "Warning zone has been detected in data: 0 - of index: 1964\n",
      "Warning zone has been detected in data: 0 - of index: 1965\n",
      "Warning zone has been detected in data: 0 - of index: 1966\n",
      "Warning zone has been detected in data: 0 - of index: 1967\n",
      "Warning zone has been detected in data: 0 - of index: 1968\n",
      "Warning zone has been detected in data: 0 - of index: 1969\n",
      "Warning zone has been detected in data: 0 - of index: 1970\n",
      "Warning zone has been detected in data: 1 - of index: 1980\n",
      "Warning zone has been detected in data: 0 - of index: 1981\n",
      "Warning zone has been detected in data: 0 - of index: 1982\n",
      "Warning zone has been detected in data: 0 - of index: 1983\n",
      "Warning zone has been detected in data: 0 - of index: 1984\n",
      "Warning zone has been detected in data: 0 - of index: 1985\n",
      "Warning zone has been detected in data: 0 - of index: 1986\n",
      "Warning zone has been detected in data: 1 - of index: 1994\n",
      "Warning zone has been detected in data: 0 - of index: 1995\n",
      "Warning zone has been detected in data: 1 - of index: 1996\n",
      "Warning zone has been detected in data: 0 - of index: 1997\n",
      "Warning zone has been detected in data: 0 - of index: 1998\n",
      "Warning zone has been detected in data: 0 - of index: 1999\n"
     ]
    }
   ],
   "source": [
    "import numpy as np\n",
    "from skmultiflow.drift_detection import DDM\n",
    "ddm = EDDM()\n",
    "# Simulating a data stream as a normal distribution of 1's and 0's\n",
    "data_stream = np.random.randint(2, size=2000)\n",
    "# Changing the data concept from index 999 to 1500, simulating an \n",
    "# increase in error rate\n",
    "for i in range(999, 1500):\n",
    "    data_stream[i] = 0\n",
    "# Adding stream elements to DDM and verifying if drift occurred\n",
    "for i in range(2000):\n",
    "    ddm.add_element(data_stream[i])\n",
    "    if ddm.detected_warning_zone():\n",
    "        print('Warning zone has been detected in data: ' + str(data_stream[i]) + ' - of index: ' + str(i))\n",
    "    if ddm.detected_change():\n",
    "        print('Change has been detected in data: ' + str(data_stream[i]) + ' - of index: ' + str(i))"
   ]
  },
  {
   "cell_type": "code",
   "execution_count": 572,
   "id": "72eb65b1-0249-4189-a5bd-cae6874c7158",
   "metadata": {},
   "outputs": [
    {
     "ename": "ModuleNotFoundError",
     "evalue": "No module named 'hddm'",
     "output_type": "error",
     "traceback": [
      "\u001b[0;31m---------------------------------------------------------------------------\u001b[0m",
      "\u001b[0;31mModuleNotFoundError\u001b[0m                       Traceback (most recent call last)",
      "Cell \u001b[0;32mIn[572], line 1\u001b[0m\n\u001b[0;32m----> 1\u001b[0m \u001b[38;5;28;01mimport\u001b[39;00m \u001b[38;5;21;01mhddm\u001b[39;00m\n\u001b[1;32m      3\u001b[0m \u001b[38;5;66;03m# Load data from csv file into a NumPy structured array\u001b[39;00m\n\u001b[1;32m      4\u001b[0m data \u001b[38;5;241m=\u001b[39m hddm\u001b[38;5;241m.\u001b[39mload_csv(\u001b[38;5;124m'\u001b[39m\u001b[38;5;124msimple_difficulty.csv\u001b[39m\u001b[38;5;124m'\u001b[39m)\n",
      "\u001b[0;31mModuleNotFoundError\u001b[0m: No module named 'hddm'"
     ]
    }
   ],
   "source": [
    "import hddm\n",
    "\n",
    "# Load data from csv file into a NumPy structured array\n",
    "data = hddm.load_csv('simple_difficulty.csv')\n",
    "\n",
    "# Create a HDDM model multi object\n",
    "model = hddm.HDDM(data, depends_on={'v':'difficulty'})\n",
    "\n",
    "# Create model and start MCMC sampling\n",
    "model.sample(2000, burn=20)\n",
    "\n",
    "# Print fitted parameters and other model statistics\n",
    "model.print_stats()\n",
    "\n",
    "# Plot posterior distributions and theoretical RT distributions\n",
    "model.plot_posteriors()\n",
    "model.plot_posterior_predictive()"
   ]
  }
 ],
 "metadata": {
  "kernelspec": {
   "display_name": "Python 3 (ipykernel)",
   "language": "python",
   "name": "python3"
  },
  "language_info": {
   "codemirror_mode": {
    "name": "ipython",
    "version": 3
   },
   "file_extension": ".py",
   "mimetype": "text/x-python",
   "name": "python",
   "nbconvert_exporter": "python",
   "pygments_lexer": "ipython3",
   "version": "3.10.12"
  }
 },
 "nbformat": 4,
 "nbformat_minor": 5
}
